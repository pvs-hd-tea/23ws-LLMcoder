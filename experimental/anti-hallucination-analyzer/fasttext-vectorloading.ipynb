{
 "cells": [
  {
   "cell_type": "code",
   "execution_count": 1,
   "metadata": {},
   "outputs": [],
   "source": [
    "import os\n",
    "import io\n",
    "\n",
    "from llmcoder.utils import get_data_dir \n",
    "\n",
    "def load_vectors(fname):\n",
    "    fin = io.open(fname, 'r', encoding='utf-8', newline='\\n', errors='ignore')\n",
    "    n, d = map(int, fin.readline().split())\n",
    "    data = {}\n",
    "    for line in fin:\n",
    "        tokens = line.rstrip().split(' ')\n",
    "        data[tokens[0]] = map(float, tokens[1:])\n",
    "    return data"
   ]
  },
  {
   "cell_type": "code",
   "execution_count": 2,
   "metadata": {},
   "outputs": [
    {
     "ename": "KeyboardInterrupt",
     "evalue": "",
     "output_type": "error",
     "traceback": [
      "\u001b[0;31m---------------------------------------------------------------------------\u001b[0m",
      "\u001b[0;31mKeyboardInterrupt\u001b[0m                         Traceback (most recent call last)",
      "\u001b[1;32m/home/kushal/Projects/llmcoder/23ws-LLMcoder/experimental/anti-hallucination-analyzer/fasttext-vectorloading.ipynb Cell 2\u001b[0m line \u001b[0;36m1\n\u001b[0;32m----> <a href='vscode-notebook-cell:/home/kushal/Projects/llmcoder/23ws-LLMcoder/experimental/anti-hallucination-analyzer/fasttext-vectorloading.ipynb#W1sZmlsZQ%3D%3D?line=0'>1</a>\u001b[0m load_vectors(os\u001b[39m.\u001b[39;49mpath\u001b[39m.\u001b[39;49mjoin(get_data_dir(), \u001b[39m\"\u001b[39;49m\u001b[39mcrawl-300d-2M.vec\u001b[39;49m\u001b[39m\"\u001b[39;49m))\n",
      "\u001b[1;32m/home/kushal/Projects/llmcoder/23ws-LLMcoder/experimental/anti-hallucination-analyzer/fasttext-vectorloading.ipynb Cell 2\u001b[0m line \u001b[0;36m1\n\u001b[1;32m      <a href='vscode-notebook-cell:/home/kushal/Projects/llmcoder/23ws-LLMcoder/experimental/anti-hallucination-analyzer/fasttext-vectorloading.ipynb#W1sZmlsZQ%3D%3D?line=8'>9</a>\u001b[0m data \u001b[39m=\u001b[39m {}\n\u001b[1;32m     <a href='vscode-notebook-cell:/home/kushal/Projects/llmcoder/23ws-LLMcoder/experimental/anti-hallucination-analyzer/fasttext-vectorloading.ipynb#W1sZmlsZQ%3D%3D?line=9'>10</a>\u001b[0m \u001b[39mfor\u001b[39;00m line \u001b[39min\u001b[39;00m fin:\n\u001b[0;32m---> <a href='vscode-notebook-cell:/home/kushal/Projects/llmcoder/23ws-LLMcoder/experimental/anti-hallucination-analyzer/fasttext-vectorloading.ipynb#W1sZmlsZQ%3D%3D?line=10'>11</a>\u001b[0m     tokens \u001b[39m=\u001b[39m line\u001b[39m.\u001b[39mrstrip()\u001b[39m.\u001b[39msplit(\u001b[39m'\u001b[39m\u001b[39m \u001b[39m\u001b[39m'\u001b[39m)\n\u001b[1;32m     <a href='vscode-notebook-cell:/home/kushal/Projects/llmcoder/23ws-LLMcoder/experimental/anti-hallucination-analyzer/fasttext-vectorloading.ipynb#W1sZmlsZQ%3D%3D?line=11'>12</a>\u001b[0m     data[tokens[\u001b[39m0\u001b[39m]] \u001b[39m=\u001b[39m \u001b[39mmap\u001b[39m(\u001b[39mfloat\u001b[39m, tokens[\u001b[39m1\u001b[39m:])\n\u001b[1;32m     <a href='vscode-notebook-cell:/home/kushal/Projects/llmcoder/23ws-LLMcoder/experimental/anti-hallucination-analyzer/fasttext-vectorloading.ipynb#W1sZmlsZQ%3D%3D?line=12'>13</a>\u001b[0m \u001b[39mreturn\u001b[39;00m data\n",
      "\u001b[0;31mKeyboardInterrupt\u001b[0m: "
     ]
    }
   ],
   "source": [
    "load_vectors(os.path.join(get_data_dir(), \"crawl-300d-2M.vec\"))"
   ]
  }
 ],
 "metadata": {
  "kernelspec": {
   "display_name": "llmcoder.env",
   "language": "python",
   "name": "python3"
  },
  "language_info": {
   "codemirror_mode": {
    "name": "ipython",
    "version": 3
   },
   "file_extension": ".py",
   "mimetype": "text/x-python",
   "name": "python",
   "nbconvert_exporter": "python",
   "pygments_lexer": "ipython3",
   "version": "3.11.5"
  }
 },
 "nbformat": 4,
 "nbformat_minor": 2
}
