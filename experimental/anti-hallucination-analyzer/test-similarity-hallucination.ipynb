{
 "cells": [
  {
   "cell_type": "code",
   "execution_count": 1,
   "metadata": {},
   "outputs": [],
   "source": [
    "from llmcoder.LLMCoder import LLMCoder\n",
    "from llmcoder.analyze.MypyAnalyzer import MypyAnalyzer\n",
    "from llmcoder.analyze.HallucinationAnalyzer import HallucinationAnalyzer"
   ]
  },
  {
   "cell_type": "code",
   "execution_count": 2,
   "metadata": {},
   "outputs": [],
   "source": [
    "input = \"\"\"import tiktoken\n",
    "import numpy as np\n",
    "\n",
    "example_dict = {\n",
    "    \"enc\": tiktoken.Tiktoken()\n",
    "}\n",
    "\n",
    "rand_int = np.\"\"\"\n",
    "completion = \"\"\"intarray([1,2,3])\n",
    "\"\"\""
   ]
  },
  {
   "cell_type": "code",
   "execution_count": 3,
   "metadata": {},
   "outputs": [
    {
     "name": "stdout",
     "output_type": "stream",
     "text": [
      "bert_load_from_file: gguf version     = 2\n",
      "bert_load_from_file: gguf alignment   = 32\n",
      "bert_load_from_file: gguf data offset = 695552\n",
      "bert_load_from_file: model name           = BERT\n",
      "bert_load_from_file: model architecture   = bert\n",
      "bert_load_from_file: model file type      = 1\n",
      "bert_load_from_file: bert tokenizer vocab = 30522\n"
     ]
    }
   ],
   "source": [
    "mypy_analyzer = MypyAnalyzer(verbose=True)\n",
    "hallucination_analyzer = HallucinationAnalyzer(verbose=True)"
   ]
  },
  {
   "cell_type": "code",
   "execution_count": 4,
   "metadata": {},
   "outputs": [
    {
     "name": "stdout",
     "output_type": "stream",
     "text": [
      "[Mypy] No missing stubs found.\n",
      "[Mypy] /tmp/tmp7itav9nw.py:5: error: Module has no attribute \"Tiktoken\"  [attr-defined]\n",
      "[Mypy] /tmp/tmp7itav9nw.py:8: error: Module has no attribute \"intarray\"  [attr-defined]\n",
      "[Mypy] Found 2 errors in 1 file (checked 1 source file)\n",
      "[MyPyJediAnalyzer] Mypy Error: /tmp/tmp7itav9nw.py:5: error: Module has no attribute \"Tiktoken\"  [attr-defined]\n",
      "[MyPyJediAnalyzer] Mypy Error: /tmp/tmp7itav9nw.py:8: error: Module has no attribute \"intarray\"  [attr-defined]\n",
      "[MyPyJediAnalyzer] Mypy Error: Found 2 errors in 1 file (checked 1 source file)\n",
      "[MyPyJediAnalyzer] Mypy Error: \n"
     ]
    }
   ],
   "source": [
    "mypy_analyzer_result = mypy_analyzer.analyze(input, completion)\n",
    "context = {}\n",
    "context['mypy_analyzer_v1'] = mypy_analyzer_result"
   ]
  },
  {
   "cell_type": "code",
   "execution_count": 5,
   "metadata": {},
   "outputs": [
    {
     "data": {
      "text/plain": [
       "{'mypy_analyzer_v1': {'type': 'critical',\n",
       "  'score': -1,\n",
       "  'pass': False,\n",
       "  'message': 'The completion you provided resulted in the following errors:\\nyour completion:8: error: Module has no attribute \"intarray\"  [attr-defined]\\nFound 2 errors in 1 file (checked 1 source file)'}}"
      ]
     },
     "execution_count": 5,
     "metadata": {},
     "output_type": "execute_result"
    }
   ],
   "source": [
    "context"
   ]
  },
  {
   "cell_type": "code",
   "execution_count": 6,
   "metadata": {},
   "outputs": [
    {
     "name": "stdout",
     "output_type": "stream",
     "text": [
      "[Hallucinations] Using context from previous analyzers: ['mypy_analyzer_v1']\n",
      "[Hallucinations] Found problematic function or class: intarray\n",
      "[Hallucinations] Found hallucination: intarray in np with 10 suggestions\n",
      "[Hallucinations] Full name: np.intarray, append to []\n",
      "[Hallucinations] Found 1 hallucinations: ['np.intarray']\n",
      "[Hallucinations] Suggested attributes for np.intarray: ['ndarray', 'array', 'asarray', 'asfarray', 'recarray', 'numarray', 'asfarray', 'asanyarray', 'interp', 'chararray']\n"
     ]
    }
   ],
   "source": [
    "hallucination_analyzer_result = hallucination_analyzer.analyze(input, completion, context)"
   ]
  },
  {
   "cell_type": "code",
   "execution_count": 7,
   "metadata": {},
   "outputs": [
    {
     "name": "stdout",
     "output_type": "stream",
     "text": [
      "[[[5.49886596e-310 0.00000000e+000 6.30907178e-310]\n",
      "  [6.30907186e-310 3.94316987e-311 6.30907179e-310]]]\n",
      "[2 2 3]\n"
     ]
    }
   ],
   "source": [
    "import numpy\n",
    "print(numpy.ndarray([1,2,3]))\n",
    "print(numpy.array([2,2,3]))"
   ]
  },
  {
   "cell_type": "code",
   "execution_count": 8,
   "metadata": {},
   "outputs": [
    {
     "ename": "NameError",
     "evalue": "name 'self' is not defined",
     "output_type": "error",
     "traceback": [
      "\u001b[0;31m---------------------------------------------------------------------------\u001b[0m",
      "\u001b[0;31mNameError\u001b[0m                                 Traceback (most recent call last)",
      "\u001b[1;32m/home/kushal/Projects/llmcoder/23ws-LLMcoder/experimental/anti-hallucination-analyzer/test-similarity-hallucination.ipynb Cell 8\u001b[0m line \u001b[0;36m1\n\u001b[0;32m----> <a href='vscode-notebook-cell:/home/kushal/Projects/llmcoder/23ws-LLMcoder/experimental/anti-hallucination-analyzer/test-similarity-hallucination.ipynb#W6sZmlsZQ%3D%3D?line=0'>1</a>\u001b[0m hallucinated_embedding \u001b[39m=\u001b[39m \u001b[39mself\u001b[39;49m\u001b[39m.\u001b[39mgpt4all\u001b[39m.\u001b[39membed_query(module_matches[\u001b[39m0\u001b[39m][\u001b[39m-\u001b[39m\u001b[39m1\u001b[39m])\n\u001b[1;32m      <a href='vscode-notebook-cell:/home/kushal/Projects/llmcoder/23ws-LLMcoder/experimental/anti-hallucination-analyzer/test-similarity-hallucination.ipynb#W6sZmlsZQ%3D%3D?line=1'>2</a>\u001b[0m suggested_attributes_embeddings \u001b[39m=\u001b[39m \u001b[39mself\u001b[39m\u001b[39m.\u001b[39mgpt4all\u001b[39m.\u001b[39membed_documents([suggested_attribute\u001b[39m.\u001b[39mfull_name\u001b[39m.\u001b[39msplit(\u001b[39m'\u001b[39m\u001b[39m.\u001b[39m\u001b[39m'\u001b[39m)[\u001b[39m-\u001b[39m\u001b[39m1\u001b[39m] \u001b[39mfor\u001b[39;00m suggested_attribute \u001b[39min\u001b[39;00m suggested_attributes \u001b[39mif\u001b[39;00m \u001b[39misinstance\u001b[39m(suggested_attribute\u001b[39m.\u001b[39mfull_name, \u001b[39mstr\u001b[39m)])\n\u001b[1;32m      <a href='vscode-notebook-cell:/home/kushal/Projects/llmcoder/23ws-LLMcoder/experimental/anti-hallucination-analyzer/test-similarity-hallucination.ipynb#W6sZmlsZQ%3D%3D?line=2'>3</a>\u001b[0m suggested_attributes_similarities \u001b[39m=\u001b[39m \u001b[39msorted\u001b[39m([np\u001b[39m.\u001b[39mdot(hallucinated_embedding, embedding) \u001b[39mfor\u001b[39;00m suggested_attribute, embedding \u001b[39min\u001b[39;00m \u001b[39mzip\u001b[39m(suggested_attributes, suggested_attributes_embeddings)], reverse\u001b[39m=\u001b[39m\u001b[39mTrue\u001b[39;00m)\n",
      "\u001b[0;31mNameError\u001b[0m: name 'self' is not defined"
     ]
    }
   ],
   "source": [
    "hallucinated_embedding = self.gpt4all.embed_query(module_matches[0][-1])\n",
    "suggested_attributes_embeddings = self.gpt4all.embed_documents([suggested_attribute.full_name.split('.')[-1] for suggested_attribute in suggested_attributes if isinstance(suggested_attribute.full_name, str)])\n",
    "suggested_attributes_similarities = sorted([np.dot(hallucinated_embedding, embedding) for suggested_attribute, embedding in zip(suggested_attributes, suggested_attributes_embeddings)], reverse=True)"
   ]
  },
  {
   "cell_type": "code",
   "execution_count": null,
   "metadata": {},
   "outputs": [],
   "source": [
    "hallucination_analyzer_result = hallucination_analyzer.analyze(input, completion, context)"
   ]
  },
  {
   "cell_type": "code",
   "execution_count": null,
   "metadata": {},
   "outputs": [],
   "source": [
    "import os\n",
    "import io\n",
    "\n",
    "from llmcoder.utils import get_data_dir \n",
    "\n",
    "def load_vectors(fname):\n",
    "    fin = io.open(fname, 'r', encoding='utf-8', newline='\\n', errors='ignore')\n",
    "    n, d = map(int, fin.readline().split())\n",
    "    data = {}\n",
    "    for line in fin:\n",
    "        tokens = line.rstrip().split(' ')\n",
    "        data[tokens[0]] = map(float, tokens[1:])\n",
    "    return data"
   ]
  },
  {
   "cell_type": "code",
   "execution_count": null,
   "metadata": {},
   "outputs": [],
   "source": [
    "load_vectors(os.path.join(get_data_dir(), \"crawl-300d-2M.vec\"))"
   ]
  }
 ],
 "metadata": {
  "kernelspec": {
   "display_name": "llmcoder.env",
   "language": "python",
   "name": "python3"
  },
  "language_info": {
   "codemirror_mode": {
    "name": "ipython",
    "version": 3
   },
   "file_extension": ".py",
   "mimetype": "text/x-python",
   "name": "python",
   "nbconvert_exporter": "python",
   "pygments_lexer": "ipython3",
   "version": "3.11.5"
  }
 },
 "nbformat": 4,
 "nbformat_minor": 2
}
