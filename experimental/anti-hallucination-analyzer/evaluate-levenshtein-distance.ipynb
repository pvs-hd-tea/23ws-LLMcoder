{
 "cells": [
  {
   "cell_type": "code",
   "execution_count": 1,
   "metadata": {},
   "outputs": [],
   "source": [
    "from llmcoder.LLMCoder import LLMCoder\n",
    "from llmcoder.analyze.mypy_analyzer import MypyAnalyzer\n",
    "from llmcoder.analyze.hallucination_analyzer import HallucinationAnalyzer\n",
    "from llmcoder.index import Index"
   ]
  },
  {
   "cell_type": "code",
   "execution_count": 2,
   "metadata": {},
   "outputs": [],
   "source": [
    "input = \"\"\"\\\n",
    "import json\n",
    "import os\n",
    "\n",
    "import numpy as np\n",
    "import tiktoken\n",
    "\n",
    "enc = tiktoken.\"\"\"\n",
    "completion = \"\"\"TikTokenEncoding()\n",
    "\"\"\""
   ]
  },
  {
   "cell_type": "code",
   "execution_count": 3,
   "metadata": {},
   "outputs": [
    {
     "name": "stdout",
     "output_type": "stream",
     "text": [
      "bert_load_from_file: gguf version     = 2\n",
      "bert_load_from_file: gguf alignment   = 32\n",
      "bert_load_from_file: gguf data offset = 695552\n",
      "bert_load_from_file: model name           = BERT\n",
      "bert_load_from_file: model architecture   = bert\n",
      "bert_load_from_file: model file type      = 1\n",
      "bert_load_from_file: bert tokenizer vocab = 30522\n",
      "[Index] Defined Full Name: ('tiktoken.Encoding', ['tiktoken'], 'class')\n",
      "[Index] Defined Full Name: ('tiktoken.encoding_for_model', ['tiktoken'], 'function')\n",
      "[Index] Defined Full Name: ('tiktoken.encoding_name_for_model', ['tiktoken'], 'function')\n",
      "[Index] Defined Full Name: ('tiktoken.get_encoding', ['tiktoken'], 'function')\n",
      "[Index] Defined Full Name: ('tiktoken.list_encoding_names', ['tiktoken'], 'function')\n"
     ]
    }
   ],
   "source": [
    "index = Index(verbose=True)\n",
    "index.create(input)"
   ]
  },
  {
   "cell_type": "code",
   "execution_count": 4,
   "metadata": {},
   "outputs": [
    {
     "name": "stdout",
     "output_type": "stream",
     "text": [
      "bert_load_from_file: gguf version     = 2\n",
      "bert_load_from_file: gguf alignment   = 32\n",
      "bert_load_from_file: gguf data offset = 695552\n",
      "bert_load_from_file: model name           = BERT\n",
      "bert_load_from_file: model architecture   = bert\n",
      "bert_load_from_file: model file type      = 1\n",
      "bert_load_from_file: bert tokenizer vocab = 30522\n"
     ]
    }
   ],
   "source": [
    "mypy_analyzer = MypyAnalyzer(verbose=True)\n",
    "hallucination_analyzer = HallucinationAnalyzer(verbose=True)"
   ]
  },
  {
   "cell_type": "code",
   "execution_count": 5,
   "metadata": {},
   "outputs": [
    {
     "name": "stdout",
     "output_type": "stream",
     "text": [
      "[Mypy] No missing stubs found.\n",
      "[Mypy] /tmp/tmpscf9xsif.py:7: error: Module has no attribute \"TikTokenEncoding\"  [attr-defined]\n",
      "[Mypy] Found 1 error in 1 file (checked 1 source file)\n"
     ]
    }
   ],
   "source": [
    "mypy_analyzer_result = mypy_analyzer.analyze(input, completion)\n",
    "context = {}\n",
    "context['mypy_analyzer_v1'] = mypy_analyzer_result"
   ]
  },
  {
   "cell_type": "code",
   "execution_count": 6,
   "metadata": {},
   "outputs": [
    {
     "data": {
      "text/plain": [
       "{'mypy_analyzer_v1': {'type': 'critical',\n",
       "  'score': -1,\n",
       "  'pass': False,\n",
       "  'message': 'The completion you provided resulted in the following errors:\\nyour completion:7: error: Module has no attribute \"TikTokenEncoding\"  [attr-defined]\\nFound 1 error in 1 file (checked 1 source file)'}}"
      ]
     },
     "execution_count": 6,
     "metadata": {},
     "output_type": "execute_result"
    }
   ],
   "source": [
    "context"
   ]
  },
  {
   "cell_type": "code",
   "execution_count": 7,
   "metadata": {},
   "outputs": [],
   "source": [
    "# context = {'mypy_analyzer_v1': {'type': 'critical',\n",
    "#   'score': -1,\n",
    "#   'pass': False,\n",
    "#   'message': 'The completion you provided resulted in the following errors:\\nyour completion:8: error: Module has no attribute \"intarray\"  [attr-defined]\\nFound 2 errors in 1 file (checked 1 source file)'}}"
   ]
  },
  {
   "cell_type": "code",
   "execution_count": 8,
   "metadata": {},
   "outputs": [
    {
     "name": "stderr",
     "output_type": "stream",
     "text": [
      "Number of requested results 10 is greater than number of elements in index 5, updating n_results = 5\n"
     ]
    },
    {
     "name": "stdout",
     "output_type": "stream",
     "text": [
      "[Hallucinations] Using context from previous analyzers: ['mypy_analyzer_v1']\n",
      "[Hallucinations] Found problematic function or class: TikTokenEncoding\n",
      "[Hallucination] Module Matches: [('tiktoken', 'TikTokenEncoding')]\n",
      "[IndexQuery] Full Name: tiktoken\n",
      "[Hallucination] Metadatas: ([{'full_name': 'tiktoken', 'module': 'tiktoken', 'name': 'Encoding'}, {'full_name': 'tiktoken', 'module': 'tiktoken', 'name': 'encoding_for_model'}, {'full_name': 'tiktoken', 'module': 'tiktoken', 'name': 'encoding_name_for_model'}, {'full_name': 'tiktoken', 'module': 'tiktoken', 'name': 'get_encoding'}, {'full_name': 'tiktoken', 'module': 'tiktoken', 'name': 'list_encoding_names'}], [{'full_name': 'tiktoken', 'module': 'tiktoken', 'name': 'Encoding'}, {'full_name': 'tiktoken', 'module': 'tiktoken', 'name': 'encoding_for_model'}, {'full_name': 'tiktoken', 'module': 'tiktoken', 'name': 'encoding_name_for_model'}, {'full_name': 'tiktoken', 'module': 'tiktoken', 'name': 'get_encoding'}, {'full_name': 'tiktoken', 'module': 'tiktoken', 'name': 'list_encoding_names'}])\n",
      "[Hallucinations] TikTokenEncoding, suggested_attribute ['Encoding', 'encoding_for_model', 'encoding_name_for_model', 'get_encoding', 'list_encoding_names']\n",
      "[Hallucinations] Found hallucination: TikTokenEncoding in tiktoken with 5 suggestions\n",
      "[Hallucinations] Found 1 hallucinations: ['tiktoken.TikTokenEncoding']\n",
      "[Hallucinations] Suggested attributes for tiktoken.TikTokenEncoding: ['Encoding', 'encoding_for_model', 'encoding_name_for_model', 'get_encoding', 'list_encoding_names']\n"
     ]
    }
   ],
   "source": [
    "hallucination_analyzer_result = hallucination_analyzer.analyze(input, completion, context)"
   ]
  }
 ],
 "metadata": {
  "kernelspec": {
   "display_name": "llmcoder.env",
   "language": "python",
   "name": "python3"
  },
  "language_info": {
   "codemirror_mode": {
    "name": "ipython",
    "version": 3
   },
   "file_extension": ".py",
   "mimetype": "text/x-python",
   "name": "python",
   "nbconvert_exporter": "python",
   "pygments_lexer": "ipython3",
   "version": "3.11.7"
  }
 },
 "nbformat": 4,
 "nbformat_minor": 2
}
