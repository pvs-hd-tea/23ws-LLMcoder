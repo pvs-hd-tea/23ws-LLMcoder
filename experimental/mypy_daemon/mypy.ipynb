{
 "cells": [
  {
   "cell_type": "code",
   "execution_count": 1,
   "metadata": {},
   "outputs": [],
   "source": [
    "import subprocess\n",
    "import shutil\n",
    "import tempfile"
   ]
  },
  {
   "cell_type": "code",
   "execution_count": 2,
   "metadata": {},
   "outputs": [],
   "source": [
    "FILE_NAME = \"./test_file.py\""
   ]
  },
  {
   "cell_type": "code",
   "execution_count": 3,
   "metadata": {},
   "outputs": [
    {
     "name": "stdout",
     "output_type": "stream",
     "text": [
      "1115\n"
     ]
    }
   ],
   "source": [
    "with open(FILE_NAME, \"r\") as f:\n",
    "    test_input = f.read()\n",
    "\n",
    "print(len(test_input))"
   ]
  },
  {
   "cell_type": "code",
   "execution_count": 4,
   "metadata": {},
   "outputs": [],
   "source": [
    "# Create a new temp file\n",
    "with tempfile.NamedTemporaryFile(delete=False, suffix=\".py\", mode=\"w\") as temp_file:\n",
    "    temp_file_name = temp_file.name\n",
    "    temp_file.write(test_input)"
   ]
  },
  {
   "cell_type": "code",
   "execution_count": 5,
   "metadata": {},
   "outputs": [
    {
     "data": {
      "text/plain": [
       "'/tmp/tmp4hz_fv5t.py'"
      ]
     },
     "execution_count": 5,
     "metadata": {},
     "output_type": "execute_result"
    }
   ],
   "source": [
    "temp_file_name"
   ]
  },
  {
   "cell_type": "markdown",
   "metadata": {},
   "source": [
    "## Manual commands"
   ]
  },
  {
   "cell_type": "code",
   "execution_count": 3,
   "metadata": {},
   "outputs": [
    {
     "data": {
      "text/plain": [
       "CompletedProcess(args=['mypy', './test_file.py'], returncode=1, stdout='test_file.py:1: \\x1b[1m\\x1b[31merror:\\x1b[m Cannot find implementation or library stub for module named \\x1b[m\\x1b[1m\"langchain.document_loaders\"\\x1b[m  \\x1b[m\\x1b[33m[import-not-found]\\x1b[m\\ntest_file.py:2: \\x1b[1m\\x1b[31merror:\\x1b[m Cannot find implementation or library stub for module named \\x1b[m\\x1b[1m\"langchain.text_splitter\"\\x1b[m  \\x1b[m\\x1b[33m[import-not-found]\\x1b[m\\ntest_file.py:5: \\x1b[1m\\x1b[31merror:\\x1b[m Cannot find implementation or library stub for module named \\x1b[m\\x1b[1m\"langchain.vectorstores.elasticsearch\"\\x1b[m  \\x1b[m\\x1b[33m[import-not-found]\\x1b[m\\ntest_file.py:5: \\x1b[34mnote:\\x1b[m See \\x1b[4mhttps://mypy.readthedocs.io/en/stable/running_mypy.html#missing-imports\\x1b[m\\x1b[m\\ntest_file.py:6: \\x1b[1m\\x1b[31merror:\\x1b[m Cannot find implementation or library stub for module named \\x1b[m\\x1b[1m\"langchain.embeddings\"\\x1b[m  \\x1b[m\\x1b[33m[import-not-found]\\x1b[m\\ntest_file.py:9: \\x1b[1m\\x1b[31merror:\\x1b[m Cannot find implementation or library stub for module named \\x1b[m\\x1b[1m\"langchain.llms\"\\x1b[m  \\x1b[m\\x1b[33m[import-not-found]\\x1b[m\\ntest_file.py:10: \\x1b[1m\\x1b[31merror:\\x1b[m Cannot find implementation or library stub for module named \\x1b[m\\x1b[1m\"langchain.callbacks.manager\"\\x1b[m  \\x1b[m\\x1b[33m[import-not-found]\\x1b[m\\ntest_file.py:11: \\x1b[1m\\x1b[31merror:\\x1b[m Cannot find implementation or library stub for module named \\x1b[m\\x1b[1m\"langchain.callbacks.streaming_stdout\"\\x1b[m  \\x1b[m\\x1b[33m[import-not-found]\\x1b[m\\ntest_file.py:16: \\x1b[1m\\x1b[31merror:\\x1b[m Library stubs not installed for \\x1b[m\\x1b[1m\"bs4\"\\x1b[m  \\x1b[m\\x1b[33m[import-untyped]\\x1b[m\\ntest_file.py:16: \\x1b[34mnote:\\x1b[m Hint: \\x1b[m\\x1b[1m\"python3 -m pip install types-beautifulsoup4\"\\x1b[m\\x1b[m\\ntest_file.py:16: \\x1b[34mnote:\\x1b[m (or run \\x1b[m\\x1b[1m\"mypy --install-types\"\\x1b[m to install all missing stub packages)\\x1b[m\\ntest_file.py:27: \\x1b[1m\\x1b[31merror:\\x1b[m Name \\x1b[m\\x1b[1m\"get_es_connection\"\\x1b[m is not defined  \\x1b[m\\x1b[33m[name-defined]\\x1b[m\\ntest_file.py:39: \\x1b[1m\\x1b[31merror:\\x1b[m Name \\x1b[m\\x1b[1m\"np\"\\x1b[m is not defined  \\x1b[m\\x1b[33m[name-defined]\\x1b[m\\n\\x1b[1m\\x1b[31mFound 10 errors in 1 file (checked 1 source file)\\x1b[m\\n', stderr='')"
      ]
     },
     "execution_count": 3,
     "metadata": {},
     "output_type": "execute_result"
    }
   ],
   "source": [
    "subprocess.run([\"mypy\", FILE_NAME])"
   ]
  },
  {
   "cell_type": "code",
   "execution_count": 4,
   "metadata": {},
   "outputs": [],
   "source": [
    "# Clear the mypy cache\n",
    "shutil.rmtree(\".mypy_cache\")"
   ]
  },
  {
   "cell_type": "code",
   "execution_count": 5,
   "metadata": {},
   "outputs": [
    {
     "name": "stdout",
     "output_type": "stream",
     "text": [
      "Daemon started\n"
     ]
    },
    {
     "data": {
      "text/plain": [
       "CompletedProcess(args=['dmypy', 'start'], returncode=0)"
      ]
     },
     "execution_count": 5,
     "metadata": {},
     "output_type": "execute_result"
    }
   ],
   "source": [
    "# Start a daemon process\n",
    "subprocess.run([\"dmypy\", \"start\"])"
   ]
  },
  {
   "cell_type": "code",
   "execution_count": 6,
   "metadata": {},
   "outputs": [
    {
     "name": "stdout",
     "output_type": "stream",
     "text": [
      "test_file.py:1: \u001b[1m\u001b[31merror:\u001b[m Cannot find implementation or library stub for module named \u001b[m\u001b[1m\"langchain.document_loaders\"\u001b[m  \u001b[m\u001b[33m[import-not-found]\u001b[m\n",
      "test_file.py:2: \u001b[1m\u001b[31merror:\u001b[m Cannot find implementation or library stub for module named \u001b[m\u001b[1m\"langchain.text_splitter\"\u001b[m  \u001b[m\u001b[33m[import-not-found]\u001b[m\n",
      "test_file.py:5: \u001b[1m\u001b[31merror:\u001b[m Cannot find implementation or library stub for module named \u001b[m\u001b[1m\"langchain.vectorstores.elasticsearch\"\u001b[m  \u001b[m\u001b[33m[import-not-found]\u001b[m\n",
      "test_file.py:5: \u001b[34mnote:\u001b[m See \u001b[4mhttps://mypy.readthedocs.io/en/stable/running_mypy.html#missing-imports\u001b[m\u001b[m\n",
      "test_file.py:6: \u001b[1m\u001b[31merror:\u001b[m Cannot find implementation or library stub for module named \u001b[m\u001b[1m\"langchain.embeddings\"\u001b[m  \u001b[m\u001b[33m[import-not-found]\u001b[m\n",
      "test_file.py:9: \u001b[1m\u001b[31merror:\u001b[m Cannot find implementation or library stub for module named \u001b[m\u001b[1m\"langchain.llms\"\u001b[m  \u001b[m\u001b[33m[import-not-found]\u001b[m\n",
      "test_file.py:10: \u001b[1m\u001b[31merror:\u001b[m Cannot find implementation or library stub for module named \u001b[m\u001b[1m\"langchain.callbacks.manager\"\u001b[m  \u001b[m\u001b[33m[import-not-found]\u001b[m\n",
      "test_file.py:11: \u001b[1m\u001b[31merror:\u001b[m Cannot find implementation or library stub for module named \u001b[m\u001b[1m\"langchain.callbacks.streaming_stdout\"\u001b[m  \u001b[m\u001b[33m[import-not-found]\u001b[m\n",
      "test_file.py:16: \u001b[1m\u001b[31merror:\u001b[m Library stubs not installed for \u001b[m\u001b[1m\"bs4\"\u001b[m  \u001b[m\u001b[33m[import-untyped]\u001b[m\n",
      "test_file.py:16: \u001b[34mnote:\u001b[m Hint: \u001b[m\u001b[1m\"python3 -m pip install types-beautifulsoup4\"\u001b[m\u001b[m\n",
      "test_file.py:27: \u001b[1m\u001b[31merror:\u001b[m Name \u001b[m\u001b[1m\"get_es_connection\"\u001b[m is not defined  \u001b[m\u001b[33m[name-defined]\u001b[m\n",
      "test_file.py:39: \u001b[1m\u001b[31merror:\u001b[m Name \u001b[m\u001b[1m\"np\"\u001b[m is not defined  \u001b[m\u001b[33m[name-defined]\u001b[m\n",
      "\u001b[1m\u001b[31mFound 10 errors in 1 file (checked 1 source file)\u001b[m\n"
     ]
    },
    {
     "data": {
      "text/plain": [
       "CompletedProcess(args=['dmypy', 'run', './test_file.py'], returncode=1)"
      ]
     },
     "execution_count": 6,
     "metadata": {},
     "output_type": "execute_result"
    }
   ],
   "source": [
    "subprocess.run([\"dmypy\", \"run\", FILE_NAME])"
   ]
  },
  {
   "cell_type": "code",
   "execution_count": 7,
   "metadata": {},
   "outputs": [
    {
     "name": "stdout",
     "output_type": "stream",
     "text": [
      "test_file.py:1: \u001b[1m\u001b[31merror:\u001b[m Cannot find implementation or library stub for module named \u001b[m\u001b[1m\"langchain.document_loaders\"\u001b[m  \u001b[m\u001b[33m[import-not-found]\u001b[m\n",
      "test_file.py:2: \u001b[1m\u001b[31merror:\u001b[m Cannot find implementation or library stub for module named \u001b[m\u001b[1m\"langchain.text_splitter\"\u001b[m  \u001b[m\u001b[33m[import-not-found]\u001b[m\n",
      "test_file.py:5: \u001b[1m\u001b[31merror:\u001b[m Cannot find implementation or library stub for module named \u001b[m\u001b[1m\"langchain.vectorstores.elasticsearch\"\u001b[m  \u001b[m\u001b[33m[import-not-found]\u001b[m\n",
      "test_file.py:5: \u001b[34mnote:\u001b[m See \u001b[4mhttps://mypy.readthedocs.io/en/stable/running_mypy.html#missing-imports\u001b[m\u001b[m\n",
      "test_file.py:6: \u001b[1m\u001b[31merror:\u001b[m Cannot find implementation or library stub for module named \u001b[m\u001b[1m\"langchain.embeddings\"\u001b[m  \u001b[m\u001b[33m[import-not-found]\u001b[m\n",
      "test_file.py:9: \u001b[1m\u001b[31merror:\u001b[m Cannot find implementation or library stub for module named \u001b[m\u001b[1m\"langchain.llms\"\u001b[m  \u001b[m\u001b[33m[import-not-found]\u001b[m\n",
      "test_file.py:10: \u001b[1m\u001b[31merror:\u001b[m Cannot find implementation or library stub for module named \u001b[m\u001b[1m\"langchain.callbacks.manager\"\u001b[m  \u001b[m\u001b[33m[import-not-found]\u001b[m\n",
      "test_file.py:11: \u001b[1m\u001b[31merror:\u001b[m Cannot find implementation or library stub for module named \u001b[m\u001b[1m\"langchain.callbacks.streaming_stdout\"\u001b[m  \u001b[m\u001b[33m[import-not-found]\u001b[m\n",
      "test_file.py:16: \u001b[1m\u001b[31merror:\u001b[m Library stubs not installed for \u001b[m\u001b[1m\"bs4\"\u001b[m  \u001b[m\u001b[33m[import-untyped]\u001b[m\n",
      "test_file.py:16: \u001b[34mnote:\u001b[m Hint: \u001b[m\u001b[1m\"python3 -m pip install types-beautifulsoup4\"\u001b[m\u001b[m\n",
      "test_file.py:27: \u001b[1m\u001b[31merror:\u001b[m Name \u001b[m\u001b[1m\"get_es_connection\"\u001b[m is not defined  \u001b[m\u001b[33m[name-defined]\u001b[m\n",
      "test_file.py:39: \u001b[1m\u001b[31merror:\u001b[m Name \u001b[m\u001b[1m\"np\"\u001b[m is not defined  \u001b[m\u001b[33m[name-defined]\u001b[m\n",
      "\u001b[1m\u001b[31mFound 10 errors in 1 file (checked 1 source file)\u001b[m\n"
     ]
    },
    {
     "data": {
      "text/plain": [
       "CompletedProcess(args=['dmypy', 'run', './test_file.py'], returncode=1)"
      ]
     },
     "execution_count": 7,
     "metadata": {},
     "output_type": "execute_result"
    }
   ],
   "source": [
    "subprocess.run([\"dmypy\", \"run\", FILE_NAME])"
   ]
  },
  {
   "cell_type": "code",
   "execution_count": 6,
   "metadata": {},
   "outputs": [
    {
     "name": "stderr",
     "output_type": "stream",
     "text": [
      "No status file found\n"
     ]
    },
    {
     "data": {
      "text/plain": [
       "CompletedProcess(args=['dmypy', 'stop'], returncode=2)"
      ]
     },
     "execution_count": 6,
     "metadata": {},
     "output_type": "execute_result"
    }
   ],
   "source": [
    "# Stop the daemon process\n",
    "subprocess.run([\"dmypy\", \"stop\"])"
   ]
  },
  {
   "cell_type": "markdown",
   "metadata": {},
   "source": [
    "## With tempfile"
   ]
  },
  {
   "cell_type": "code",
   "execution_count": 9,
   "metadata": {},
   "outputs": [
    {
     "name": "stdout",
     "output_type": "stream",
     "text": [
      "Daemon started\n"
     ]
    },
    {
     "data": {
      "text/plain": [
       "CompletedProcess(args=['dmypy', 'start'], returncode=0)"
      ]
     },
     "execution_count": 9,
     "metadata": {},
     "output_type": "execute_result"
    }
   ],
   "source": [
    "# Start a daemon process\n",
    "subprocess.run([\"dmypy\", \"start\"])"
   ]
  },
  {
   "cell_type": "code",
   "execution_count": 10,
   "metadata": {},
   "outputs": [
    {
     "name": "stdout",
     "output_type": "stream",
     "text": [
      "/tmp/tmprn3ykoa2.py:1: \u001b[1m\u001b[31merror:\u001b[m Cannot find implementation or library stub for module named \u001b[m\u001b[1m\"langchain.document_loaders\"\u001b[m  \u001b[m\u001b[33m[import-not-found]\u001b[m\n",
      "/tmp/tmprn3ykoa2.py:2: \u001b[1m\u001b[31merror:\u001b[m Cannot find implementation or library stub for module named \u001b[m\u001b[1m\"langchain.text_splitter\"\u001b[m  \u001b[m\u001b[33m[import-not-found]\u001b[m\n",
      "/tmp/tmprn3ykoa2.py:5: \u001b[1m\u001b[31merror:\u001b[m Cannot find implementation or library stub for module named \u001b[m\u001b[1m\"langchain.vectorstores.elasticsearch\"\u001b[m  \u001b[m\u001b[33m[import-not-found]\u001b[m\n",
      "/tmp/tmprn3ykoa2.py:5: \u001b[34mnote:\u001b[m See \u001b[4mhttps://mypy.readthedocs.io/en/stable/running_mypy.html#missing-imports\u001b[m\u001b[m\n",
      "/tmp/tmprn3ykoa2.py:6: \u001b[1m\u001b[31merror:\u001b[m Cannot find implementation or library stub for module named \u001b[m\u001b[1m\"langchain.embeddings\"\u001b[m  \u001b[m\u001b[33m[import-not-found]\u001b[m\n",
      "/tmp/tmprn3ykoa2.py:9: \u001b[1m\u001b[31merror:\u001b[m Cannot find implementation or library stub for module named \u001b[m\u001b[1m\"langchain.llms\"\u001b[m  \u001b[m\u001b[33m[import-not-found]\u001b[m\n",
      "/tmp/tmprn3ykoa2.py:10: \u001b[1m\u001b[31merror:\u001b[m Cannot find implementation or library stub for module named \u001b[m\u001b[1m\"langchain.callbacks.manager\"\u001b[m  \u001b[m\u001b[33m[import-not-found]\u001b[m\n",
      "/tmp/tmprn3ykoa2.py:11: \u001b[1m\u001b[31merror:\u001b[m Cannot find implementation or library stub for module named \u001b[m\u001b[1m\"langchain.callbacks.streaming_stdout\"\u001b[m  \u001b[m\u001b[33m[import-not-found]\u001b[m\n",
      "/tmp/tmprn3ykoa2.py:16: \u001b[1m\u001b[31merror:\u001b[m Library stubs not installed for \u001b[m\u001b[1m\"bs4\"\u001b[m  \u001b[m\u001b[33m[import-untyped]\u001b[m\n",
      "/tmp/tmprn3ykoa2.py:16: \u001b[34mnote:\u001b[m Hint: \u001b[m\u001b[1m\"python3 -m pip install types-beautifulsoup4\"\u001b[m\u001b[m\n",
      "/tmp/tmprn3ykoa2.py:27: \u001b[1m\u001b[31merror:\u001b[m Name \u001b[m\u001b[1m\"get_es_connection\"\u001b[m is not defined  \u001b[m\u001b[33m[name-defined]\u001b[m\n",
      "/tmp/tmprn3ykoa2.py:39: \u001b[1m\u001b[31merror:\u001b[m Name \u001b[m\u001b[1m\"np\"\u001b[m is not defined  \u001b[m\u001b[33m[name-defined]\u001b[m\n",
      "\u001b[1m\u001b[31mFound 10 errors in 1 file (checked 1 source file)\u001b[m\n"
     ]
    },
    {
     "data": {
      "text/plain": [
       "CompletedProcess(args=['dmypy', 'run', '/tmp/tmprn3ykoa2.py'], returncode=1)"
      ]
     },
     "execution_count": 10,
     "metadata": {},
     "output_type": "execute_result"
    }
   ],
   "source": [
    "subprocess.run([\"dmypy\", \"run\", temp_file_name])"
   ]
  },
  {
   "cell_type": "code",
   "execution_count": 8,
   "metadata": {},
   "outputs": [
    {
     "name": "stderr",
     "output_type": "stream",
     "text": [
      "No status file found\n"
     ]
    },
    {
     "data": {
      "text/plain": [
       "CompletedProcess(args=['dmypy', 'stop'], returncode=2)"
      ]
     },
     "execution_count": 8,
     "metadata": {},
     "output_type": "execute_result"
    }
   ],
   "source": [
    "# Stop the daemon process\n",
    "subprocess.run([\"dmypy\", \"stop\"])"
   ]
  },
  {
   "cell_type": "markdown",
   "metadata": {},
   "source": [
    "## With DaemonMypyAnalyzer"
   ]
  },
  {
   "cell_type": "code",
   "execution_count": 6,
   "metadata": {},
   "outputs": [
    {
     "name": "stdout",
     "output_type": "stream",
     "text": [
      "Daemon stopped\n"
     ]
    },
    {
     "data": {
      "text/plain": [
       "CompletedProcess(args=['dmypy', 'stop'], returncode=0)"
      ]
     },
     "execution_count": 6,
     "metadata": {},
     "output_type": "execute_result"
    }
   ],
   "source": [
    "# Stop the daemon process\n",
    "subprocess.run([\"dmypy\", \"stop\"])"
   ]
  },
  {
   "cell_type": "code",
   "execution_count": 7,
   "metadata": {},
   "outputs": [],
   "source": [
    "from llmcoder.analyze.MypyAnalyzer import DaemonMypyAnalyzer"
   ]
  },
  {
   "cell_type": "code",
   "execution_count": 8,
   "metadata": {},
   "outputs": [
    {
     "name": "stdout",
     "output_type": "stream",
     "text": [
      "[Mypy] Creating cache...\n",
      "[Mypy] No missing stubs found.\n"
     ]
    }
   ],
   "source": [
    "dmypy_anylyzer = DaemonMypyAnalyzer(verbose=True, input=test_input, install_stubs=True)"
   ]
  },
  {
   "cell_type": "code",
   "execution_count": 9,
   "metadata": {},
   "outputs": [
    {
     "name": "stdout",
     "output_type": "stream",
     "text": [
      "[Mypy] /tmp/tmpgu30b0oz.py:1: error: Cannot find implementation or library stub for module named \"langchain.document_loaders\"  [import-not-found]\n",
      "[Mypy] /tmp/tmpgu30b0oz.py:2: error: Cannot find implementation or library stub for module named \"langchain.text_splitter\"  [import-not-found]\n",
      "[Mypy] /tmp/tmpgu30b0oz.py:5: error: Cannot find implementation or library stub for module named \"langchain.vectorstores.elasticsearch\"  [import-not-found]\n",
      "[Mypy] /tmp/tmpgu30b0oz.py:5: note: See https://mypy.readthedocs.io/en/stable/running_mypy.html#missing-imports\n",
      "[Mypy] /tmp/tmpgu30b0oz.py:6: error: Cannot find implementation or library stub for module named \"langchain.embeddings\"  [import-not-found]\n",
      "[Mypy] /tmp/tmpgu30b0oz.py:9: error: Cannot find implementation or library stub for module named \"langchain.llms\"  [import-not-found]\n",
      "[Mypy] /tmp/tmpgu30b0oz.py:10: error: Cannot find implementation or library stub for module named \"langchain.callbacks.manager\"  [import-not-found]\n",
      "[Mypy] /tmp/tmpgu30b0oz.py:11: error: Cannot find implementation or library stub for module named \"langchain.callbacks.streaming_stdout\"  [import-not-found]\n",
      "[Mypy] /tmp/tmpgu30b0oz.py:16: error: Library stubs not installed for \"bs4\"  [import-untyped]\n",
      "[Mypy] /tmp/tmpgu30b0oz.py:16: note: Hint: \"python3 -m pip install types-beautifulsoup4\"\n",
      "[Mypy] /tmp/tmpgu30b0oz.py:27: error: Name \"get_es_connection\" is not defined  [name-defined]\n",
      "[Mypy] /tmp/tmpgu30b0oz.py:39: error: Name \"np\" is not defined  [name-defined]\n",
      "[Mypy] Found 10 errors in 1 file (checked 1 source file)\n"
     ]
    },
    {
     "data": {
      "text/plain": [
       "{'type': 'critical',\n",
       " 'score': -1,\n",
       " 'pass': False,\n",
       " 'message': 'The completion you provided resulted in the following errors:\\nyour completion:39: error: Name \"np\" is not defined  [name-defined]\\nFound 10 errors in 1 file (checked 1 source file)'}"
      ]
     },
     "execution_count": 9,
     "metadata": {},
     "output_type": "execute_result"
    }
   ],
   "source": [
    "dmypy_anylyzer.analyze(test_input, completion=\"\", install_stubs=False)"
   ]
  },
  {
   "cell_type": "code",
   "execution_count": 10,
   "metadata": {},
   "outputs": [
    {
     "name": "stdout",
     "output_type": "stream",
     "text": [
      "[Mypy] /tmp/tmpgu30b0oz.py:1: error: Cannot find implementation or library stub for module named \"langchain.document_loaders\"  [import-not-found]\n",
      "[Mypy] /tmp/tmpgu30b0oz.py:2: error: Cannot find implementation or library stub for module named \"langchain.text_splitter\"  [import-not-found]\n",
      "[Mypy] /tmp/tmpgu30b0oz.py:5: error: Cannot find implementation or library stub for module named \"langchain.vectorstores.elasticsearch\"  [import-not-found]\n",
      "[Mypy] /tmp/tmpgu30b0oz.py:5: note: See https://mypy.readthedocs.io/en/stable/running_mypy.html#missing-imports\n",
      "[Mypy] /tmp/tmpgu30b0oz.py:6: error: Cannot find implementation or library stub for module named \"langchain.embeddings\"  [import-not-found]\n",
      "[Mypy] /tmp/tmpgu30b0oz.py:9: error: Cannot find implementation or library stub for module named \"langchain.llms\"  [import-not-found]\n",
      "[Mypy] /tmp/tmpgu30b0oz.py:10: error: Cannot find implementation or library stub for module named \"langchain.callbacks.manager\"  [import-not-found]\n",
      "[Mypy] /tmp/tmpgu30b0oz.py:11: error: Cannot find implementation or library stub for module named \"langchain.callbacks.streaming_stdout\"  [import-not-found]\n",
      "[Mypy] /tmp/tmpgu30b0oz.py:16: error: Library stubs not installed for \"bs4\"  [import-untyped]\n",
      "[Mypy] /tmp/tmpgu30b0oz.py:16: note: Hint: \"python3 -m pip install types-beautifulsoup4\"\n",
      "[Mypy] /tmp/tmpgu30b0oz.py:27: error: Name \"get_es_connection\" is not defined  [name-defined]\n",
      "[Mypy] /tmp/tmpgu30b0oz.py:39: error: Name \"np\" is not defined  [name-defined]\n",
      "[Mypy] Found 10 errors in 1 file (checked 1 source file)\n"
     ]
    },
    {
     "data": {
      "text/plain": [
       "{'type': 'critical',\n",
       " 'score': -1,\n",
       " 'pass': False,\n",
       " 'message': 'The completion you provided resulted in the following errors:\\nyour completion:39: error: Name \"np\" is not defined  [name-defined]\\nFound 10 errors in 1 file (checked 1 source file)'}"
      ]
     },
     "execution_count": 10,
     "metadata": {},
     "output_type": "execute_result"
    }
   ],
   "source": [
    "dmypy_anylyzer.analyze(test_input, completion=\"\", install_stubs=False)"
   ]
  },
  {
   "cell_type": "code",
   "execution_count": 11,
   "metadata": {},
   "outputs": [],
   "source": [
    "completion = \"def foo() -> None:\\n    pass\\n\\nfoo()\\n\""
   ]
  },
  {
   "cell_type": "code",
   "execution_count": 12,
   "metadata": {},
   "outputs": [
    {
     "name": "stdout",
     "output_type": "stream",
     "text": [
      "[Mypy] /tmp/tmpgu30b0oz.py:39: error: invalid syntax  [syntax]\n",
      "[Mypy] Found 1 error in 1 file (checked 1 source file)\n"
     ]
    },
    {
     "data": {
      "text/plain": [
       "{'type': 'critical',\n",
       " 'score': -1,\n",
       " 'pass': False,\n",
       " 'message': 'The completion you provided resulted in the following errors:\\nyour completion:39: error: invalid syntax  [syntax]\\nFound 1 error in 1 file (checked 1 source file)'}"
      ]
     },
     "execution_count": 12,
     "metadata": {},
     "output_type": "execute_result"
    }
   ],
   "source": [
    "dmypy_anylyzer.analyze(test_input, completion=completion, install_stubs=False)"
   ]
  },
  {
   "cell_type": "code",
   "execution_count": 13,
   "metadata": {},
   "outputs": [
    {
     "name": "stdout",
     "output_type": "stream",
     "text": [
      "Daemon stopped\n"
     ]
    },
    {
     "data": {
      "text/plain": [
       "CompletedProcess(args=['dmypy', 'stop'], returncode=0)"
      ]
     },
     "execution_count": 13,
     "metadata": {},
     "output_type": "execute_result"
    }
   ],
   "source": [
    "# Stop the daemon process\n",
    "subprocess.run([\"dmypy\", \"stop\"])"
   ]
  }
 ],
 "metadata": {
  "kernelspec": {
   "display_name": "tree",
   "language": "python",
   "name": "python3"
  },
  "language_info": {
   "codemirror_mode": {
    "name": "ipython",
    "version": 3
   },
   "file_extension": ".py",
   "mimetype": "text/x-python",
   "name": "python",
   "nbconvert_exporter": "python",
   "pygments_lexer": "ipython3",
   "version": "3.11.5"
  }
 },
 "nbformat": 4,
 "nbformat_minor": 2
}
