{
 "cells": [
  {
   "cell_type": "code",
   "execution_count": 1,
   "metadata": {},
   "outputs": [],
   "source": [
    "from llmcoder import LLMCoder\n",
    "\n",
    "import shutil\n",
    "\n",
    "import time\n",
    "\n",
    "from tqdm.auto import tqdm\n",
    "\n",
    "import numpy as np"
   ]
  },
  {
   "cell_type": "code",
   "execution_count": 2,
   "metadata": {},
   "outputs": [],
   "source": [
    "code = \"\"\"from langchain.document_loaders import DirectoryLoader, JSONLoader\n",
    "from langchain.text_splitter import RecursiveCharacterTextSplitter\n",
    "\n",
    "# Embed and store\n",
    "from langchain.vectorstores.elasticsearch import ElasticsearchStore \n",
    "from langchain.embeddings import GPT4AllEmbeddings\n",
    "from langchain.embeddings import OllamaEmbeddings # We can also try Ollama embeddings\n",
    "\n",
    "from langchain.llms import Ollama\n",
    "from langchain.callbacks.manager import CallbackManager\n",
    "from langchain.callbacks.streaming_stdout import StreamingStdOutCallbackHandler\n",
    "\n",
    "import os\n",
    "import json\n",
    "from tqdm import tqdm\n",
    "from bs4 import BeautifulSoup\n",
    "import time\n",
    "\n",
    "import torch\n",
    "device = torch.device(\"cuda:0\" if torch.cuda.is_available() else \"cpu\")\n",
    "\n",
    "# pip install jq\n",
    "schema = {\n",
    "    'jq_schema': '.text'\n",
    "}\n",
    "\n",
    "es = get_es_connection()\n",
    "\n",
    "my_array = np.array([1, 2, 3, 4, 5])\n",
    "\n",
    "REINDEX = False\n",
    "\n",
    "# pip install gpt4all\n",
    "# Needs Ubuntu > 22.04 because of glibc\n",
    "\n",
    "if REINDEX:\n",
    "    # Clear the index\n",
    "    es.indices.delete(index=\"eurlex-langchain\", ignore=[400, 404])\n",
    "\n",
    "    start_time = time.time()\n",
    "    vectorstore = \"\"\""
   ]
  },
  {
   "cell_type": "code",
   "execution_count": 3,
   "metadata": {},
   "outputs": [],
   "source": [
    "# Clear the mypy cache\n",
    "shutil.rmtree(\".mypy_cache\", ignore_errors=True)"
   ]
  },
  {
   "cell_type": "code",
   "execution_count": 4,
   "metadata": {},
   "outputs": [],
   "source": [
    "def measure_time(setup=False):\n",
    "    llmcoder = LLMCoder(\n",
    "        analyzers=[\"mypy_analyzer_v1\", \"signature_analyzer_v1\", \"gpt_score_analyzer_v1\"],\n",
    "        max_iter=3,\n",
    "        feedback_variant=\"coworker\",\n",
    "        n_procs=16,\n",
    "        verbose=False)\n",
    "\n",
    "    # Clear the mypy cache\n",
    "    shutil.rmtree(\".mypy_cache\", ignore_errors=True)\n",
    "\n",
    "    setup_time = time.time()\n",
    "    if setup:\n",
    "        llmcoder.setup(code)\n",
    "    setup_time = time.time() - setup_time\n",
    "    \n",
    "    complete_time = time.time()\n",
    "    for _ in range(10):\n",
    "        result = llmcoder.complete(code, n=1)\n",
    "    complete_time = time.time() - complete_time\n",
    "\n",
    "    return setup_time, complete_time / 10"
   ]
  },
  {
   "cell_type": "code",
   "execution_count": 5,
   "metadata": {},
   "outputs": [],
   "source": [
    "setup_times_no_setup = []\n",
    "complete_times_no_setup = []\n",
    "\n",
    "setup_times_with_setup = []\n",
    "complete_times_with_setup = []"
   ]
  },
  {
   "cell_type": "code",
   "execution_count": 6,
   "metadata": {},
   "outputs": [
    {
     "data": {
      "application/vnd.jupyter.widget-view+json": {
       "model_id": "9cf58d3c8455471f8c2afb7791380940",
       "version_major": 2,
       "version_minor": 0
      },
      "text/plain": [
       "  0%|          | 0/10 [00:00<?, ?it/s]"
      ]
     },
     "metadata": {},
     "output_type": "display_data"
    }
   ],
   "source": [
    "N_REPEAT = 10\n",
    "\n",
    "for i in tqdm(range(N_REPEAT)):\n",
    "    setup_time, complete_time = measure_time(setup=False)\n",
    "    setup_times_no_setup.append(setup_time)\n",
    "    complete_times_no_setup.append(complete_time)\n",
    "\n",
    "    setup_time, complete_time = measure_time(setup=True)\n",
    "    setup_times_with_setup.append(setup_time)\n",
    "    complete_times_with_setup.append(complete_time)"
   ]
  },
  {
   "cell_type": "code",
   "execution_count": 7,
   "metadata": {},
   "outputs": [
    {
     "name": "stdout",
     "output_type": "stream",
     "text": [
      "No setup\n",
      "Setup time: 0.00 ± 0.00\n",
      "Complete time: 5.10 ± 0.56\n",
      "\n",
      "With setup\n",
      "Setup time: 12.18 ± 3.36\n",
      "Complete time: 4.56 ± 1.10\n"
     ]
    }
   ],
   "source": [
    "print(\"No setup\")\n",
    "print(f\"Setup time: {np.mean(setup_times_no_setup):.2f} ± {np.std(setup_times_no_setup):.2f}\")\n",
    "print(f\"Complete time: {np.mean(complete_times_no_setup):.2f} ± {np.std(complete_times_no_setup):.2f}\")\n",
    "print()\n",
    "print(\"With setup\")\n",
    "print(f\"Setup time: {np.mean(setup_times_with_setup):.2f} ± {np.std(setup_times_with_setup):.2f}\")\n",
    "print(f\"Complete time: {np.mean(complete_times_with_setup):.2f} ± {np.std(complete_times_with_setup):.2f}\")"
   ]
  }
 ],
 "metadata": {
  "kernelspec": {
   "display_name": "llmcoder",
   "language": "python",
   "name": "python3"
  },
  "language_info": {
   "codemirror_mode": {
    "name": "ipython",
    "version": 3
   },
   "file_extension": ".py",
   "mimetype": "text/x-python",
   "name": "python",
   "nbconvert_exporter": "python",
   "pygments_lexer": "ipython3",
   "version": "3.11.5"
  }
 },
 "nbformat": 4,
 "nbformat_minor": 2
}
