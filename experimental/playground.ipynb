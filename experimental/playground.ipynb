{
 "cells": [
  {
   "cell_type": "code",
   "execution_count": 1,
   "metadata": {},
   "outputs": [],
   "source": [
    "from llmcoder import LLMCoder"
   ]
  },
  {
   "cell_type": "code",
   "execution_count": 2,
   "metadata": {},
   "outputs": [],
   "source": [
    "llmcoder = LLMCoder()"
   ]
  },
  {
   "cell_type": "code",
   "execution_count": 13,
   "metadata": {},
   "outputs": [
    {
     "name": "stdout",
     "output_type": "stream",
     "text": [
      "Creating first completion...\n",
      "Starting feedback loop...\n",
      "        return validated_func\n"
     ]
    }
   ],
   "source": [
    "result = llmcoder.complete('''def configured_validate_arguments(func):\n",
    "    \"\"\"Decorator to enforce a function args to be compatible with their type hints.\n",
    "\n",
    "    Returns\n",
    "    -------\n",
    "    validated_func\n",
    "        A wrapped function decorated by pydantic validate_arguments configured to allow arbitrary types check.\n",
    "    \"\"\"\n",
    "    # https://docs.pydantic.dev/2.3/usage/validation_decorator/\n",
    "    # Actually, this is more than just validation\n",
    "    # If you check https://docs.pydantic.dev/latest/usage/validation_decorator/#coercion-and-strictness,\n",
    "    # this explains it will try to convert/coerce type to the type hinting\n",
    "    # So a string will be \"coerced\" to an enum element, and so on\n",
    "    import sys\n",
    "    from pydantic.utils import GetterDict\n",
    "    from functools import wraps\n",
    "    @wraps(func)\n",
    "    def validated_func(*args, **kwargs):\n",
    "        # Replace args and kwargs with their type-hinted equivalents\n",
    "        annotated_args = GetterDict(func, args, kwargs)\n",
    "        return func(*annotated_args.args, **annotated_args.kwargs)\n",
    "    \n",
    "    return validated_func''')\n",
    "\n",
    "print(result)"
   ]
  },
  {
   "cell_type": "code",
   "execution_count": null,
   "metadata": {},
   "outputs": [],
   "source": [
    "\n",
    "    from pydantic.utils import GetterDict\n",
    "    from functools import wraps"
   ]
  }
 ],
 "metadata": {
  "kernelspec": {
   "display_name": "llmcoder",
   "language": "python",
   "name": "python3"
  },
  "language_info": {
   "codemirror_mode": {
    "name": "ipython",
    "version": 3
   },
   "file_extension": ".py",
   "mimetype": "text/x-python",
   "name": "python",
   "nbconvert_exporter": "python",
   "pygments_lexer": "ipython3",
   "version": "3.11.5"
  }
 },
 "nbformat": 4,
 "nbformat_minor": 2
}
