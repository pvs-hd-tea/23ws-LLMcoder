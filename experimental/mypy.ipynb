{
 "cells": [
  {
   "cell_type": "code",
   "execution_count": 1,
   "metadata": {},
   "outputs": [],
   "source": [
    "import subprocess\n",
    "import tempfile\n",
    "import os\n",
    "import re\n",
    "\n",
    "def run_mypy(code, install_stubs=False):\n",
    "    with tempfile.NamedTemporaryFile(delete=False, suffix=\".py\", mode=\"w\") as temp_file:\n",
    "        temp_file_name = temp_file.name\n",
    "        temp_file.write(code)\n",
    "\n",
    "    # First run of mypy to check for missing stubs\n",
    "    first_run = subprocess.run([\"mypy\", temp_file_name], capture_output=True, text=True)\n",
    "    if install_stubs and (\"install-types\" in first_run.stderr or \"install-types\" in first_run.stdout):\n",
    "        print(\"Installing missing stubs...\")\n",
    "        # Install missing stubs\n",
    "        subprocess.run([\"mypy\", \"--install-types\", \"--non-interactive\"], capture_output=True, text=True)\n",
    "        # Re-run mypy after installing stubs\n",
    "        second_run = subprocess.run([\"mypy\", temp_file_name], capture_output=True, text=True)\n",
    "        result = second_run.stdout if second_run.stdout else second_run.stderr\n",
    "    else:\n",
    "        print(\"No missing stubs found.\")\n",
    "        result = first_run.stdout if first_run.stdout else first_run.stderr\n",
    "\n",
    "    os.remove(temp_file_name)\n",
    "    return result"
   ]
  },
  {
   "cell_type": "code",
   "execution_count": 2,
   "metadata": {},
   "outputs": [
    {
     "name": "stdout",
     "output_type": "stream",
     "text": [
      "No missing stubs found.\n",
      "/tmp/tmpuoztgpml.py:9: \u001b[1m\u001b[31merror:\u001b[m No overload variant of \u001b[m\u001b[1m\"DataFrame\"\u001b[m matches argument type \u001b[m\u001b[1m\"bool\"\u001b[m  \u001b[m\u001b[33m[call-overload]\u001b[m\n",
      "/tmp/tmpuoztgpml.py:9: \u001b[34mnote:\u001b[m Possible overload variants:\u001b[m\n",
      "/tmp/tmpuoztgpml.py:9: \u001b[34mnote:\u001b[m     def DataFrame(data: Sequence[Any] | ndarray[Any, Any] | Series[Any] | Index[Any] | DataFrame | dict[Any, Any] | Iterable[Sequence[Any] | ndarray[Any, Any] | Series[Any] | Index[Any] | tuple[Hashable, Sequence[Any] | ndarray[Any, Any] | Series[Any] | Index[Any]] | dict[Any, Any]] | None = ..., index: Index[Any] | Series[Any] | ndarray[Any, Any] | list[Any] | dict[Any, Any] | range | tuple[Any, ...] | None = ..., columns: Index[Any] | Series[Any] | ndarray[Any, Any] | list[Any] | dict[Any, Any] | range | tuple[Any, ...] | None = ..., dtype: Any = ..., copy: bool = ...) -> DataFrame\u001b[m\n",
      "/tmp/tmpuoztgpml.py:9: \u001b[34mnote:\u001b[m     def DataFrame(data: str | bytes | date | datetime | timedelta | datetime64 | timedelta64 | bool | int | float | Timestamp | Timedelta | complex, index: Index[Any] | Series[Any] | ndarray[Any, Any] | list[Any] | dict[Any, Any] | range | tuple[Any, ...], columns: Index[Any] | Series[Any] | ndarray[Any, Any] | list[Any] | dict[Any, Any] | range | tuple[Any, ...], dtype: Any = ..., copy: bool = ...) -> DataFrame\u001b[m\n",
      "/tmp/tmpuoztgpml.py:11: \u001b[1m\u001b[31merror:\u001b[m Argument 1 to \u001b[m\u001b[1m\"get_data_dir\"\u001b[m has incompatible type \u001b[m\u001b[1m\"int\"\u001b[m; expected \u001b[m\u001b[1m\"str\"\u001b[m  \u001b[m\u001b[33m[arg-type]\u001b[m\n",
      "\u001b[1m\u001b[31mFound 2 errors in 1 file (checked 1 source file)\u001b[m\n",
      "\n"
     ]
    }
   ],
   "source": [
    "code = \"\"\"\n",
    "import numpy as np\n",
    "from pandas import DataFrame\n",
    "\n",
    "from llmcoder.utils import get_data_dir\n",
    "\n",
    "print(np.array([1,2,3]))\n",
    "df = DataFrame({'a': [1,2,3], 'b': [4,5,6]})\n",
    "illegal_df = DataFrame(False)\n",
    "\n",
    "print(get_data_dir(1))\n",
    "\"\"\"\n",
    "\n",
    "print(run_mypy(code, install_stubs=True))"
   ]
  },
  {
   "cell_type": "code",
   "execution_count": null,
   "metadata": {},
   "outputs": [],
   "source": []
  }
 ],
 "metadata": {
  "kernelspec": {
   "display_name": "llmcoder",
   "language": "python",
   "name": "python3"
  },
  "language_info": {
   "codemirror_mode": {
    "name": "ipython",
    "version": 3
   },
   "file_extension": ".py",
   "mimetype": "text/x-python",
   "name": "python",
   "nbconvert_exporter": "python",
   "pygments_lexer": "ipython3",
   "version": "3.11.5"
  }
 },
 "nbformat": 4,
 "nbformat_minor": 2
}
