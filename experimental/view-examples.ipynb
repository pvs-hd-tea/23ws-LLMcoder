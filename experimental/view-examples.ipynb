{
 "cells": [
  {
   "cell_type": "code",
   "execution_count": 160,
   "id": "0277bc99-70a2-4d25-9ff2-1c5e25f64108",
   "metadata": {},
   "outputs": [],
   "source": [
    "import os\n",
    "import json"
   ]
  },
  {
   "cell_type": "code",
   "execution_count": 161,
   "id": "9c653576-491b-4486-a4b2-29bf9ba7a7fd",
   "metadata": {},
   "outputs": [],
   "source": [
    "example_files = [file for file in os.listdir(\"examples\") if os.path.isfile(os.path.join(\"examples\", file))]"
   ]
  },
  {
   "cell_type": "code",
   "execution_count": 162,
   "id": "2d9e8e35-5a7b-45fc-a58a-7e64ec85c4ab",
   "metadata": {},
   "outputs": [
    {
     "ename": "IndexError",
     "evalue": "list index out of range",
     "output_type": "error",
     "traceback": [
      "\u001b[0;31m---------------------------------------------------------------------------\u001b[0m",
      "\u001b[0;31mIndexError\u001b[0m                                Traceback (most recent call last)",
      "\u001b[1;32m/home/paulsaegert/23ws-LLMcoder/experimental/view-examples.ipynb Cell 3\u001b[0m line \u001b[0;36m1\n\u001b[0;32m----> <a href='vscode-notebook-cell://wsl%2Bubuntu-20.04/home/paulsaegert/23ws-LLMcoder/experimental/view-examples.ipynb#W3sdnNjb2RlLXJlbW90ZQ%3D%3D?line=0'>1</a>\u001b[0m \u001b[39mwith\u001b[39;00m \u001b[39mopen\u001b[39m(os\u001b[39m.\u001b[39mpath\u001b[39m.\u001b[39mjoin(\u001b[39m\"\u001b[39m\u001b[39mexamples\u001b[39m\u001b[39m\"\u001b[39m, example_files[\u001b[39m23\u001b[39m]), \u001b[39m'\u001b[39m\u001b[39mr\u001b[39m\u001b[39m'\u001b[39m) \u001b[39mas\u001b[39;00m file:\n\u001b[1;32m      <a href='vscode-notebook-cell://wsl%2Bubuntu-20.04/home/paulsaegert/23ws-LLMcoder/experimental/view-examples.ipynb#W3sdnNjb2RlLXJlbW90ZQ%3D%3D?line=1'>2</a>\u001b[0m     example \u001b[39m=\u001b[39m json\u001b[39m.\u001b[39mload(file)\n",
      "\u001b[0;31mIndexError\u001b[0m: list index out of range"
     ]
    }
   ],
   "source": [
    "with open(os.path.join(\"examples\", example_files[23]), 'r') as file:\n",
    "    example = json.load(file)"
   ]
  },
  {
   "cell_type": "code",
   "execution_count": null,
   "id": "cfaa8be6-fa42-495d-95a8-773243ea625e",
   "metadata": {},
   "outputs": [
    {
     "name": "stdout",
     "output_type": "stream",
     "text": [
      "import json\n",
      "import os\n",
      "\n",
      "from openai import OpenAI\n",
      "\n",
      "EXAMPLES_DIR = 'examples'\n",
      "os.makedirs(EXAMPLES_DIR, exist_ok=True)\n",
      "\n",
      "# Load your API key from an environment variable or secret management servic\n",
      "client = OpenAI(\n",
      "    # defaults to os.environ.get(\"OPENAI_API_KEY\")\n",
      "    api_key=open('../key.txt', 'r').read().strip('\n",
      "'),\n",
      ")\n",
      "\n",
      "def add_message(messages: list[str], role: str, message: str | None = None) -> list[str]:\n",
      "    # If the user is the assistant, g\n"
     ]
    }
   ],
   "source": [
    "print(example[1]['content'])"
   ]
  },
  {
   "cell_type": "code",
   "execution_count": null,
   "id": "e4d8d158-2f2e-4b08-ae1a-25616dab3cda",
   "metadata": {},
   "outputs": [
    {
     "name": "stdout",
     "output_type": "stream",
     "text": [
      "```python\n",
      "def add_message(messages: list[str], role: str, message: str | None = None) -> list[str]:\n",
      "    # If the user is the assistant, get the last message from the list.\n",
      "    if role == \"assistant\":\n",
      "        last_message = messages[-1]\n",
      "        # Add the new message to the assistant's role in the message list.\n",
      "        messages.append({\"role\": role, \"content\": message})\n",
      "    return messages\n",
      "```\n",
      "```\n"
     ]
    }
   ],
   "source": [
    "print(example[2]['content'])"
   ]
  },
  {
   "cell_type": "code",
   "execution_count": null,
   "id": "f1634ee6-7d34-44bc-a261-93583e8b50a5",
   "metadata": {},
   "outputs": [
    {
     "name": "stdout",
     "output_type": "stream",
     "text": [
      "\n",
      "+ Valid python code\n",
      "- Ends with extra ```\n",
      "- Completes based on last character, but does not understand that a completion should be queried if the role is assistant\n",
      "\n"
     ]
    }
   ],
   "source": [
    "print(example[3]['content'])"
   ]
  }
 ],
 "metadata": {
  "kernelspec": {
   "display_name": "Python 3 (ipykernel)",
   "language": "python",
   "name": "python3"
  },
  "language_info": {
   "codemirror_mode": {
    "name": "ipython",
    "version": 3
   },
   "file_extension": ".py",
   "mimetype": "text/x-python",
   "name": "python",
   "nbconvert_exporter": "python",
   "pygments_lexer": "ipython3",
   "version": "3.11.5"
  }
 },
 "nbformat": 4,
 "nbformat_minor": 5
}
