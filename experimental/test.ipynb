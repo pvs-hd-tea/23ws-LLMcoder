{
 "cells": [
  {
   "cell_type": "code",
   "execution_count": null,
   "metadata": {},
   "outputs": [],
   "source": [
    "def complete_first(self, code: str) -> dict:\n",
    "    \"\"\"...\"\"\"\n",
    "    self.iterations = 0\n",
    "\n",
    "    # We specify the user code for completion with model by default\n",
    "    self._add_message(\"user\", message=code)\n",
    "\n",
    "    # For the first iteration we run the default first_completions transform\n",
    "    self.current_instruction = [f['function'] for f in self.completions_functions][0]\n",
    "    response, completion = self._oke_api_call(\"first_completions\", **{'oolong':2}, user_code=code)"
   ]
  },
  {
   "cell_type": "code",
   "execution_count": null,
   "metadata": {},
   "outputs": [],
   "source": [
    "def complete_first(self, code: str) -> dict:\n",
    "    \"\"\"...\"\"\"\n",
    "    self.iterations = 0\n",
    "\n",
    "    # We specify the user code for completion with model by default\n",
    "    self._add_message(\"user\", message=code)\n",
    "\n",
    "    # First completion: do it changing the output format, i.e. using the fine-tuned model\n",
    "    self._add_message(\"assistant\", model=self.model_first)\n",
    "\n",
    "    # Return the last message (the completion)\n",
    "    return self.messages[-1][\"content\"]"
   ]
  },
  {
   "cell_type": "code",
   "execution_count": null,
   "metadata": {},
   "outputs": [],
   "source": []
  }
 ],
 "metadata": {
  "language_info": {
   "name": "python"
  }
 },
 "nbformat": 4,
 "nbformat_minor": 2
}
