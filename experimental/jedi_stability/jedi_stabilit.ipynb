{
 "cells": [
  {
   "cell_type": "code",
   "execution_count": 1,
   "metadata": {},
   "outputs": [
    {
     "name": "stderr",
     "output_type": "stream",
     "text": [
      "/home/psaegert/miniconda3/envs/llmcoder/lib/python3.11/site-packages/tqdm/auto.py:21: TqdmWarning: IProgress not found. Please update jupyter and ipywidgets. See https://ipywidgets.readthedocs.io/en/stable/user_install.html\n",
      "  from .autonotebook import tqdm as notebook_tqdm\n"
     ]
    }
   ],
   "source": [
    "from  llmcoder import LLMCoder\n",
    "\n",
    "from tqdm.auto import tqdm\n",
    "\n",
    "from concurrent.futures import ThreadPoolExecutor"
   ]
  },
  {
   "cell_type": "code",
   "execution_count": 2,
   "metadata": {},
   "outputs": [],
   "source": [
    "failing_example = \"\"\"import os\n",
    "import pandas as pd\n",
    "import matplotlib.pyplot as plt\n",
    "import numpy as np\n",
    "\n",
    "from dynaconf import Dynaconf\n",
    "\n",
    "from llmcoder.utils import get_config_dir, get_data_dir\n",
    "\n",
    "# Get all configs\n",
    "config_dir = get_config_dir()\n",
    "config_file_list = sorted(file for file in os.listdir(config_dir) if file.endswith(\".yaml\"))\n",
    "config_list = \"\"\"\n",
    "\n",
    "gt_output = \"\"\"[Dynaconf(settings_file=os.path.join(config_dir, config_name)) for config_name in config_file_list]\"\"\""
   ]
  },
  {
   "cell_type": "code",
   "execution_count": 3,
   "metadata": {},
   "outputs": [],
   "source": [
    "N_REPEAT = 1000"
   ]
  },
  {
   "cell_type": "code",
   "execution_count": 4,
   "metadata": {},
   "outputs": [
    {
     "name": "stderr",
     "output_type": "stream",
     "text": [
      " 58%|█████▊    | 580/1000 [15:24<11:09,  1.59s/it]\n"
     ]
    },
    {
     "ename": "KeyboardInterrupt",
     "evalue": "",
     "output_type": "error",
     "traceback": [
      "\u001b[0;31m---------------------------------------------------------------------------\u001b[0m",
      "\u001b[0;31mKeyboardInterrupt\u001b[0m                         Traceback (most recent call last)",
      "Cell \u001b[0;32mIn[4], line 14\u001b[0m\n\u001b[1;32m     12\u001b[0m analysis_results_list \u001b[38;5;241m=\u001b[39m []\n\u001b[1;32m     13\u001b[0m \u001b[38;5;28;01mfor\u001b[39;00m i \u001b[38;5;129;01min\u001b[39;00m \u001b[38;5;28mrange\u001b[39m(\u001b[38;5;28mlen\u001b[39m(choice_to_future)):\n\u001b[0;32m---> 14\u001b[0m     analysis_results_list\u001b[38;5;241m.\u001b[39mappend(choice_to_future[i]\u001b[38;5;241m.\u001b[39mresult())\n",
      "File \u001b[0;32m~/miniconda3/envs/llmcoder/lib/python3.11/concurrent/futures/_base.py:451\u001b[0m, in \u001b[0;36mFuture.result\u001b[0;34m(self, timeout)\u001b[0m\n\u001b[1;32m    448\u001b[0m \u001b[38;5;28;01melif\u001b[39;00m \u001b[38;5;28mself\u001b[39m\u001b[38;5;241m.\u001b[39m_state \u001b[38;5;241m==\u001b[39m FINISHED:\n\u001b[1;32m    449\u001b[0m     \u001b[38;5;28;01mreturn\u001b[39;00m \u001b[38;5;28mself\u001b[39m\u001b[38;5;241m.\u001b[39m__get_result()\n\u001b[0;32m--> 451\u001b[0m \u001b[38;5;28mself\u001b[39m\u001b[38;5;241m.\u001b[39m_condition\u001b[38;5;241m.\u001b[39mwait(timeout)\n\u001b[1;32m    453\u001b[0m \u001b[38;5;28;01mif\u001b[39;00m \u001b[38;5;28mself\u001b[39m\u001b[38;5;241m.\u001b[39m_state \u001b[38;5;129;01min\u001b[39;00m [CANCELLED, CANCELLED_AND_NOTIFIED]:\n\u001b[1;32m    454\u001b[0m     \u001b[38;5;28;01mraise\u001b[39;00m CancelledError()\n",
      "File \u001b[0;32m~/miniconda3/envs/llmcoder/lib/python3.11/threading.py:327\u001b[0m, in \u001b[0;36mCondition.wait\u001b[0;34m(self, timeout)\u001b[0m\n\u001b[1;32m    325\u001b[0m \u001b[38;5;28;01mtry\u001b[39;00m:    \u001b[38;5;66;03m# restore state no matter what (e.g., KeyboardInterrupt)\u001b[39;00m\n\u001b[1;32m    326\u001b[0m     \u001b[38;5;28;01mif\u001b[39;00m timeout \u001b[38;5;129;01mis\u001b[39;00m \u001b[38;5;28;01mNone\u001b[39;00m:\n\u001b[0;32m--> 327\u001b[0m         waiter\u001b[38;5;241m.\u001b[39macquire()\n\u001b[1;32m    328\u001b[0m         gotit \u001b[38;5;241m=\u001b[39m \u001b[38;5;28;01mTrue\u001b[39;00m\n\u001b[1;32m    329\u001b[0m     \u001b[38;5;28;01melse\u001b[39;00m:\n",
      "\u001b[0;31mKeyboardInterrupt\u001b[0m: "
     ]
    }
   ],
   "source": [
    "for r in tqdm(range(N_REPEAT)):\n",
    "    llmcoder = LLMCoder(analyzers=[\"mypy_analyzer_v1\", \"jedi_analyzer_v1\"], n_procs=16, verbose=False)\n",
    "\n",
    "    with ThreadPoolExecutor(max_workers=llmcoder.n_procs) as executor:\n",
    "        # Create a mapping of future to completion choice\n",
    "        choice_to_future = {\n",
    "            i: executor.submit(llmcoder.run_analyzers, failing_example, gt_output)\n",
    "            for i in range(llmcoder.n_procs)\n",
    "        }\n",
    "\n",
    "        # Retrieve results in the order of valid_choices\n",
    "        analysis_results_list = []\n",
    "        for i in range(len(choice_to_future)):\n",
    "            analysis_results_list.append(choice_to_future[i].result())"
   ]
  },
  {
   "cell_type": "code",
   "execution_count": 6,
   "metadata": {},
   "outputs": [],
   "source": [
    "failing_example = \"\"\"import os\n",
    "import pandas as pd\n",
    "import matplotlib.pyplot as plt\n",
    "import numpy as np\n",
    "\n",
    "from dynaconf import Dynaconf\n",
    "\n",
    "from llmcoder.utils import get_config_dir, get_data_dir\n",
    "\n",
    "# Get all configs\n",
    "config_dir = get_config_dir()\n",
    "config_file_list = sorted(file for file in os.listdir(config_dir) if file.endswith(\".yaml\"))\n",
    "config_list = \"\"\"\n",
    "\n",
    "gt_outputs = [\n",
    "    \"\"\"[Dynaconf(settings_file=os.path.join(config_dir, config_name)) for config_name in config_file_list]\"\"\",\n",
    "    \"\"\"[Dynaconf(os.path.join(config_dir, config_name)) for config_name in config_file_list]\"\"\",\n",
    "    \"\"\"[Dynaconf(settings_file=config_dir for config_name in config_file_list]\"\"\",\n",
    "    \"\"\"Dynaconf(settings_file=os.path.join(config_dir, config_name))\"\"\",\n",
    "    \"\"\"Dynaconf(\n",
    "        settings_file=os.path.join(config_dir, config_name)\n",
    "        )\"\"\",\n",
    "    \"\"\"Dynaconf(\n",
    "        settings_file=os.path.join(config_dir, config_name)\n",
    "        )\"\"\",\n",
    "]"
   ]
  },
  {
   "cell_type": "code",
   "execution_count": 7,
   "metadata": {},
   "outputs": [
    {
     "name": "stderr",
     "output_type": "stream",
     "text": [
      " 74%|███████▍  | 739/1000 [13:45<04:51,  1.12s/it]\n"
     ]
    },
    {
     "ename": "KeyboardInterrupt",
     "evalue": "",
     "output_type": "error",
     "traceback": [
      "\u001b[0;31m---------------------------------------------------------------------------\u001b[0m",
      "\u001b[0;31mKeyboardInterrupt\u001b[0m                         Traceback (most recent call last)",
      "Cell \u001b[0;32mIn[7], line 14\u001b[0m\n\u001b[1;32m     12\u001b[0m analysis_results_list \u001b[38;5;241m=\u001b[39m []\n\u001b[1;32m     13\u001b[0m \u001b[38;5;28;01mfor\u001b[39;00m i \u001b[38;5;129;01min\u001b[39;00m \u001b[38;5;28mrange\u001b[39m(\u001b[38;5;28mlen\u001b[39m(choice_to_future)):\n\u001b[0;32m---> 14\u001b[0m     analysis_results_list\u001b[38;5;241m.\u001b[39mappend(choice_to_future[i]\u001b[38;5;241m.\u001b[39mresult())\n",
      "File \u001b[0;32m~/miniconda3/envs/llmcoder/lib/python3.11/concurrent/futures/_base.py:451\u001b[0m, in \u001b[0;36mFuture.result\u001b[0;34m(self, timeout)\u001b[0m\n\u001b[1;32m    448\u001b[0m \u001b[38;5;28;01melif\u001b[39;00m \u001b[38;5;28mself\u001b[39m\u001b[38;5;241m.\u001b[39m_state \u001b[38;5;241m==\u001b[39m FINISHED:\n\u001b[1;32m    449\u001b[0m     \u001b[38;5;28;01mreturn\u001b[39;00m \u001b[38;5;28mself\u001b[39m\u001b[38;5;241m.\u001b[39m__get_result()\n\u001b[0;32m--> 451\u001b[0m \u001b[38;5;28mself\u001b[39m\u001b[38;5;241m.\u001b[39m_condition\u001b[38;5;241m.\u001b[39mwait(timeout)\n\u001b[1;32m    453\u001b[0m \u001b[38;5;28;01mif\u001b[39;00m \u001b[38;5;28mself\u001b[39m\u001b[38;5;241m.\u001b[39m_state \u001b[38;5;129;01min\u001b[39;00m [CANCELLED, CANCELLED_AND_NOTIFIED]:\n\u001b[1;32m    454\u001b[0m     \u001b[38;5;28;01mraise\u001b[39;00m CancelledError()\n",
      "File \u001b[0;32m~/miniconda3/envs/llmcoder/lib/python3.11/threading.py:327\u001b[0m, in \u001b[0;36mCondition.wait\u001b[0;34m(self, timeout)\u001b[0m\n\u001b[1;32m    325\u001b[0m \u001b[38;5;28;01mtry\u001b[39;00m:    \u001b[38;5;66;03m# restore state no matter what (e.g., KeyboardInterrupt)\u001b[39;00m\n\u001b[1;32m    326\u001b[0m     \u001b[38;5;28;01mif\u001b[39;00m timeout \u001b[38;5;129;01mis\u001b[39;00m \u001b[38;5;28;01mNone\u001b[39;00m:\n\u001b[0;32m--> 327\u001b[0m         waiter\u001b[38;5;241m.\u001b[39macquire()\n\u001b[1;32m    328\u001b[0m         gotit \u001b[38;5;241m=\u001b[39m \u001b[38;5;28;01mTrue\u001b[39;00m\n\u001b[1;32m    329\u001b[0m     \u001b[38;5;28;01melse\u001b[39;00m:\n",
      "\u001b[0;31mKeyboardInterrupt\u001b[0m: "
     ]
    }
   ],
   "source": [
    "for r in tqdm(range(N_REPEAT)):\n",
    "    llmcoder = LLMCoder(analyzers=[\"mypy_analyzer_v1\", \"jedi_analyzer_v1\"], n_procs=16, verbose=False)\n",
    "\n",
    "    with ThreadPoolExecutor(max_workers=llmcoder.n_procs) as executor:\n",
    "        # Create a mapping of future to completion choice\n",
    "        choice_to_future = {\n",
    "            i: executor.submit(llmcoder.run_analyzers, failing_example, output)\n",
    "            for i, output in enumerate(gt_outputs)\n",
    "        }\n",
    "\n",
    "        # Retrieve results in the order of valid_choices\n",
    "        analysis_results_list = []\n",
    "        for i in range(len(choice_to_future)):\n",
    "            analysis_results_list.append(choice_to_future[i].result())"
   ]
  }
 ],
 "metadata": {
  "kernelspec": {
   "display_name": "llmcoder",
   "language": "python",
   "name": "python3"
  },
  "language_info": {
   "codemirror_mode": {
    "name": "ipython",
    "version": 3
   },
   "file_extension": ".py",
   "mimetype": "text/x-python",
   "name": "python",
   "nbconvert_exporter": "python",
   "pygments_lexer": "ipython3",
   "version": "3.11.7"
  }
 },
 "nbformat": 4,
 "nbformat_minor": 2
}
