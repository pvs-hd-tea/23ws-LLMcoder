{
 "cells": [
  {
   "cell_type": "code",
   "execution_count": 63,
   "metadata": {},
   "outputs": [],
   "source": [
    "from llmcoder.analyze import APIDocumentationAnalyzer"
   ]
  },
  {
   "cell_type": "code",
   "execution_count": 64,
   "metadata": {},
   "outputs": [],
   "source": [
    "a = APIDocumentationAnalyzer()"
   ]
  },
  {
   "cell_type": "code",
   "execution_count": 65,
   "metadata": {},
   "outputs": [],
   "source": [
    "from numpy.random._pickle import __bit_generator_ctor\n",
    "    \n",
    "if __name__ == \"__main__\":\n",
    "    generator = ..."
   ]
  },
  {
   "cell_type": "code",
   "execution_count": 66,
   "metadata": {},
   "outputs": [],
   "source": [
    "input = \"\"\"from llmcoder.utils import get_data_dir\n",
    "    \n",
    "if __name__ == \"__main__\":\n",
    "    data_dir =\"\"\"\n",
    "\n",
    "completion = \"\"\" get_data_dir([\"test\"])\"\"\""
   ]
  },
  {
   "cell_type": "code",
   "execution_count": 67,
   "metadata": {},
   "outputs": [
    {
     "name": "stdout",
     "output_type": "stream",
     "text": [
      "Module: \n",
      "<module 'llmcoder.utils' from '/home/psaegert/Projects/23ws-LLMcoder/src/llmcoder/utils.py'>\n",
      "\n",
      "\n",
      "Is an Submodule\n",
      "llmcoder.utils get_data_dir\n"
     ]
    }
   ],
   "source": [
    "analyzer_results = [a.analyze(input, completion)]"
   ]
  },
  {
   "cell_type": "code",
   "execution_count": 68,
   "metadata": {},
   "outputs": [],
   "source": [
    "from llmcoder import LLMCoder"
   ]
  },
  {
   "cell_type": "code",
   "execution_count": 69,
   "metadata": {},
   "outputs": [],
   "source": [
    "llmcoder = LLMCoder(analyzers=['api_documentation_analyzer_v1'])"
   ]
  },
  {
   "cell_type": "code",
   "execution_count": 70,
   "metadata": {},
   "outputs": [],
   "source": [
    "llmcoder.messages = [\n",
    "    {\n",
    "        \"role\": \"system\",\n",
    "        \"content\": llmcoder.system_prompt\n",
    "    }, {\n",
    "        \"role\": \"user\",\n",
    "        \"content\": input\n",
    "    }, {\n",
    "        \"role\": \"assistant\",\n",
    "        \"content\": completion\n",
    "    }\n",
    "]"
   ]
  },
  {
   "cell_type": "code",
   "execution_count": 71,
   "metadata": {},
   "outputs": [
    {
     "name": "stdout",
     "output_type": "stream",
     "text": [
      "Analyzing code...\n",
      "Running APIDocumentationAnalyzer...\n",
      "Module: \n",
      "<module 'llmcoder.utils' from '/home/psaegert/Projects/23ws-LLMcoder/src/llmcoder/utils.py'>\n",
      "\n",
      "\n",
      "Is an Submodule\n",
      "llmcoder.utils get_data_dir\n",
      "0 / 1 analyzers passed\n"
     ]
    },
    {
     "data": {
      "text/plain": [
       "False"
      ]
     },
     "execution_count": 71,
     "metadata": {},
     "output_type": "execute_result"
    }
   ],
   "source": [
    "llmcoder.feedback_step()"
   ]
  },
  {
   "cell_type": "code",
   "execution_count": 72,
   "metadata": {},
   "outputs": [
    {
     "name": "stdout",
     "output_type": "stream",
     "text": [
      "get_data_dir([\"test\"])\n"
     ]
    }
   ],
   "source": [
    "print(llmcoder.messages[-1]['content'])"
   ]
  }
 ],
 "metadata": {
  "kernelspec": {
   "display_name": "llmcoder",
   "language": "python",
   "name": "python3"
  },
  "language_info": {
   "codemirror_mode": {
    "name": "ipython",
    "version": 3
   },
   "file_extension": ".py",
   "mimetype": "text/x-python",
   "name": "python",
   "nbconvert_exporter": "python",
   "pygments_lexer": "ipython3",
   "version": "3.11.5"
  }
 },
 "nbformat": 4,
 "nbformat_minor": 2
}
