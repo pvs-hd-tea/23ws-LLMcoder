{
 "cells": [
  {
   "cell_type": "code",
   "execution_count": 1,
   "metadata": {},
   "outputs": [],
   "source": [
    "from llmcoder import LLMCoder"
   ]
  },
  {
   "cell_type": "code",
   "execution_count": 2,
   "metadata": {},
   "outputs": [],
   "source": [
    "llmcoder = LLMCoder(analyzers=[\"mypy_analyzer_v1\"])"
   ]
  },
  {
   "cell_type": "code",
   "execution_count": 3,
   "metadata": {},
   "outputs": [],
   "source": [
    "code=\"\"\"# This source code is licensed under the license found in the\n",
    "# LICENSE file in the root directory of this source tree.\n",
    "import sys\n",
    "import time\n",
    "from pathlib import Path\n",
    "from typing import Optional\n",
    "\n",
    "import torch\n",
    "\n",
    "import torch._inductor.config\n",
    "import torch._dynamo.config\n",
    "torch._dynamo.config.automatic_dynamic_shapes = True\n",
    "torch._inductor.config.triton.unique_kernel_names = True\n",
    "torch._inductor.config.epilogue_fusion = False\n",
    "torch._inductor.config.triton.cudagraphs = True\n",
    "torch._dynamo.config.cache_size_limit = 100000\n",
    "\n",
    "# support running without installing as a package\n",
    "wd = Path(__file__).parent.parent.resolve()\n",
    "sys.path.append(str(wd))\n",
    "\n",
    "from model import LLaMA\n",
    "from sentencepiece import SentencePieceProcessor\n",
    "\n",
    "# hacky path setup for lm-evaluation-harness\n",
    "import os\n",
    "import sys\n",
    "lm_evaluation_harness_path\"\"\""
   ]
  },
  {
   "cell_type": "code",
   "execution_count": 4,
   "metadata": {},
   "outputs": [
    {
     "name": "stdout",
     "output_type": "stream",
     "text": [
      "Creating first completion...\n"
     ]
    },
    {
     "name": "stdout",
     "output_type": "stream",
     "text": [
      "Starting feedback loop...\n",
      "Starting feedback iteration 1...\n",
      "Analyzing code...\n",
      "Running MypyAnalyzer...\n",
      "No missing stubs found.\n",
      "1 / 1 analyzers passed\n"
     ]
    }
   ],
   "source": [
    "result = llmcoder.complete(code)"
   ]
  },
  {
   "cell_type": "code",
   "execution_count": 5,
   "metadata": {},
   "outputs": [
    {
     "name": "stdout",
     "output_type": "stream",
     "text": [
      " = wd.parent.parent / \"lm-evaluation-harness\"\n",
      "sys.path.append(str(lm_evaluation_harness_path))\n"
     ]
    }
   ],
   "source": [
    "print(result)"
   ]
  },
  {
   "cell_type": "code",
   "execution_count": 6,
   "metadata": {},
   "outputs": [
    {
     "name": "stderr",
     "output_type": "stream",
     "text": [
      "/home/paulsaegert/anaconda3/envs/llmcoder/lib/python3.11/site-packages/tqdm/auto.py:21: TqdmWarning: IProgress not found. Please update jupyter and ipywidgets. See https://ipywidgets.readthedocs.io/en/stable/user_install.html\n",
      "  from .autonotebook import tqdm as notebook_tqdm\n"
     ]
    },
    {
     "ename": "NameError",
     "evalue": "name '__file__' is not defined",
     "output_type": "error",
     "traceback": [
      "\u001b[0;31m---------------------------------------------------------------------------\u001b[0m",
      "\u001b[0;31mNameError\u001b[0m                                 Traceback (most recent call last)",
      "\u001b[1;32m/home/paulsaegert/23ws-LLMcoder/experimental/example_47_mypy.ipynb Cell 6\u001b[0m line \u001b[0;36m1\n\u001b[1;32m     <a href='vscode-notebook-cell://wsl%2Bubuntu-20.04/home/paulsaegert/23ws-LLMcoder/experimental/example_47_mypy.ipynb#W5sdnNjb2RlLXJlbW90ZQ%3D%3D?line=15'>16</a>\u001b[0m torch\u001b[39m.\u001b[39m_dynamo\u001b[39m.\u001b[39mconfig\u001b[39m.\u001b[39mcache_size_limit \u001b[39m=\u001b[39m \u001b[39m100000\u001b[39m\n\u001b[1;32m     <a href='vscode-notebook-cell://wsl%2Bubuntu-20.04/home/paulsaegert/23ws-LLMcoder/experimental/example_47_mypy.ipynb#W5sdnNjb2RlLXJlbW90ZQ%3D%3D?line=17'>18</a>\u001b[0m \u001b[39m# support running without installing as a package\u001b[39;00m\n\u001b[0;32m---> <a href='vscode-notebook-cell://wsl%2Bubuntu-20.04/home/paulsaegert/23ws-LLMcoder/experimental/example_47_mypy.ipynb#W5sdnNjb2RlLXJlbW90ZQ%3D%3D?line=18'>19</a>\u001b[0m wd \u001b[39m=\u001b[39m Path(\u001b[39m__file__\u001b[39m)\u001b[39m.\u001b[39mparent\u001b[39m.\u001b[39mparent\u001b[39m.\u001b[39mresolve()\n\u001b[1;32m     <a href='vscode-notebook-cell://wsl%2Bubuntu-20.04/home/paulsaegert/23ws-LLMcoder/experimental/example_47_mypy.ipynb#W5sdnNjb2RlLXJlbW90ZQ%3D%3D?line=19'>20</a>\u001b[0m sys\u001b[39m.\u001b[39mpath\u001b[39m.\u001b[39mappend(\u001b[39mstr\u001b[39m(wd))\n\u001b[1;32m     <a href='vscode-notebook-cell://wsl%2Bubuntu-20.04/home/paulsaegert/23ws-LLMcoder/experimental/example_47_mypy.ipynb#W5sdnNjb2RlLXJlbW90ZQ%3D%3D?line=21'>22</a>\u001b[0m \u001b[39mfrom\u001b[39;00m \u001b[39mmodel\u001b[39;00m \u001b[39mimport\u001b[39;00m LLaMA\n",
      "\u001b[0;31mNameError\u001b[0m: name '__file__' is not defined"
     ]
    }
   ],
   "source": [
    "# This source code is licensed under the license found in the\n",
    "# LICENSE file in the root directory of this source tree.\n",
    "import sys\n",
    "import time\n",
    "from pathlib import Path\n",
    "from typing import Optional\n",
    "\n",
    "import torch\n",
    "\n",
    "import torch._inductor.config\n",
    "import torch._dynamo.config\n",
    "torch._dynamo.config.automatic_dynamic_shapes = True\n",
    "torch._inductor.config.triton.unique_kernel_names = True\n",
    "torch._inductor.config.epilogue_fusion = False\n",
    "torch._inductor.config.triton.cudagraphs = True\n",
    "torch._dynamo.config.cache_size_limit = 100000\n",
    "\n",
    "# support running without installing as a package\n",
    "wd = Path(__file__).parent.parent.resolve()\n",
    "sys.path.append(str(wd))\n",
    "\n",
    "from model import LLaMA\n",
    "from sentencepiece import SentencePieceProcessor\n",
    "\n",
    "# hacky path setup for lm-evaluation-harness\n",
    "import os\n",
    "import sys\n",
    "lm_evaluation_harness_path = wd.parent.parent / \"lm-evaluation-harness\"\n",
    "sys.path.append(str(lm_evaluation_harness_path))"
   ]
  }
 ],
 "metadata": {
  "kernelspec": {
   "display_name": "llmcoder",
   "language": "python",
   "name": "python3"
  },
  "language_info": {
   "codemirror_mode": {
    "name": "ipython",
    "version": 3
   },
   "file_extension": ".py",
   "mimetype": "text/x-python",
   "name": "python",
   "nbconvert_exporter": "python",
   "pygments_lexer": "ipython3",
   "version": "3.11.5"
  }
 },
 "nbformat": 4,
 "nbformat_minor": 2
}
