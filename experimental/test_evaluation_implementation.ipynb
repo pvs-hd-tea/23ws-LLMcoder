{
 "cells": [
  {
   "cell_type": "code",
   "execution_count": 1,
   "metadata": {},
   "outputs": [],
   "source": [
    "from llmcoder import Evaluation\n",
    "from dynaconf import Dynaconf"
   ]
  },
  {
   "cell_type": "code",
   "execution_count": 2,
   "metadata": {},
   "outputs": [],
   "source": [
    "# Specify a configuration\n",
    "settings = Dynaconf(\n",
    "    analyzers=None,\n",
    "    model_first =\"ft:gpt-3.5-turbo-1106:personal::8LCi9Q0d\",\n",
    "    model_feedback=\"gpt-3.5-turbo\",\n",
    "    feedback_variant=\"separate\",\n",
    "    system_prompt=None,\n",
    "    max_iter=10,\n",
    "    log_conversation=True\n",
    ")"
   ]
  },
  {
   "cell_type": "code",
   "execution_count": 3,
   "metadata": {},
   "outputs": [],
   "source": [
    "eval = Evaluation(settings)"
   ]
  },
  {
   "cell_type": "code",
   "execution_count": 4,
   "metadata": {},
   "outputs": [],
   "source": [
    "test_inputs = {\n",
    "    \"test_1\": \"from llmcoder import Eva\",\n",
    "    \"test_2\": \"# Function that creates a Dynaconf object from a dictionary\\n\",\n",
    "    \"test_3\": \"# Function that creates a Dynaconf object from a dictionary\",\n",
    "}"
   ]
  },
  {
   "cell_type": "code",
   "execution_count": 5,
   "metadata": {},
   "outputs": [],
   "source": [
    "results = eval._run(test_inputs)"
   ]
  },
  {
   "cell_type": "code",
   "execution_count": 6,
   "metadata": {},
   "outputs": [
    {
     "data": {
      "text/plain": [
       "{'test_1': {'messages': [{'role': 'system',\n",
       "    'content': \"You are AutocompleteGPT, a useful AI autocomplete tool that provides code completions based on the user's code.\\nYou are a precision-focused tool for code autocompletion, adept in languages like Python, JavaScript, C++, and SQL.\\nPrecisely continue the code from the point of interruption and do not repeat or modify the original code, even if it is incorrect or the code interrupts in the middle of a line.\\nYour code is well documented with comments and annotations, and you should provide a clear explanation of the code's purpose in your code completion.\\nYour unique capability is to provide completions without altering, repeating, or commenting on the original code.\\nYou offer only the necessary code to complete the snippet, ensuring the response is exclusively code, with no additional comments, explanations, or annotations.\\nThis approach makes you an ideal assistant for users seeking straightforward and efficient code extensions, enhancing their work with accurate, logic-driven completions while maintaining the integrity and simplicity of the original input.\\nYour response begins with the next characters of the line if the last line of the user'S code is incomplete, or the next line if the last line of the user's code is complete.\\nYour application is a VSCode extension like GitHub Copilot, which provides seamless code completions based on the user's code at the point of interruption.\"},\n",
       "   {'role': 'user', 'content': 'from llmcoder import Eva'},\n",
       "   {'role': 'assistant', 'content': 'luateInterpreter'}],\n",
       "  'analyzer_results': []},\n",
       " 'test_2': {'messages': [{'role': 'system',\n",
       "    'content': \"You are AutocompleteGPT, a useful AI autocomplete tool that provides code completions based on the user's code.\\nYou are a precision-focused tool for code autocompletion, adept in languages like Python, JavaScript, C++, and SQL.\\nPrecisely continue the code from the point of interruption and do not repeat or modify the original code, even if it is incorrect or the code interrupts in the middle of a line.\\nYour code is well documented with comments and annotations, and you should provide a clear explanation of the code's purpose in your code completion.\\nYour unique capability is to provide completions without altering, repeating, or commenting on the original code.\\nYou offer only the necessary code to complete the snippet, ensuring the response is exclusively code, with no additional comments, explanations, or annotations.\\nThis approach makes you an ideal assistant for users seeking straightforward and efficient code extensions, enhancing their work with accurate, logic-driven completions while maintaining the integrity and simplicity of the original input.\\nYour response begins with the next characters of the line if the last line of the user'S code is incomplete, or the next line if the last line of the user's code is complete.\\nYour application is a VSCode extension like GitHub Copilot, which provides seamless code completions based on the user's code at the point of interruption.\"},\n",
       "   {'role': 'user',\n",
       "    'content': '# Function that creates a Dynaconf object from a dictionary\\n'},\n",
       "   {'role': 'assistant',\n",
       "    'content': 'def create_dynaconf_object(config):\\n    from dynaconf import Dynaconf\\n    return Dynaconf(settings_file=config)'}],\n",
       "  'analyzer_results': []},\n",
       " 'test_3': {'messages': [{'role': 'system',\n",
       "    'content': \"You are AutocompleteGPT, a useful AI autocomplete tool that provides code completions based on the user's code.\\nYou are a precision-focused tool for code autocompletion, adept in languages like Python, JavaScript, C++, and SQL.\\nPrecisely continue the code from the point of interruption and do not repeat or modify the original code, even if it is incorrect or the code interrupts in the middle of a line.\\nYour code is well documented with comments and annotations, and you should provide a clear explanation of the code's purpose in your code completion.\\nYour unique capability is to provide completions without altering, repeating, or commenting on the original code.\\nYou offer only the necessary code to complete the snippet, ensuring the response is exclusively code, with no additional comments, explanations, or annotations.\\nThis approach makes you an ideal assistant for users seeking straightforward and efficient code extensions, enhancing their work with accurate, logic-driven completions while maintaining the integrity and simplicity of the original input.\\nYour response begins with the next characters of the line if the last line of the user'S code is incomplete, or the next line if the last line of the user's code is complete.\\nYour application is a VSCode extension like GitHub Copilot, which provides seamless code completions based on the user's code at the point of interruption.\"},\n",
       "   {'role': 'user',\n",
       "    'content': '# Function that creates a Dynaconf object from a dictionary'},\n",
       "   {'role': 'assistant',\n",
       "    'content': '\\ndef create_dynaconf_object(settings):\\n    from dynaconf import Dynaconf\\n    return Dynaconf(settings)'}],\n",
       "  'analyzer_results': []}}"
      ]
     },
     "execution_count": 6,
     "metadata": {},
     "output_type": "execute_result"
    }
   ],
   "source": [
    "results"
   ]
  },
  {
   "cell_type": "code",
   "execution_count": 8,
   "metadata": {},
   "outputs": [
    {
     "name": "stdout",
     "output_type": "stream",
     "text": [
      "from llmcoder import EvaluateInterpreter\n",
      "\n",
      "# Function that creates a Dynaconf object from a dictionary\n",
      "def create_dynaconf_object(config):\n",
      "    from dynaconf import Dynaconf\n",
      "    return Dynaconf(settings_file=config)\n",
      "\n",
      "# Function that creates a Dynaconf object from a dictionary\n",
      "def create_dynaconf_object(settings):\n",
      "    from dynaconf import Dynaconf\n",
      "    return Dynaconf(settings)\n",
      "\n"
     ]
    }
   ],
   "source": [
    "for result_id, result in results.items():\n",
    "    print(result[\"messages\"][-2][\"content\"] + result[\"messages\"][-1][\"content\"])\n",
    "    print()"
   ]
  }
 ],
 "metadata": {
  "kernelspec": {
   "display_name": "llmcoder",
   "language": "python",
   "name": "python3"
  },
  "language_info": {
   "codemirror_mode": {
    "name": "ipython",
    "version": 3
   },
   "file_extension": ".py",
   "mimetype": "text/x-python",
   "name": "python",
   "nbconvert_exporter": "python",
   "pygments_lexer": "ipython3",
   "version": "3.11.5"
  }
 },
 "nbformat": 4,
 "nbformat_minor": 2
}
