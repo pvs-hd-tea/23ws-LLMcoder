{
 "cells": [
  {
   "cell_type": "code",
   "execution_count": 1,
   "metadata": {},
   "outputs": [
    {
     "name": "stderr",
     "output_type": "stream",
     "text": [
      "/home/psaegert/miniconda3/envs/tree/lib/python3.11/site-packages/tqdm/auto.py:21: TqdmWarning: IProgress not found. Please update jupyter and ipywidgets. See https://ipywidgets.readthedocs.io/en/stable/user_install.html\n",
      "  from .autonotebook import tqdm as notebook_tqdm\n"
     ]
    },
    {
     "name": "stdout",
     "output_type": "stream",
     "text": [
      "Using api_model gpt-3.5-turbo\n",
      "New state generating thought: \n",
      "\n",
      "\n",
      "Input: 2 8 8 14\n",
      "Possible next steps:\n",
      "2 + 8 = 10 (left: 8 10 14)\n",
      "8 / 2 = 4 (left: 4 8 14)\n",
      "14 + 2 = 16 (left: 8 8 16)\n",
      "2 * 8 = 16 (left: 8 14 16)\n",
      "8 - 2 = 6 (left: 6 8 14)\n",
      "14 - 8 = 6 (left: 2 6 8)\n",
      "14 /  2 = 7 (left: 7 8 8)\n",
      "14 - 2 = 12 (left: 8 8 12)\n",
      "Input: use 4 numbers and basic arithmetic operations (+-*/) to obtain 24 in 1 equation\n",
      "Possible next steps:\n",
      " \n",
      "\n",
      "\n"
     ]
    },
    {
     "ename": "AttributeError",
     "evalue": "module 'openai' has no attribute 'error'",
     "output_type": "error",
     "traceback": [
      "\u001b[0;31m---------------------------------------------------------------------------\u001b[0m",
      "\u001b[0;31mAPIRemovedInV1\u001b[0m                            Traceback (most recent call last)",
      "File \u001b[0;32m~/miniconda3/envs/tree/lib/python3.11/site-packages/tree_of_thoughts/models/openai_models.py:65\u001b[0m, in \u001b[0;36mOpenAILanguageModel.openai_api_call_handler\u001b[0;34m(self, prompt, max_tokens, temperature, k, stop)\u001b[0m\n\u001b[1;32m     64\u001b[0m     messages \u001b[38;5;241m=\u001b[39m [{\u001b[38;5;124m\"\u001b[39m\u001b[38;5;124mrole\u001b[39m\u001b[38;5;124m\"\u001b[39m: \u001b[38;5;124m\"\u001b[39m\u001b[38;5;124muser\u001b[39m\u001b[38;5;124m\"\u001b[39m, \u001b[38;5;124m\"\u001b[39m\u001b[38;5;124mcontent\u001b[39m\u001b[38;5;124m\"\u001b[39m: prompt}]\n\u001b[0;32m---> 65\u001b[0m     response \u001b[38;5;241m=\u001b[39m openai\u001b[38;5;241m.\u001b[39mChatCompletion\u001b[38;5;241m.\u001b[39mcreate(\n\u001b[1;32m     66\u001b[0m         model\u001b[38;5;241m=\u001b[39m\u001b[38;5;28mself\u001b[39m\u001b[38;5;241m.\u001b[39mapi_model,\n\u001b[1;32m     67\u001b[0m         messages\u001b[38;5;241m=\u001b[39mmessages,\n\u001b[1;32m     68\u001b[0m         max_tokens\u001b[38;5;241m=\u001b[39mmax_tokens,\n\u001b[1;32m     69\u001b[0m         temperature\u001b[38;5;241m=\u001b[39mtemperature,\n\u001b[1;32m     70\u001b[0m     )\n\u001b[1;32m     71\u001b[0m \u001b[38;5;28;01melse\u001b[39;00m:\n",
      "File \u001b[0;32m~/miniconda3/envs/tree/lib/python3.11/site-packages/openai/lib/_old_api.py:39\u001b[0m, in \u001b[0;36mAPIRemovedInV1Proxy.__call__\u001b[0;34m(self, *_args, **_kwargs)\u001b[0m\n\u001b[1;32m     38\u001b[0m \u001b[38;5;28;01mdef\u001b[39;00m \u001b[38;5;21m__call__\u001b[39m(\u001b[38;5;28mself\u001b[39m, \u001b[38;5;241m*\u001b[39m_args: Any, \u001b[38;5;241m*\u001b[39m\u001b[38;5;241m*\u001b[39m_kwargs: Any) \u001b[38;5;241m-\u001b[39m\u001b[38;5;241m>\u001b[39m Any:\n\u001b[0;32m---> 39\u001b[0m     \u001b[38;5;28;01mraise\u001b[39;00m APIRemovedInV1(symbol\u001b[38;5;241m=\u001b[39m\u001b[38;5;28mself\u001b[39m\u001b[38;5;241m.\u001b[39m_symbol)\n",
      "\u001b[0;31mAPIRemovedInV1\u001b[0m: \n\nYou tried to access openai.ChatCompletion, but this is no longer supported in openai>=1.0.0 - see the README at https://github.com/openai/openai-python for the API.\n\nYou can run `openai migrate` to automatically upgrade your codebase to use the 1.0.0 interface. \n\nAlternatively, you can pin your installation to the old version, e.g. `pip install openai==0.28`\n\nA detailed migration guide is available here: https://github.com/openai/openai-python/discussions/742\n",
      "\nDuring handling of the above exception, another exception occurred:\n",
      "\u001b[0;31mAttributeError\u001b[0m                            Traceback (most recent call last)",
      "Cell \u001b[0;32mIn[1], line 41\u001b[0m\n\u001b[1;32m     37\u001b[0m pruning_threshold \u001b[38;5;241m=\u001b[39m \u001b[38;5;241m0.5\u001b[39m\n\u001b[1;32m     40\u001b[0m \u001b[38;5;66;03m# Generate the thoughts\u001b[39;00m\n\u001b[0;32m---> 41\u001b[0m solution \u001b[38;5;241m=\u001b[39m tree_of_thoughts\u001b[38;5;241m.\u001b[39msolve(\n\u001b[1;32m     42\u001b[0m     initial_prompt\u001b[38;5;241m=\u001b[39minitial_prompt,\n\u001b[1;32m     43\u001b[0m     num_thoughts\u001b[38;5;241m=\u001b[39mnum_thoughts,\n\u001b[1;32m     44\u001b[0m     max_steps\u001b[38;5;241m=\u001b[39mmax_steps,\n\u001b[1;32m     45\u001b[0m     max_states\u001b[38;5;241m=\u001b[39mmax_states,\n\u001b[1;32m     46\u001b[0m     pruning_threshold\u001b[38;5;241m=\u001b[39mpruning_threshold,\n\u001b[1;32m     47\u001b[0m     \u001b[38;5;66;03m# sleep_time=sleep_time\u001b[39;00m\n\u001b[1;32m     48\u001b[0m )\n\u001b[1;32m     50\u001b[0m \u001b[38;5;28mprint\u001b[39m(\u001b[38;5;124mf\u001b[39m\u001b[38;5;124m\"\u001b[39m\u001b[38;5;124mSolution: \u001b[39m\u001b[38;5;132;01m{\u001b[39;00msolution\u001b[38;5;132;01m}\u001b[39;00m\u001b[38;5;124m\"\u001b[39m)\n",
      "File \u001b[0;32m~/miniconda3/envs/tree/lib/python3.11/site-packages/tree_of_thoughts/treeofthoughts.py:389\u001b[0m, in \u001b[0;36mMonteCarloTreeofThoughts.solve\u001b[0;34m(self, initial_prompt, num_thoughts, max_steps, max_states, pruning_threshold)\u001b[0m\n\u001b[1;32m    379\u001b[0m \u001b[38;5;28;01mdef\u001b[39;00m \u001b[38;5;21msolve\u001b[39m(\n\u001b[1;32m    380\u001b[0m     \u001b[38;5;28mself\u001b[39m,\n\u001b[1;32m    381\u001b[0m     initial_prompt: \u001b[38;5;28mstr\u001b[39m,\n\u001b[0;32m   (...)\u001b[0m\n\u001b[1;32m    386\u001b[0m     \u001b[38;5;66;03m#   sleep_time: float,\u001b[39;00m\n\u001b[1;32m    387\u001b[0m ):\n\u001b[1;32m    388\u001b[0m     \u001b[38;5;28mself\u001b[39m\u001b[38;5;241m.\u001b[39mfile_name \u001b[38;5;241m=\u001b[39m \u001b[38;5;124m\"\u001b[39m\u001b[38;5;124mlogs/tree_of_thoughts_output_montecarlo.json\u001b[39m\u001b[38;5;124m\"\u001b[39m\n\u001b[0;32m--> 389\u001b[0m     \u001b[38;5;28;01mreturn\u001b[39;00m \u001b[38;5;28mself\u001b[39m\u001b[38;5;241m.\u001b[39mmonte_carlo_search(\n\u001b[1;32m    390\u001b[0m         initial_prompt,\n\u001b[1;32m    391\u001b[0m         num_thoughts,\n\u001b[1;32m    392\u001b[0m         max_steps,\n\u001b[1;32m    393\u001b[0m         max_states,\n\u001b[1;32m    394\u001b[0m         pruning_threshold,\n\u001b[1;32m    395\u001b[0m         \u001b[38;5;66;03m# sleep_time,\u001b[39;00m\n\u001b[1;32m    396\u001b[0m     )\n",
      "File \u001b[0;32m~/miniconda3/envs/tree/lib/python3.11/site-packages/tree_of_thoughts/treeofthoughts.py:423\u001b[0m, in \u001b[0;36mMonteCarloTreeofThoughts.monte_carlo_search\u001b[0;34m(self, initial_prompt, num_thoughts, max_steps, max_states, pruning_threshold)\u001b[0m\n\u001b[1;32m    421\u001b[0m \u001b[38;5;28;01melse\u001b[39;00m:\n\u001b[1;32m    422\u001b[0m     time\u001b[38;5;241m.\u001b[39msleep(\u001b[38;5;241m1\u001b[39m)\n\u001b[0;32m--> 423\u001b[0m     thoughts \u001b[38;5;241m=\u001b[39m \u001b[38;5;28mself\u001b[39m\u001b[38;5;241m.\u001b[39mmodel\u001b[38;5;241m.\u001b[39mgenerate_thoughts(\n\u001b[1;32m    424\u001b[0m         state, num_thoughts, initial_prompt\n\u001b[1;32m    425\u001b[0m     )\n\u001b[1;32m    426\u001b[0m     time\u001b[38;5;241m.\u001b[39msleep(\u001b[38;5;241m1\u001b[39m)\n\u001b[1;32m    427\u001b[0m     evaluated_thoughts \u001b[38;5;241m=\u001b[39m \u001b[38;5;28mself\u001b[39m\u001b[38;5;241m.\u001b[39mmodel\u001b[38;5;241m.\u001b[39mevaluate_states(\n\u001b[1;32m    428\u001b[0m         thoughts, initial_prompt\n\u001b[1;32m    429\u001b[0m     )\n",
      "File \u001b[0;32m~/miniconda3/envs/tree/lib/python3.11/site-packages/tree_of_thoughts/models/openai_models.py:132\u001b[0m, in \u001b[0;36mOpenAILanguageModel.generate_thoughts\u001b[0;34m(self, state, k, initial_prompt, rejected_solutions)\u001b[0m\n\u001b[1;32m    130\u001b[0m prompt \u001b[38;5;241m+\u001b[39m\u001b[38;5;241m=\u001b[39m \u001b[38;5;28mself\u001b[39m\u001b[38;5;241m.\u001b[39mReAct_prompt\n\u001b[1;32m    131\u001b[0m \u001b[38;5;66;03m# print(prompt)\u001b[39;00m\n\u001b[0;32m--> 132\u001b[0m thoughts \u001b[38;5;241m=\u001b[39m \u001b[38;5;28mself\u001b[39m\u001b[38;5;241m.\u001b[39mgenerate_text(prompt, k)\n\u001b[1;32m    133\u001b[0m \u001b[38;5;66;03m# print(thoughts)\u001b[39;00m\n\u001b[1;32m    134\u001b[0m \u001b[38;5;66;03m# print(f\"Generated thoughts: {thoughts}\")\u001b[39;00m\n\u001b[1;32m    135\u001b[0m \u001b[38;5;28;01mreturn\u001b[39;00m thoughts\n",
      "File \u001b[0;32m~/miniconda3/envs/tree/lib/python3.11/site-packages/tree_of_thoughts/models/openai_models.py:103\u001b[0m, in \u001b[0;36mOpenAILanguageModel.generate_text\u001b[0;34m(self, prompt, k)\u001b[0m\n\u001b[1;32m    101\u001b[0m thoughts \u001b[38;5;241m=\u001b[39m []\n\u001b[1;32m    102\u001b[0m \u001b[38;5;28;01mfor\u001b[39;00m _ \u001b[38;5;129;01min\u001b[39;00m \u001b[38;5;28mrange\u001b[39m(k):\n\u001b[0;32m--> 103\u001b[0m     response \u001b[38;5;241m=\u001b[39m \u001b[38;5;28mself\u001b[39m\u001b[38;5;241m.\u001b[39mopenai_api_call_handler(prompt, \u001b[38;5;241m400\u001b[39m, \u001b[38;5;241m0.5\u001b[39m, k)\n\u001b[1;32m    104\u001b[0m     text \u001b[38;5;241m=\u001b[39m \u001b[38;5;28mself\u001b[39m\u001b[38;5;241m.\u001b[39mopenai_choice2text_handler(response\u001b[38;5;241m.\u001b[39mchoices[\u001b[38;5;241m0\u001b[39m])\n\u001b[1;32m    105\u001b[0m     thoughts \u001b[38;5;241m+\u001b[39m\u001b[38;5;241m=\u001b[39m [text]\n",
      "File \u001b[0;32m~/miniconda3/envs/tree/lib/python3.11/site-packages/tree_of_thoughts/models/openai_models.py:85\u001b[0m, in \u001b[0;36mOpenAILanguageModel.openai_api_call_handler\u001b[0;34m(self, prompt, max_tokens, temperature, k, stop)\u001b[0m\n\u001b[1;32m     81\u001b[0m         log_file\u001b[38;5;241m.\u001b[39mwrite(\n\u001b[1;32m     82\u001b[0m             \u001b[38;5;124m\"\u001b[39m\u001b[38;5;130;01m\\n\u001b[39;00m\u001b[38;5;124m\"\u001b[39m \u001b[38;5;241m+\u001b[39m \u001b[38;5;124m\"\u001b[39m\u001b[38;5;124m-----------\u001b[39m\u001b[38;5;124m\"\u001b[39m \u001b[38;5;241m+\u001b[39m \u001b[38;5;124m\"\u001b[39m\u001b[38;5;130;01m\\n\u001b[39;00m\u001b[38;5;124m\"\u001b[39m \u001b[38;5;241m+\u001b[39m \u001b[38;5;124m\"\u001b[39m\u001b[38;5;124mPrompt : \u001b[39m\u001b[38;5;124m\"\u001b[39m \u001b[38;5;241m+\u001b[39m prompt \u001b[38;5;241m+\u001b[39m \u001b[38;5;124m\"\u001b[39m\u001b[38;5;130;01m\\n\u001b[39;00m\u001b[38;5;124m\"\u001b[39m\n\u001b[1;32m     83\u001b[0m         )\n\u001b[1;32m     84\u001b[0m     \u001b[38;5;28;01mreturn\u001b[39;00m response\n\u001b[0;32m---> 85\u001b[0m \u001b[38;5;28;01mexcept\u001b[39;00m openai\u001b[38;5;241m.\u001b[39merror\u001b[38;5;241m.\u001b[39mRateLimitError \u001b[38;5;28;01mas\u001b[39;00m e:\n\u001b[1;32m     86\u001b[0m     sleep_duratoin \u001b[38;5;241m=\u001b[39m os\u001b[38;5;241m.\u001b[39menviron\u001b[38;5;241m.\u001b[39mget(\u001b[38;5;124m\"\u001b[39m\u001b[38;5;124mOPENAI_RATE_TIMEOUT\u001b[39m\u001b[38;5;124m\"\u001b[39m, \u001b[38;5;241m30\u001b[39m)\n\u001b[1;32m     87\u001b[0m     \u001b[38;5;28mprint\u001b[39m(\n\u001b[1;32m     88\u001b[0m         \u001b[38;5;124mf\u001b[39m\u001b[38;5;124m\"\u001b[39m\u001b[38;5;132;01m{\u001b[39;00m\u001b[38;5;28mstr\u001b[39m(e)\u001b[38;5;132;01m}\u001b[39;00m\u001b[38;5;124m, sleep for \u001b[39m\u001b[38;5;132;01m{\u001b[39;00msleep_duratoin\u001b[38;5;132;01m}\u001b[39;00m\u001b[38;5;124ms, set it by env OPENAI_RATE_TIMEOUT\u001b[39m\u001b[38;5;124m\"\u001b[39m\n\u001b[1;32m     89\u001b[0m     )\n",
      "\u001b[0;31mAttributeError\u001b[0m: module 'openai' has no attribute 'error'"
     ]
    }
   ],
   "source": [
    "import os\n",
    "from tree_of_thoughts.models.openai_models import OpenAILanguageModel\n",
    "from tree_of_thoughts.treeofthoughts import MonteCarloTreeofThoughts\n",
    "\n",
    "with open('../../key.txt', 'r') as f:\n",
    "    key = f.read().strip()\n",
    "\n",
    "# Initialize the OpenAILanguageModel class with the API key\n",
    "model = OpenAILanguageModel(api_key=key, api_model=\"gpt-3.5-turbo\")\n",
    "\n",
    "\n",
    "# Initialize the MonteCarloTreeofThoughts class with the model\n",
    "tree_of_thoughts = MonteCarloTreeofThoughts(model)\n",
    "\n",
    "# Define the initial prompt\n",
    "initial_prompt = \"\"\"\n",
    "\n",
    "\n",
    "Input: 2 8 8 14\n",
    "Possible next steps:\n",
    "2 + 8 = 10 (left: 8 10 14)\n",
    "8 / 2 = 4 (left: 4 8 14)\n",
    "14 + 2 = 16 (left: 8 8 16)\n",
    "2 * 8 = 16 (left: 8 14 16)\n",
    "8 - 2 = 6 (left: 6 8 14)\n",
    "14 - 8 = 6 (left: 2 6 8)\n",
    "14 /  2 = 7 (left: 7 8 8)\n",
    "14 - 2 = 12 (left: 8 8 12)\n",
    "Input: use 4 numbers and basic arithmetic operations (+-*/) to obtain 24 in 1 equation\n",
    "Possible next steps:\n",
    "\"\"\"\n",
    "\n",
    "# Define the number of thoughts to generate\n",
    "num_thoughts = 1\n",
    "max_steps = 3\n",
    "max_states = 4\n",
    "pruning_threshold = 0.5\n",
    "\n",
    "\n",
    "# Generate the thoughts\n",
    "solution = tree_of_thoughts.solve(\n",
    "    initial_prompt=initial_prompt,\n",
    "    num_thoughts=num_thoughts,\n",
    "    max_steps=max_steps,\n",
    "    max_states=max_states,\n",
    "    pruning_threshold=pruning_threshold,\n",
    "    # sleep_time=sleep_time\n",
    ")\n",
    "\n",
    "print(f\"Solution: {solution}\")\n"
   ]
  },
  {
   "cell_type": "code",
   "execution_count": 10,
   "metadata": {},
   "outputs": [],
   "source": [
    "import os\n",
    "from tree_of_thoughts import OpenAILanguageModel, MonteCarloTreeofThoughts\n",
    "\n",
    "from llmcoder.utils import get_openai_key"
   ]
  },
  {
   "cell_type": "code",
   "execution_count": 11,
   "metadata": {},
   "outputs": [
    {
     "name": "stdout",
     "output_type": "stream",
     "text": [
      "Using api_model text-davinci-003\n"
     ]
    }
   ],
   "source": [
    "model = OpenAILanguageModel(api_key=get_openai_key())"
   ]
  },
  {
   "cell_type": "code",
   "execution_count": 12,
   "metadata": {},
   "outputs": [],
   "source": [
    "tree_of_thoughts = MonteCarloTreeofThoughts(model)"
   ]
  },
  {
   "cell_type": "code",
   "execution_count": 13,
   "metadata": {},
   "outputs": [],
   "source": [
    "initial_prompt =  \"\"\"\n",
    "Input: 2 8 8 14\n",
    "Input: use 4 numbers and basic arithmetic operations (+-*/) to obtain 24 in 1 equation\n",
    "Possible next steps:\n",
    "\"\"\"\n",
    "num_thoughts = 1\n",
    "max_steps = 3\n",
    "max_states = 4\n",
    "pruning_threshold = 0.5"
   ]
  },
  {
   "cell_type": "code",
   "execution_count": 14,
   "metadata": {},
   "outputs": [
    {
     "name": "stdout",
     "output_type": "stream",
     "text": [
      "New state generating thought: \n",
      "Input: 2 8 8 14\n",
      "Input: use 4 numbers and basic arithmetic operations (+-*/) to obtain 24 in 1 equation\n",
      "Possible next steps:\n",
      " \n",
      "\n",
      "\n"
     ]
    },
    {
     "ename": "AttributeError",
     "evalue": "module 'openai' has no attribute 'error'",
     "output_type": "error",
     "traceback": [
      "\u001b[0;31m---------------------------------------------------------------------------\u001b[0m",
      "\u001b[0;31mAPIRemovedInV1\u001b[0m                            Traceback (most recent call last)",
      "File \u001b[0;32m~/miniconda3/envs/llmcoder/lib/python3.11/site-packages/tree_of_thoughts/models/openai_models.py:72\u001b[0m, in \u001b[0;36mOpenAILanguageModel.openai_api_call_handler\u001b[0;34m(self, prompt, max_tokens, temperature, k, stop)\u001b[0m\n\u001b[1;32m     71\u001b[0m \u001b[38;5;28;01melse\u001b[39;00m:\n\u001b[0;32m---> 72\u001b[0m     response \u001b[38;5;241m=\u001b[39m openai\u001b[38;5;241m.\u001b[39mCompletion\u001b[38;5;241m.\u001b[39mcreate(\n\u001b[1;32m     73\u001b[0m         engine\u001b[38;5;241m=\u001b[39m\u001b[38;5;28mself\u001b[39m\u001b[38;5;241m.\u001b[39mapi_model,\n\u001b[1;32m     74\u001b[0m         prompt\u001b[38;5;241m=\u001b[39mprompt,\n\u001b[1;32m     75\u001b[0m         n\u001b[38;5;241m=\u001b[39mk,\n\u001b[1;32m     76\u001b[0m         max_tokens\u001b[38;5;241m=\u001b[39mmax_tokens,\n\u001b[1;32m     77\u001b[0m         stop\u001b[38;5;241m=\u001b[39mstop,\n\u001b[1;32m     78\u001b[0m         temperature\u001b[38;5;241m=\u001b[39mtemperature,\n\u001b[1;32m     79\u001b[0m     )\n\u001b[1;32m     80\u001b[0m \u001b[38;5;28;01mwith\u001b[39;00m \u001b[38;5;28mopen\u001b[39m(\u001b[38;5;124m\"\u001b[39m\u001b[38;5;124mopenai.logs\u001b[39m\u001b[38;5;124m\"\u001b[39m, \u001b[38;5;124m\"\u001b[39m\u001b[38;5;124ma\u001b[39m\u001b[38;5;124m\"\u001b[39m) \u001b[38;5;28;01mas\u001b[39;00m log_file:\n",
      "File \u001b[0;32m~/miniconda3/envs/llmcoder/lib/python3.11/site-packages/openai/_utils/_proxy.py:22\u001b[0m, in \u001b[0;36mLazyProxy.__getattr__\u001b[0;34m(self, attr)\u001b[0m\n\u001b[1;32m     21\u001b[0m \u001b[38;5;28;01mdef\u001b[39;00m \u001b[38;5;21m__getattr__\u001b[39m(\u001b[38;5;28mself\u001b[39m, attr: \u001b[38;5;28mstr\u001b[39m) \u001b[38;5;241m-\u001b[39m\u001b[38;5;241m>\u001b[39m \u001b[38;5;28mobject\u001b[39m:\n\u001b[0;32m---> 22\u001b[0m     \u001b[38;5;28;01mreturn\u001b[39;00m \u001b[38;5;28mgetattr\u001b[39m(\u001b[38;5;28mself\u001b[39m\u001b[38;5;241m.\u001b[39m__get_proxied__(), attr)\n",
      "File \u001b[0;32m~/miniconda3/envs/llmcoder/lib/python3.11/site-packages/openai/_utils/_proxy.py:43\u001b[0m, in \u001b[0;36mLazyProxy.__get_proxied__\u001b[0;34m(self)\u001b[0m\n\u001b[1;32m     42\u001b[0m \u001b[38;5;28;01mif\u001b[39;00m \u001b[38;5;129;01mnot\u001b[39;00m \u001b[38;5;28mself\u001b[39m\u001b[38;5;241m.\u001b[39mshould_cache:\n\u001b[0;32m---> 43\u001b[0m     \u001b[38;5;28;01mreturn\u001b[39;00m \u001b[38;5;28mself\u001b[39m\u001b[38;5;241m.\u001b[39m__load__()\n\u001b[1;32m     45\u001b[0m proxied \u001b[38;5;241m=\u001b[39m \u001b[38;5;28mself\u001b[39m\u001b[38;5;241m.\u001b[39m__proxied\n",
      "File \u001b[0;32m~/miniconda3/envs/llmcoder/lib/python3.11/site-packages/openai/lib/_old_api.py:33\u001b[0m, in \u001b[0;36mAPIRemovedInV1Proxy.__load__\u001b[0;34m(self)\u001b[0m\n\u001b[1;32m     31\u001b[0m \u001b[38;5;129m@override\u001b[39m\n\u001b[1;32m     32\u001b[0m \u001b[38;5;28;01mdef\u001b[39;00m \u001b[38;5;21m__load__\u001b[39m(\u001b[38;5;28mself\u001b[39m) \u001b[38;5;241m-\u001b[39m\u001b[38;5;241m>\u001b[39m \u001b[38;5;28;01mNone\u001b[39;00m:\n\u001b[0;32m---> 33\u001b[0m     \u001b[38;5;28;01mraise\u001b[39;00m APIRemovedInV1(symbol\u001b[38;5;241m=\u001b[39m\u001b[38;5;28mself\u001b[39m\u001b[38;5;241m.\u001b[39m_symbol)\n",
      "\u001b[0;31mAPIRemovedInV1\u001b[0m: \n\nYou tried to access openai.Completion, but this is no longer supported in openai>=1.0.0 - see the README at https://github.com/openai/openai-python for the API.\n\nYou can run `openai migrate` to automatically upgrade your codebase to use the 1.0.0 interface. \n\nAlternatively, you can pin your installation to the old version, e.g. `pip install openai==0.28`\n\nA detailed migration guide is available here: https://github.com/openai/openai-python/discussions/742\n",
      "\nDuring handling of the above exception, another exception occurred:\n",
      "\u001b[0;31mAttributeError\u001b[0m                            Traceback (most recent call last)",
      "Cell \u001b[0;32mIn[14], line 1\u001b[0m\n\u001b[0;32m----> 1\u001b[0m solution \u001b[38;5;241m=\u001b[39m tree_of_thoughts\u001b[38;5;241m.\u001b[39msolve(\n\u001b[1;32m      2\u001b[0m     initial_prompt\u001b[38;5;241m=\u001b[39minitial_prompt,\n\u001b[1;32m      3\u001b[0m     num_thoughts\u001b[38;5;241m=\u001b[39mnum_thoughts,\n\u001b[1;32m      4\u001b[0m     max_steps\u001b[38;5;241m=\u001b[39mmax_steps,\n\u001b[1;32m      5\u001b[0m     max_states\u001b[38;5;241m=\u001b[39mmax_states,\n\u001b[1;32m      6\u001b[0m     pruning_threshold\u001b[38;5;241m=\u001b[39mpruning_threshold,\n\u001b[1;32m      7\u001b[0m )\n",
      "File \u001b[0;32m~/miniconda3/envs/llmcoder/lib/python3.11/site-packages/tree_of_thoughts/treeofthoughts.py:389\u001b[0m, in \u001b[0;36mMonteCarloTreeofThoughts.solve\u001b[0;34m(self, initial_prompt, num_thoughts, max_steps, max_states, pruning_threshold)\u001b[0m\n\u001b[1;32m    379\u001b[0m \u001b[38;5;28;01mdef\u001b[39;00m \u001b[38;5;21msolve\u001b[39m(\n\u001b[1;32m    380\u001b[0m     \u001b[38;5;28mself\u001b[39m,\n\u001b[1;32m    381\u001b[0m     initial_prompt: \u001b[38;5;28mstr\u001b[39m,\n\u001b[0;32m   (...)\u001b[0m\n\u001b[1;32m    386\u001b[0m     \u001b[38;5;66;03m#   sleep_time: float,\u001b[39;00m\n\u001b[1;32m    387\u001b[0m ):\n\u001b[1;32m    388\u001b[0m     \u001b[38;5;28mself\u001b[39m\u001b[38;5;241m.\u001b[39mfile_name \u001b[38;5;241m=\u001b[39m \u001b[38;5;124m\"\u001b[39m\u001b[38;5;124mlogs/tree_of_thoughts_output_montecarlo.json\u001b[39m\u001b[38;5;124m\"\u001b[39m\n\u001b[0;32m--> 389\u001b[0m     \u001b[38;5;28;01mreturn\u001b[39;00m \u001b[38;5;28mself\u001b[39m\u001b[38;5;241m.\u001b[39mmonte_carlo_search(\n\u001b[1;32m    390\u001b[0m         initial_prompt,\n\u001b[1;32m    391\u001b[0m         num_thoughts,\n\u001b[1;32m    392\u001b[0m         max_steps,\n\u001b[1;32m    393\u001b[0m         max_states,\n\u001b[1;32m    394\u001b[0m         pruning_threshold,\n\u001b[1;32m    395\u001b[0m         \u001b[38;5;66;03m# sleep_time,\u001b[39;00m\n\u001b[1;32m    396\u001b[0m     )\n",
      "File \u001b[0;32m~/miniconda3/envs/llmcoder/lib/python3.11/site-packages/tree_of_thoughts/treeofthoughts.py:423\u001b[0m, in \u001b[0;36mMonteCarloTreeofThoughts.monte_carlo_search\u001b[0;34m(self, initial_prompt, num_thoughts, max_steps, max_states, pruning_threshold)\u001b[0m\n\u001b[1;32m    421\u001b[0m \u001b[38;5;28;01melse\u001b[39;00m:\n\u001b[1;32m    422\u001b[0m     time\u001b[38;5;241m.\u001b[39msleep(\u001b[38;5;241m1\u001b[39m)\n\u001b[0;32m--> 423\u001b[0m     thoughts \u001b[38;5;241m=\u001b[39m \u001b[38;5;28mself\u001b[39m\u001b[38;5;241m.\u001b[39mmodel\u001b[38;5;241m.\u001b[39mgenerate_thoughts(\n\u001b[1;32m    424\u001b[0m         state, num_thoughts, initial_prompt\n\u001b[1;32m    425\u001b[0m     )\n\u001b[1;32m    426\u001b[0m     time\u001b[38;5;241m.\u001b[39msleep(\u001b[38;5;241m1\u001b[39m)\n\u001b[1;32m    427\u001b[0m     evaluated_thoughts \u001b[38;5;241m=\u001b[39m \u001b[38;5;28mself\u001b[39m\u001b[38;5;241m.\u001b[39mmodel\u001b[38;5;241m.\u001b[39mevaluate_states(\n\u001b[1;32m    428\u001b[0m         thoughts, initial_prompt\n\u001b[1;32m    429\u001b[0m     )\n",
      "File \u001b[0;32m~/miniconda3/envs/llmcoder/lib/python3.11/site-packages/tree_of_thoughts/models/openai_models.py:132\u001b[0m, in \u001b[0;36mOpenAILanguageModel.generate_thoughts\u001b[0;34m(self, state, k, initial_prompt, rejected_solutions)\u001b[0m\n\u001b[1;32m    130\u001b[0m prompt \u001b[38;5;241m+\u001b[39m\u001b[38;5;241m=\u001b[39m \u001b[38;5;28mself\u001b[39m\u001b[38;5;241m.\u001b[39mReAct_prompt\n\u001b[1;32m    131\u001b[0m \u001b[38;5;66;03m# print(prompt)\u001b[39;00m\n\u001b[0;32m--> 132\u001b[0m thoughts \u001b[38;5;241m=\u001b[39m \u001b[38;5;28mself\u001b[39m\u001b[38;5;241m.\u001b[39mgenerate_text(prompt, k)\n\u001b[1;32m    133\u001b[0m \u001b[38;5;66;03m# print(thoughts)\u001b[39;00m\n\u001b[1;32m    134\u001b[0m \u001b[38;5;66;03m# print(f\"Generated thoughts: {thoughts}\")\u001b[39;00m\n\u001b[1;32m    135\u001b[0m \u001b[38;5;28;01mreturn\u001b[39;00m thoughts\n",
      "File \u001b[0;32m~/miniconda3/envs/llmcoder/lib/python3.11/site-packages/tree_of_thoughts/models/openai_models.py:110\u001b[0m, in \u001b[0;36mOpenAILanguageModel.generate_text\u001b[0;34m(self, prompt, k)\u001b[0m\n\u001b[1;32m    107\u001b[0m     \u001b[38;5;28;01mreturn\u001b[39;00m thoughts\n\u001b[1;32m    109\u001b[0m \u001b[38;5;28;01melse\u001b[39;00m:\n\u001b[0;32m--> 110\u001b[0m     response \u001b[38;5;241m=\u001b[39m \u001b[38;5;28mself\u001b[39m\u001b[38;5;241m.\u001b[39mopenai_api_call_handler(prompt, \u001b[38;5;241m300\u001b[39m, \u001b[38;5;241m0.5\u001b[39m, k)\n\u001b[1;32m    111\u001b[0m     thoughts \u001b[38;5;241m=\u001b[39m [\n\u001b[1;32m    112\u001b[0m         \u001b[38;5;28mself\u001b[39m\u001b[38;5;241m.\u001b[39mopenai_choice2text_handler(choice) \u001b[38;5;28;01mfor\u001b[39;00m choice \u001b[38;5;129;01min\u001b[39;00m response\u001b[38;5;241m.\u001b[39mchoices\n\u001b[1;32m    113\u001b[0m     ]\n\u001b[1;32m    114\u001b[0m     \u001b[38;5;28;01mreturn\u001b[39;00m thoughts\n",
      "File \u001b[0;32m~/miniconda3/envs/llmcoder/lib/python3.11/site-packages/tree_of_thoughts/models/openai_models.py:85\u001b[0m, in \u001b[0;36mOpenAILanguageModel.openai_api_call_handler\u001b[0;34m(self, prompt, max_tokens, temperature, k, stop)\u001b[0m\n\u001b[1;32m     81\u001b[0m         log_file\u001b[38;5;241m.\u001b[39mwrite(\n\u001b[1;32m     82\u001b[0m             \u001b[38;5;124m\"\u001b[39m\u001b[38;5;130;01m\\n\u001b[39;00m\u001b[38;5;124m\"\u001b[39m \u001b[38;5;241m+\u001b[39m \u001b[38;5;124m\"\u001b[39m\u001b[38;5;124m-----------\u001b[39m\u001b[38;5;124m\"\u001b[39m \u001b[38;5;241m+\u001b[39m \u001b[38;5;124m\"\u001b[39m\u001b[38;5;130;01m\\n\u001b[39;00m\u001b[38;5;124m\"\u001b[39m \u001b[38;5;241m+\u001b[39m \u001b[38;5;124m\"\u001b[39m\u001b[38;5;124mPrompt : \u001b[39m\u001b[38;5;124m\"\u001b[39m \u001b[38;5;241m+\u001b[39m prompt \u001b[38;5;241m+\u001b[39m \u001b[38;5;124m\"\u001b[39m\u001b[38;5;130;01m\\n\u001b[39;00m\u001b[38;5;124m\"\u001b[39m\n\u001b[1;32m     83\u001b[0m         )\n\u001b[1;32m     84\u001b[0m     \u001b[38;5;28;01mreturn\u001b[39;00m response\n\u001b[0;32m---> 85\u001b[0m \u001b[38;5;28;01mexcept\u001b[39;00m openai\u001b[38;5;241m.\u001b[39merror\u001b[38;5;241m.\u001b[39mRateLimitError \u001b[38;5;28;01mas\u001b[39;00m e:\n\u001b[1;32m     86\u001b[0m     sleep_duratoin \u001b[38;5;241m=\u001b[39m os\u001b[38;5;241m.\u001b[39menviron\u001b[38;5;241m.\u001b[39mget(\u001b[38;5;124m\"\u001b[39m\u001b[38;5;124mOPENAI_RATE_TIMEOUT\u001b[39m\u001b[38;5;124m\"\u001b[39m, \u001b[38;5;241m30\u001b[39m)\n\u001b[1;32m     87\u001b[0m     \u001b[38;5;28mprint\u001b[39m(\n\u001b[1;32m     88\u001b[0m         \u001b[38;5;124mf\u001b[39m\u001b[38;5;124m\"\u001b[39m\u001b[38;5;132;01m{\u001b[39;00m\u001b[38;5;28mstr\u001b[39m(e)\u001b[38;5;132;01m}\u001b[39;00m\u001b[38;5;124m, sleep for \u001b[39m\u001b[38;5;132;01m{\u001b[39;00msleep_duratoin\u001b[38;5;132;01m}\u001b[39;00m\u001b[38;5;124ms, set it by env OPENAI_RATE_TIMEOUT\u001b[39m\u001b[38;5;124m\"\u001b[39m\n\u001b[1;32m     89\u001b[0m     )\n",
      "\u001b[0;31mAttributeError\u001b[0m: module 'openai' has no attribute 'error'"
     ]
    }
   ],
   "source": [
    "solution = tree_of_thoughts.solve(\n",
    "    initial_prompt=initial_prompt,\n",
    "    num_thoughts=num_thoughts,\n",
    "    max_steps=max_steps,\n",
    "    max_states=max_states,\n",
    "    pruning_threshold=pruning_threshold,\n",
    ")"
   ]
  }
 ],
 "metadata": {
  "kernelspec": {
   "display_name": "llmcoder",
   "language": "python",
   "name": "python3"
  },
  "language_info": {
   "codemirror_mode": {
    "name": "ipython",
    "version": 3
   },
   "file_extension": ".py",
   "mimetype": "text/x-python",
   "name": "python",
   "nbconvert_exporter": "python",
   "pygments_lexer": "ipython3",
   "version": "3.11.5"
  }
 },
 "nbformat": 4,
 "nbformat_minor": 2
}
