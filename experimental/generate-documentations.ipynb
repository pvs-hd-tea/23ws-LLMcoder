{
 "cells": [
  {
   "cell_type": "code",
   "execution_count": 2,
   "id": "417aef8d-efa3-4762-a4a1-23a0be195782",
   "metadata": {},
   "outputs": [],
   "source": [
    "import pydoc\n",
    "import ast\n",
    "import importlib\n",
    "import re\n",
    "import json"
   ]
  },
  {
   "cell_type": "code",
   "execution_count": 3,
   "metadata": {},
   "outputs": [
    {
     "name": "stdout",
     "output_type": "stream",
     "text": [
      "[('matplotlib.pyplot', '*'), ('matplotlib', 'pyplot'), ('matplotlib.pyplot', '*'), ('matplotlib.pyplot', 'plot,')]\n"
     ]
    },
    {
     "name": "stdout",
     "output_type": "stream",
     "text": [
      "Imported module: matplotlib.pyplot\n",
      "Attribute: *\n",
      "Imported module: matplotlib\n",
      "Attribute: pyplot\n",
      "Imported module: matplotlib.pyplot\n",
      "Attribute: *\n",
      "Imported module: matplotlib.pyplot\n",
      "Attribute: plot,\n"
     ]
    },
    {
     "data": {
      "image/png": "[encoded data removed]",
      "text/plain": [
       "<Figure size 640x480 with 1 Axes>"
      ]
     },
     "metadata": {},
     "output_type": "display_data"
    }
   ],
   "source": [
    "import re\n",
    "import importlib\n",
    "\n",
    "# Response from LLM\n",
    "res = '''\n",
    "# This is a sample np.array(np.ones(5)) and another np.sum example\n",
    "# Comment to check inline many functions\n",
    "\n",
    "import numpy as np\n",
    "from matplotlib.pyplot import *\n",
    "\n",
    "# Three cases\n",
    "# 1. from matplotlib import pyplot\n",
    "# 2. from matplotlib.pyplot import *\n",
    "# 3. from matplotlib.pyplot import plot, show\n",
    "\n",
    "x = np.linspace(0, 1, 100)\n",
    "y = np.sin(2 * np.pi * x)\n",
    "\n",
    "pyplot.plot(x, y)\n",
    "pyplot.show()\n",
    "'''\n",
    "\n",
    "# Define a regex pattern to match import statements\n",
    "import_pattern = re.compile(r'from\\s+(\\S+)\\s+import\\s+(\\S+)')\n",
    "\n",
    "# Find all matches in the response\n",
    "matches = import_pattern.findall(res)\n",
    "print(matches)\n",
    "# Import the modules dynamically\n",
    "for module in matches:\n",
    "    module_name = module[0]\n",
    "    attribute_name = module[1]\n",
    "\n",
    "    # Import the module\n",
    "    imported_module = importlib.import_module(module_name)\n",
    "    # imported_module = importlib.import_module(\".\".join(module))\n",
    "\n",
    "    # Now you can use the imported module and its attributes\n",
    "    print(f\"Imported module: {module_name}\")\n",
    "    print(f\"Attribute: {attribute_name}\")\n",
    "\n",
    "# Your existing code (with pyplot.show() fixed)\n",
    "# x = np.linspace(0, 1, 100)\n",
    "# y = imported_module.sin(2 * imported_module.pi * x)\n",
    "\n",
    "imported_module.plot([1,2,2], [12,3,3])\n",
    "imported_module.show()\n"
   ]
  },
  {
   "cell_type": "markdown",
   "id": "5eebaf4d-8a6e-4cd4-9e99-a7a29db8ffff",
   "metadata": {},
   "source": [
    "# Extract imports from the file"
   ]
  },
  {
   "cell_type": "code",
   "execution_count": 82,
   "metadata": {},
   "outputs": [],
   "source": [
    "# Response from LLM\n",
    "res = '''# This is a sample np.array(np.ones(5)) and another np.sum example\n",
    "# Comment to check inline many functions\n",
    "\n",
    "import numpy\n",
    "import numpy as np\n",
    "from matplotlib.pyplot import show, plot\n",
    "import numpy as np, matplotlib.pyplot as plt\n",
    " \n",
    "x = np.linspace(0, 1, 100)\n",
    "y = np.sin(2 * np.pi * x)\n",
    "\n",
    "show()\n",
    "plt.plot(x, y)\n",
    "pyplot.show()\n",
    "'''"
   ]
  },
  {
   "cell_type": "code",
   "execution_count": 83,
   "id": "061dfc2c-3ff9-4521-ab40-446c3d5fd4df",
   "metadata": {},
   "outputs": [
    {
     "name": "stdout",
     "output_type": "stream",
     "text": [
      "[{'name': 'numpy', 'asname': None}, {'name': 'numpy', 'asname': 'np'}, {'name': 'matplotlib.pyplot', 'asname': 'show'}, {'name': 'matplotlib.pyplot', 'asname': 'plot'}, {'name': 'numpy', 'asname': 'np'}, {'name': 'matplotlib.pyplot', 'asname': 'plt'}]\n"
     ]
    }
   ],
   "source": [
    "packages = []\n",
    "import_tree = ast.parse(res)\n",
    "\n",
    "for node in ast.walk(import_tree):\n",
    "    if 'names' in node.__dir__():\n",
    "        # import numpy.array as npArray\n",
    "        if 'module' in node.__dir__():\n",
    "            # from matplotlib.pyplot import show\n",
    "            # if len(node.names) > 1:\n",
    "            for names in node.names:\n",
    "                packages.append({\"name\": node.module, \"asname\": names.name})\n",
    "            # packages.append({\"module\": node.module, \"name\": node.names[0].name})\n",
    "        else:\n",
    "            for names in node.names:\n",
    "                packages.append({\"name\": names.name, \"asname\": names.asname})\n",
    "            # packages.append({\"name\": node.names[0].name, \"asname\": node.nam/es[0].asname})\n",
    "\n",
    "print(packages)"
   ]
  },
  {
   "cell_type": "code",
   "execution_count": 6,
   "metadata": {},
   "outputs": [],
   "source": [
    "asnames = [ref.split('.')[1::1] for ref in re.findall(fr'mat\\.[a-zA-Z_\\.]+', res)]"
   ]
  },
  {
   "cell_type": "code",
   "execution_count": 7,
   "metadata": {},
   "outputs": [
    {
     "data": {
      "text/plain": [
       "[]"
      ]
     },
     "execution_count": 7,
     "metadata": {},
     "output_type": "execute_result"
    }
   ],
   "source": [
    "asnames"
   ]
  },
  {
   "cell_type": "code",
   "execution_count": 8,
   "metadata": {},
   "outputs": [],
   "source": [
    "from matplotlib.pyplot import show as sh"
   ]
  },
  {
   "cell_type": "code",
   "execution_count": 9,
   "metadata": {},
   "outputs": [],
   "source": [
    "asname = \"np\"\n",
    "name = \"numpy\""
   ]
  },
  {
   "cell_type": "code",
   "execution_count": 10,
   "metadata": {},
   "outputs": [],
   "source": [
    "from matplotlib import pyplot as py"
   ]
  },
  {
   "cell_type": "code",
   "execution_count": 11,
   "metadata": {},
   "outputs": [],
   "source": [
    "import matplotlib.pyplot as py"
   ]
  },
  {
   "cell_type": "code",
   "execution_count": 12,
   "metadata": {},
   "outputs": [],
   "source": [
    "import matplotlib as mat"
   ]
  },
  {
   "cell_type": "code",
   "execution_count": 13,
   "metadata": {},
   "outputs": [
    {
     "data": {
      "text/plain": [
       "[<matplotlib.lines.Line2D at 0x7fb37f4e1ad0>]"
      ]
     },
     "execution_count": 13,
     "metadata": {},
     "output_type": "execute_result"
    },
    {
     "data": {
      "image/png": "[encoded data removed]",
      "text/plain": [
       "<Figure size 640x480 with 1 Axes>"
      ]
     },
     "metadata": {},
     "output_type": "display_data"
    }
   ],
   "source": [
    "mat.pyplot.plot([1,2,3], [1,2,3])"
   ]
  },
  {
   "cell_type": "code",
   "execution_count": 14,
   "metadata": {},
   "outputs": [],
   "source": [
    "res = \"\"\"import matplotlib as mat\n",
    "from matplotlib.pyplot import show\n",
    "from matplotlib import pyplot as py\n",
    "mat.show1()\n",
    "show()\n",
    "mat.show.plot([1,2,3], [1,2,3])\"\"\""
   ]
  },
  {
   "cell_type": "code",
   "execution_count": 15,
   "metadata": {},
   "outputs": [
    {
     "name": "stdout",
     "output_type": "stream",
     "text": [
      "[['show1'], ['show', 'plot']]\n",
      "['show1', 'plot']\n",
      "[[], ['show']]\n",
      "True\n"
     ]
    }
   ],
   "source": [
    "asnames = [ref.split('.')[1::1] for ref in re.findall(fr'mat\\.[a-zA-Z_0-9\\.]+', res)]\n",
    "print(asnames)\n",
    "asnames1 = [asname[-1] for asname in asnames]\n",
    "asnames2 = [asname[:-1:1] for asname in asnames]\n",
    "print(asnames1)\n",
    "print(asnames2)\n",
    "print(len(asnames2[0]) == 0)"
   ]
  },
  {
   "cell_type": "code",
   "execution_count": 16,
   "metadata": {},
   "outputs": [],
   "source": [
    "from numpy import array"
   ]
  },
  {
   "cell_type": "code",
   "execution_count": 17,
   "metadata": {},
   "outputs": [],
   "source": [
    "import numpy"
   ]
  },
  {
   "cell_type": "code",
   "execution_count": 18,
   "metadata": {},
   "outputs": [
    {
     "data": {
      "text/plain": [
       "<function numpy.array>"
      ]
     },
     "execution_count": 18,
     "metadata": {},
     "output_type": "execute_result"
    }
   ],
   "source": [
    "numpy.array"
   ]
  },
  {
   "cell_type": "code",
   "execution_count": 19,
   "metadata": {},
   "outputs": [],
   "source": [
    "import matplotlib as mat"
   ]
  },
  {
   "cell_type": "code",
   "execution_count": 20,
   "metadata": {},
   "outputs": [
    {
     "data": {
      "text/plain": [
       "<function numpy.array>"
      ]
     },
     "execution_count": 20,
     "metadata": {},
     "output_type": "execute_result"
    }
   ],
   "source": [
    "array"
   ]
  },
  {
   "cell_type": "code",
   "execution_count": 21,
   "metadata": {},
   "outputs": [
    {
     "data": {
      "text/plain": [
       "['show1', 'plot']"
      ]
     },
     "execution_count": 21,
     "metadata": {},
     "output_type": "execute_result"
    }
   ],
   "source": [
    "asnames = [asname[-1] for asname in asnames]\n",
    "asnames"
   ]
  },
  {
   "cell_type": "code",
   "execution_count": 22,
   "metadata": {},
   "outputs": [
    {
     "data": {
      "text/plain": [
       "['show1', 'plot']"
      ]
     },
     "execution_count": 22,
     "metadata": {},
     "output_type": "execute_result"
    }
   ],
   "source": [
    "asnames"
   ]
  },
  {
   "cell_type": "code",
   "execution_count": 23,
   "metadata": {},
   "outputs": [],
   "source": [
    "refs = [ref.split(\".\") for ref in re.findall(rf'mat\\.[a-zA-Z_\\.]+', res)]"
   ]
  },
  {
   "cell_type": "code",
   "execution_count": 24,
   "metadata": {},
   "outputs": [
    {
     "data": {
      "text/plain": [
       "'show'"
      ]
     },
     "execution_count": 24,
     "metadata": {},
     "output_type": "execute_result"
    }
   ],
   "source": [
    "refs[0][-1]"
   ]
  },
  {
   "cell_type": "code",
   "execution_count": 25,
   "metadata": {},
   "outputs": [
    {
     "data": {
      "text/plain": [
       "''"
      ]
     },
     "execution_count": 25,
     "metadata": {},
     "output_type": "execute_result"
    }
   ],
   "source": [
    "\".\".join(refs[0][1:-1])"
   ]
  },
  {
   "cell_type": "code",
   "execution_count": 30,
   "metadata": {},
   "outputs": [],
   "source": [
    "module = '.'.join(['matplotlib', '.'.join(refs[0][1:-1])])"
   ]
  },
  {
   "cell_type": "code",
   "execution_count": 27,
   "metadata": {},
   "outputs": [
    {
     "ename": "AttributeError",
     "evalue": "'NoneType' object has no attribute 'loader'",
     "output_type": "error",
     "traceback": [
      "\u001b[0;31m---------------------------------------------------------------------------\u001b[0m",
      "\u001b[0;31mAttributeError\u001b[0m                            Traceback (most recent call last)",
      "\u001b[1;32m/home/kushal/Projects/llmcoder/23ws-LLMcoder/experimental/generate-documentations.ipynb Cell 27\u001b[0m line \u001b[0;36m2\n\u001b[1;32m      <a href='vscode-notebook-cell:/home/kushal/Projects/llmcoder/23ws-LLMcoder/experimental/generate-documentations.ipynb#X35sZmlsZQ%3D%3D?line=0'>1</a>\u001b[0m spec \u001b[39m=\u001b[39m importlib\u001b[39m.\u001b[39mutil\u001b[39m.\u001b[39mfind_spec(module)\n\u001b[0;32m----> <a href='vscode-notebook-cell:/home/kushal/Projects/llmcoder/23ws-LLMcoder/experimental/generate-documentations.ipynb#X35sZmlsZQ%3D%3D?line=1'>2</a>\u001b[0m module \u001b[39m=\u001b[39m importlib\u001b[39m.\u001b[39;49mutil\u001b[39m.\u001b[39;49mmodule_from_spec(spec)\n\u001b[1;32m      <a href='vscode-notebook-cell:/home/kushal/Projects/llmcoder/23ws-LLMcoder/experimental/generate-documentations.ipynb#X35sZmlsZQ%3D%3D?line=2'>3</a>\u001b[0m spec\u001b[39m.\u001b[39mloader\u001b[39m.\u001b[39mexec_module(module)\n",
      "File \u001b[0;32m<frozen importlib._bootstrap>:570\u001b[0m, in \u001b[0;36mmodule_from_spec\u001b[0;34m(spec)\u001b[0m\n",
      "\u001b[0;31mAttributeError\u001b[0m: 'NoneType' object has no attribute 'loader'"
     ]
    }
   ],
   "source": [
    "spec = importlib.util.find_spec(module)\n",
    "module = importlib.util.module_from_spec(spec)\n",
    "spec.loader.exec_module(module)"
   ]
  },
  {
   "cell_type": "code",
   "execution_count": 32,
   "metadata": {},
   "outputs": [],
   "source": [
    "module = 'from matplotlib import pyplot as py'"
   ]
  },
  {
   "cell_type": "code",
   "execution_count": 34,
   "metadata": {},
   "outputs": [
    {
     "data": {
      "text/plain": [
       "module"
      ]
     },
     "execution_count": 34,
     "metadata": {},
     "output_type": "execute_result"
    }
   ],
   "source": [
    "spec = importlib.util.find_spec('matplotlib')\n",
    "type(importlib.util.module_from_spec(spec))"
   ]
  },
  {
   "cell_type": "code",
   "execution_count": 52,
   "metadata": {},
   "outputs": [
    {
     "ename": "AttributeError",
     "evalue": "module 'importlib' has no attribute 'Module'",
     "output_type": "error",
     "traceback": [
      "\u001b[0;31m---------------------------------------------------------------------------\u001b[0m",
      "\u001b[0;31mAttributeError\u001b[0m                            Traceback (most recent call last)",
      "\u001b[1;32m/home/kushal/Projects/llmcoder/23ws-LLMcoder/experimental/generate-documentations.ipynb Cell 30\u001b[0m line \u001b[0;36m4\n\u001b[1;32m      <a href='vscode-notebook-cell:/home/kushal/Projects/llmcoder/23ws-LLMcoder/experimental/generate-documentations.ipynb#Y220sZmlsZQ%3D%3D?line=0'>1</a>\u001b[0m \u001b[39mimport\u001b[39;00m \u001b[39mimportlib\u001b[39;00m\u001b[39m.\u001b[39;00m\u001b[39mutil\u001b[39;00m\n\u001b[1;32m      <a href='vscode-notebook-cell:/home/kushal/Projects/llmcoder/23ws-LLMcoder/experimental/generate-documentations.ipynb#Y220sZmlsZQ%3D%3D?line=1'>2</a>\u001b[0m \u001b[39mimport\u001b[39;00m \u001b[39mimportlib\u001b[39;00m\n\u001b[0;32m----> <a href='vscode-notebook-cell:/home/kushal/Projects/llmcoder/23ws-LLMcoder/experimental/generate-documentations.ipynb#Y220sZmlsZQ%3D%3D?line=3'>4</a>\u001b[0m importlib\u001b[39m.\u001b[39;49mModule\n",
      "\u001b[0;31mAttributeError\u001b[0m: module 'importlib' has no attribute 'Module'"
     ]
    }
   ],
   "source": [
    "import importlib.util\n",
    "import importlib\n",
    "\n",
    "importlib.Module"
   ]
  },
  {
   "cell_type": "code",
   "execution_count": 54,
   "metadata": {},
   "outputs": [
    {
     "ename": "ImportError",
     "evalue": "cannot import name 'Module' from 'importlib.util' (/usr/lib/python3.11/importlib/util.py)",
     "output_type": "error",
     "traceback": [
      "\u001b[0;31m---------------------------------------------------------------------------\u001b[0m",
      "\u001b[0;31mImportError\u001b[0m                               Traceback (most recent call last)",
      "\u001b[1;32m/home/kushal/Projects/llmcoder/23ws-LLMcoder/experimental/generate-documentations.ipynb Cell 31\u001b[0m line \u001b[0;36m1\n\u001b[0;32m----> <a href='vscode-notebook-cell:/home/kushal/Projects/llmcoder/23ws-LLMcoder/experimental/generate-documentations.ipynb#Y221sZmlsZQ%3D%3D?line=0'>1</a>\u001b[0m \u001b[39mfrom\u001b[39;00m \u001b[39mimportlib\u001b[39;00m\u001b[39m.\u001b[39;00m\u001b[39mutil\u001b[39;00m \u001b[39mimport\u001b[39;00m Module\n",
      "\u001b[0;31mImportError\u001b[0m: cannot import name 'Module' from 'importlib.util' (/usr/lib/python3.11/importlib/util.py)"
     ]
    }
   ],
   "source": [
    "from importlib.util import Module"
   ]
  },
  {
   "cell_type": "code",
   "execution_count": 89,
   "metadata": {},
   "outputs": [],
   "source": [
    "import types\n",
    "import importlib\n",
    "spec: importlib.machinery.ModuleSpec = importlib.util.find_spec('matplotlib.pyplot')\n",
    "module: types.ModuleType = importlib.util.module_from_spec(spec)\n",
    "spec.loader.exec_module(module)"
   ]
  },
  {
   "cell_type": "code",
   "execution_count": 91,
   "metadata": {},
   "outputs": [
    {
     "data": {
      "text/plain": [
       "function"
      ]
     },
     "execution_count": 91,
     "metadata": {},
     "output_type": "execute_result"
    }
   ],
   "source": [
    "type(getattr(module, 'plot'))"
   ]
  },
  {
   "cell_type": "code",
   "execution_count": 66,
   "metadata": {},
   "outputs": [
    {
     "ename": "AttributeError",
     "evalue": "module 'importlib' has no attribute 'Module'",
     "output_type": "error",
     "traceback": [
      "\u001b[0;31m---------------------------------------------------------------------------\u001b[0m",
      "\u001b[0;31mAttributeError\u001b[0m                            Traceback (most recent call last)",
      "\u001b[1;32m/home/kushal/Projects/llmcoder/23ws-LLMcoder/experimental/generate-documentations.ipynb Cell 32\u001b[0m line \u001b[0;36m3\n\u001b[1;32m      <a href='vscode-notebook-cell:/home/kushal/Projects/llmcoder/23ws-LLMcoder/experimental/generate-documentations.ipynb#Y225sZmlsZQ%3D%3D?line=0'>1</a>\u001b[0m \u001b[39mimport\u001b[39;00m \u001b[39mimportlib\u001b[39;00m\n\u001b[1;32m      <a href='vscode-notebook-cell:/home/kushal/Projects/llmcoder/23ws-LLMcoder/experimental/generate-documentations.ipynb#Y225sZmlsZQ%3D%3D?line=1'>2</a>\u001b[0m spec: importlib\u001b[39m.\u001b[39mmachinery\u001b[39m.\u001b[39mModuleSpec \u001b[39m=\u001b[39m importlib\u001b[39m.\u001b[39mutil\u001b[39m.\u001b[39mfind_spec(\u001b[39m'\u001b[39m\u001b[39mmatplotlib\u001b[39m\u001b[39m'\u001b[39m)\n\u001b[0;32m----> <a href='vscode-notebook-cell:/home/kushal/Projects/llmcoder/23ws-LLMcoder/experimental/generate-documentations.ipynb#Y225sZmlsZQ%3D%3D?line=2'>3</a>\u001b[0m module: importlib\u001b[39m.\u001b[39;49mModule \u001b[39m=\u001b[39m importlib\u001b[39m.\u001b[39mutil\u001b[39m.\u001b[39mmodule_from_spec(spec)\n",
      "\u001b[0;31mAttributeError\u001b[0m: module 'importlib' has no attribute 'Module'"
     ]
    }
   ],
   "source": [
    "import importlib\n",
    "spec: importlib.machinery.ModuleSpec = importlib.util.find_spec('matplotlib')\n",
    "module: importlib.Module = importlib.util.module_from_spec(spec)"
   ]
  },
  {
   "cell_type": "code",
   "execution_count": 61,
   "metadata": {},
   "outputs": [],
   "source": [
    "import importlib\n",
    "spec: importlib.machinery.ModuleSpec = importlib.util.find_spec('matplotlib')"
   ]
  },
  {
   "cell_type": "code",
   "execution_count": 60,
   "metadata": {},
   "outputs": [],
   "source": [
    "import importlib.machinery  as imp\n",
    "spec: imp.ModuleSpec = importlib.util.find_spec('matplotlib')"
   ]
  },
  {
   "cell_type": "code",
   "execution_count": 57,
   "metadata": {},
   "outputs": [
    {
     "ename": "AttributeError",
     "evalue": "module 'importlib.util' has no attribute 'ModuleSpec'",
     "output_type": "error",
     "traceback": [
      "\u001b[0;31m---------------------------------------------------------------------------\u001b[0m",
      "\u001b[0;31mAttributeError\u001b[0m                            Traceback (most recent call last)",
      "\u001b[1;32m/home/kushal/Projects/llmcoder/23ws-LLMcoder/experimental/generate-documentations.ipynb Cell 32\u001b[0m line \u001b[0;36m2\n\u001b[1;32m      <a href='vscode-notebook-cell:/home/kushal/Projects/llmcoder/23ws-LLMcoder/experimental/generate-documentations.ipynb#Y222sZmlsZQ%3D%3D?line=0'>1</a>\u001b[0m \u001b[39mimport\u001b[39;00m \u001b[39mimportlib\u001b[39;00m\u001b[39m.\u001b[39;00m\u001b[39mutil\u001b[39;00m \u001b[39mas\u001b[39;00m \u001b[39mult\u001b[39;00m\n\u001b[0;32m----> <a href='vscode-notebook-cell:/home/kushal/Projects/llmcoder/23ws-LLMcoder/experimental/generate-documentations.ipynb#Y222sZmlsZQ%3D%3D?line=1'>2</a>\u001b[0m strings: ult\u001b[39m.\u001b[39;49mModuleSpec \u001b[39m=\u001b[39m importlib\u001b[39m.\u001b[39mutil\u001b[39m.\u001b[39mfind_spec(\u001b[39m'\u001b[39m\u001b[39mmatplotlib\u001b[39m\u001b[39m'\u001b[39m)\n",
      "\u001b[0;31mAttributeError\u001b[0m: module 'importlib.util' has no attribute 'ModuleSpec'"
     ]
    }
   ],
   "source": [
    "import importlib.util as ult\n",
    "strings: ult.ModuleSpec = importlib.util.find_spec('matplotlib')"
   ]
  },
  {
   "cell_type": "code",
   "execution_count": 42,
   "metadata": {},
   "outputs": [
    {
     "data": {
      "text/plain": [
       "ast.Module"
      ]
     },
     "execution_count": 42,
     "metadata": {},
     "output_type": "execute_result"
    }
   ],
   "source": [
    "import ast\n",
    "ast.Module"
   ]
  },
  {
   "cell_type": "code",
   "execution_count": 37,
   "metadata": {},
   "outputs": [
    {
     "data": {
      "text/plain": [
       "type"
      ]
     },
     "execution_count": 37,
     "metadata": {},
     "output_type": "execute_result"
    }
   ],
   "source": [
    "from ast import Module\n",
    "type(Module)"
   ]
  },
  {
   "cell_type": "code",
   "execution_count": 120,
   "metadata": {},
   "outputs": [
    {
     "data": {
      "text/plain": [
       "[<matplotlib.lines.Line2D at 0x7fad95f178d0>]"
      ]
     },
     "execution_count": 120,
     "metadata": {},
     "output_type": "execute_result"
    },
    {
     "data": {
      "image/png": "[encoded data removed]",
      "text/plain": [
       "<Figure size 640x480 with 1 Axes>"
      ]
     },
     "metadata": {},
     "output_type": "display_data"
    }
   ],
   "source": [
    "module.plot([1,2,3], [1,2,3])"
   ]
  },
  {
   "cell_type": "code",
   "execution_count": 92,
   "metadata": {},
   "outputs": [
    {
     "data": {
      "text/plain": [
       "'import matplotlib as mat\\nmatplotlib.pyplot.plot([1,2,3], [1,2,3])'"
      ]
     },
     "execution_count": 92,
     "metadata": {},
     "output_type": "execute_result"
    }
   ],
   "source": [
    "re.sub(rf'mat(\\.[a-zA-Z_\\.]+)', r'matplotlib\\1', res)"
   ]
  },
  {
   "cell_type": "code",
   "execution_count": 81,
   "metadata": {},
   "outputs": [
    {
     "ename": "AttributeError",
     "evalue": "module 'matplotlib' has no attribute 'pyplot'",
     "output_type": "error",
     "traceback": [
      "\u001b[0;31m---------------------------------------------------------------------------\u001b[0m",
      "\u001b[0;31mAttributeError\u001b[0m                            Traceback (most recent call last)",
      "\u001b[1;32m/home/kushal/Projects/llmcoder/23ws-LLMcoder/experimental/generate-documentations.ipynb Cell 13\u001b[0m line \u001b[0;36m4\n\u001b[1;32m      <a href='vscode-notebook-cell:/home/kushal/Projects/llmcoder/23ws-LLMcoder/experimental/generate-documentations.ipynb#Y203sZmlsZQ%3D%3D?line=1'>2</a>\u001b[0m module \u001b[39m=\u001b[39m importlib\u001b[39m.\u001b[39mutil\u001b[39m.\u001b[39mmodule_from_spec(spec)\n\u001b[1;32m      <a href='vscode-notebook-cell:/home/kushal/Projects/llmcoder/23ws-LLMcoder/experimental/generate-documentations.ipynb#Y203sZmlsZQ%3D%3D?line=2'>3</a>\u001b[0m spec\u001b[39m.\u001b[39mloader\u001b[39m.\u001b[39mexec_module(module)\n\u001b[0;32m----> <a href='vscode-notebook-cell:/home/kushal/Projects/llmcoder/23ws-LLMcoder/experimental/generate-documentations.ipynb#Y203sZmlsZQ%3D%3D?line=3'>4</a>\u001b[0m module\u001b[39m.\u001b[39;49mpyplot\u001b[39m.\u001b[39mplot([\u001b[39m1\u001b[39m,\u001b[39m2\u001b[39m,\u001b[39m3\u001b[39m], [\u001b[39m1\u001b[39m,\u001b[39m2\u001b[39m,\u001b[39m3\u001b[39m])\n\u001b[1;32m      <a href='vscode-notebook-cell:/home/kushal/Projects/llmcoder/23ws-LLMcoder/experimental/generate-documentations.ipynb#Y203sZmlsZQ%3D%3D?line=4'>5</a>\u001b[0m \u001b[39m# getattr(f\"{module.__name__}\", \"pyplot\")\u001b[39;00m\n",
      "File \u001b[0;32m~/.config/python.env/llmcoder.env/lib/python3.11/site-packages/matplotlib/_api/__init__.py:217\u001b[0m, in \u001b[0;36mcaching_module_getattr.<locals>.__getattr__\u001b[0;34m(name)\u001b[0m\n\u001b[1;32m    215\u001b[0m \u001b[39mif\u001b[39;00m name \u001b[39min\u001b[39;00m props:\n\u001b[1;32m    216\u001b[0m     \u001b[39mreturn\u001b[39;00m props[name]\u001b[39m.\u001b[39m\u001b[39m__get__\u001b[39m(instance)\n\u001b[0;32m--> 217\u001b[0m \u001b[39mraise\u001b[39;00m \u001b[39mAttributeError\u001b[39;00m(\n\u001b[1;32m    218\u001b[0m     \u001b[39mf\u001b[39m\u001b[39m\"\u001b[39m\u001b[39mmodule \u001b[39m\u001b[39m{\u001b[39;00m\u001b[39mcls\u001b[39m\u001b[39m.\u001b[39m\u001b[39m__module__\u001b[39m\u001b[39m!r}\u001b[39;00m\u001b[39m has no attribute \u001b[39m\u001b[39m{\u001b[39;00mname\u001b[39m!r}\u001b[39;00m\u001b[39m\"\u001b[39m)\n",
      "\u001b[0;31mAttributeError\u001b[0m: module 'matplotlib' has no attribute 'pyplot'"
     ]
    }
   ],
   "source": [
    "spec = importlib.util.find_spec(\"matplotlib\")\n",
    "module = importlib.util.module_from_spec(spec)\n",
    "spec.loader.exec_module(module)\n",
    "module.pyplot.plot([1,2,3], [1,2,3])\n",
    "# getattr(f\"{module.__name__}\", \"pyplot\")"
   ]
  },
  {
   "cell_type": "code",
   "execution_count": 67,
   "metadata": {},
   "outputs": [
    {
     "name": "stdout",
     "output_type": "stream",
     "text": [
      "Python Library Documentation: function show in module matplotlib.pyplot\n",
      "\n",
      "show(*args, **kwargs) -> 'None'\n",
      "    Display all open figures.\n",
      "    \n",
      "    Parameters\n",
      "    ----------\n",
      "    block : bool, optional\n",
      "        Whether to wait for all figures to be closed before returning.\n",
      "    \n",
      "        If `True` block and run the GUI main loop until all figure windows\n",
      "        are closed.\n",
      "    \n",
      "        If `False` ensure that all figure windows are displayed and return\n",
      "        immediately.  In this case, you are responsible for ensuring\n",
      "        that the event loop is running to have responsive figures.\n",
      "    \n",
      "        Defaults to True in non-interactive mode and to False in interactive\n",
      "        mode (see `.pyplot.isinteractive`).\n",
      "    \n",
      "    See Also\n",
      "    --------\n",
      "    ion : Enable interactive mode, which shows / updates the figure after\n",
      "          every plotting command, so that calling ``show()`` is not necessary.\n",
      "    ioff : Disable interactive mode.\n",
      "    savefig : Save the figure to an image file instead of showing it on screen.\n",
      "    \n",
      "    Notes\n",
      "    -----\n",
      "    **Saving figures to file and showing a window at the same time**\n",
      "    \n",
      "    If you want an image file as well as a user interface window, use\n",
      "    `.pyplot.savefig` before `.pyplot.show`. At the end of (a blocking)\n",
      "    ``show()`` the figure is closed and thus unregistered from pyplot. Calling\n",
      "    `.pyplot.savefig` afterwards would save a new and thus empty figure. This\n",
      "    limitation of command order does not apply if the show is non-blocking or\n",
      "    if you keep a reference to the figure and use `.Figure.savefig`.\n",
      "    \n",
      "    **Auto-show in jupyter notebooks**\n",
      "    \n",
      "    The jupyter backends (activated via ``%matplotlib inline``,\n",
      "    ``%matplotlib notebook``, or ``%matplotlib widget``), call ``show()`` at\n",
      "    the end of every cell by default. Thus, you usually don't have to call it\n",
      "    explicitly there.\n",
      "\n"
     ]
    }
   ],
   "source": [
    "print(pydoc.render_doc(py.show))"
   ]
  },
  {
   "cell_type": "code",
   "execution_count": 62,
   "metadata": {},
   "outputs": [
    {
     "name": "stdout",
     "output_type": "stream",
     "text": [
      "# This is a sample numpy.array(numpy.ones(5)) and another numpy.sum example\n",
      "# Comment to check inline many functions\n",
      "\n",
      "import numpy as np\n",
      "from matplotlib.pyplot import show, plot\n",
      "import numpy as np, matplotlib.pyplot as plt\n",
      " \n",
      "x = numpy.linspace(0, 1, 100)\n",
      "y = numpy.sin(2 * numpy.pi * x)\n",
      "\n",
      "show()\n",
      "pyplot.plot(x, y)\n",
      "pyplot.show()\n",
      "\n"
     ]
    }
   ],
   "source": [
    "print(re.sub(fr'{asname}(\\.[a-zA-Z_]+)', fr'{name}\\1', res))"
   ]
  },
  {
   "cell_type": "code",
   "execution_count": 37,
   "metadata": {},
   "outputs": [
    {
     "name": "stdout",
     "output_type": "stream",
     "text": [
      "Python Library Documentation: function show in module matplotlib.pyplot\n",
      "\n",
      "show(*args, **kwargs) -> 'None'\n",
      "    Display all open figures.\n",
      "    \n",
      "    Parameters\n",
      "    ----------\n",
      "    block : bool, optional\n",
      "        Whether to wait for all figures to be closed before returning.\n",
      "    \n",
      "        If `True` block and run the GUI main loop until all figure windows\n",
      "        are closed.\n",
      "    \n",
      "        If `False` ensure that all figure windows are displayed and return\n",
      "        immediately.  In this case, you are responsible for ensuring\n",
      "        that the event loop is running to have responsive figures.\n",
      "    \n",
      "        Defaults to True in non-interactive mode and to False in interactive\n",
      "        mode (see `.pyplot.isinteractive`).\n",
      "    \n",
      "    See Also\n",
      "    --------\n",
      "    ion : Enable interactive mode, which shows / updates the figure after\n",
      "          every plotting command, so that calling ``show()`` is not necessary.\n",
      "    ioff : Disable interactive mode.\n",
      "    savefig : Save the figure to an image file instead of showing it on screen.\n",
      "    \n",
      "    Notes\n",
      "    -----\n",
      "    **Saving figures to file and showing a window at the same time**\n",
      "    \n",
      "    If you want an image file as well as a user interface window, use\n",
      "    `.pyplot.savefig` before `.pyplot.show`. At the end of (a blocking)\n",
      "    ``show()`` the figure is closed and thus unregistered from pyplot. Calling\n",
      "    `.pyplot.savefig` afterwards would save a new and thus empty figure. This\n",
      "    limitation of command order does not apply if the show is non-blocking or\n",
      "    if you keep a reference to the figure and use `.Figure.savefig`.\n",
      "    \n",
      "    **Auto-show in jupyter notebooks**\n",
      "    \n",
      "    The jupyter backends (activated via ``%matplotlib inline``,\n",
      "    ``%matplotlib notebook``, or ``%matplotlib widget``), call ``show()`` at\n",
      "    the end of every cell by default. Thus, you usually don't have to call it\n",
      "    explicitly there.\n",
      "\n"
     ]
    }
   ],
   "source": [
    "print(pydoc.render_doc(sh))"
   ]
  },
  {
   "cell_type": "code",
   "execution_count": 1,
   "metadata": {},
   "outputs": [],
   "source": [
    "from matplotlib import pyplot"
   ]
  },
  {
   "cell_type": "code",
   "execution_count": 3,
   "metadata": {},
   "outputs": [],
   "source": [
    "from matplotlib.pyplot import show"
   ]
  },
  {
   "cell_type": "code",
   "execution_count": 4,
   "metadata": {},
   "outputs": [
    {
     "data": {
      "text/plain": [
       "\"\\n    Display all open figures.\\n\\n    Parameters\\n    ----------\\n    block : bool, optional\\n        Whether to wait for all figures to be closed before returning.\\n\\n        If `True` block and run the GUI main loop until all figure windows\\n        are closed.\\n\\n        If `False` ensure that all figure windows are displayed and return\\n        immediately.  In this case, you are responsible for ensuring\\n        that the event loop is running to have responsive figures.\\n\\n        Defaults to True in non-interactive mode and to False in interactive\\n        mode (see `.pyplot.isinteractive`).\\n\\n    See Also\\n    --------\\n    ion : Enable interactive mode, which shows / updates the figure after\\n          every plotting command, so that calling ``show()`` is not necessary.\\n    ioff : Disable interactive mode.\\n    savefig : Save the figure to an image file instead of showing it on screen.\\n\\n    Notes\\n    -----\\n    **Saving figures to file and showing a window at the same time**\\n\\n    If you want an image file as well as a user interface window, use\\n    `.pyplot.savefig` before `.pyplot.show`. At the end of (a blocking)\\n    ``show()`` the figure is closed and thus unregistered from pyplot. Calling\\n    `.pyplot.savefig` afterwards would save a new and thus empty figure. This\\n    limitation of command order does not apply if the show is non-blocking or\\n    if you keep a reference to the figure and use `.Figure.savefig`.\\n\\n    **Auto-show in jupyter notebooks**\\n\\n    The jupyter backends (activated via ``%matplotlib inline``,\\n    ``%matplotlib notebook``, or ``%matplotlib widget``), call ``show()`` at\\n    the end of every cell by default. Thus, you usually don't have to call it\\n    explicitly there.\\n    \""
      ]
     },
     "execution_count": 4,
     "metadata": {},
     "output_type": "execute_result"
    }
   ],
   "source": []
  },
  {
   "cell_type": "markdown",
   "id": "d3032725-aef9-4b9e-b5cc-f0fb09e63870",
   "metadata": {},
   "source": [
    "# Replace alias with package name"
   ]
  },
  {
   "cell_type": "code",
   "execution_count": 4,
   "id": "6e3b453b-c3fc-4b2c-b556-59634803a13b",
   "metadata": {},
   "outputs": [],
   "source": [
    "lines = res.splitlines()"
   ]
  },
  {
   "cell_type": "code",
   "execution_count": 5,
   "id": "81104f3d-b974-43f9-8d31-b774be7a2d97",
   "metadata": {},
   "outputs": [],
   "source": [
    "nps = re.findall(fr'{packages[0][\"asname\"]}\\.[a-zA-Z]+', res)"
   ]
  },
  {
   "cell_type": "code",
   "execution_count": 6,
   "id": "1fbdc89a-f161-46da-bcfb-963efe6b5236",
   "metadata": {},
   "outputs": [
    {
     "name": "stdout",
     "output_type": "stream",
     "text": [
      "['np.array', 'np.ones', 'np.sum', 'np.linspace', 'np.sin', 'np.pi']\n"
     ]
    }
   ],
   "source": [
    "print(nps)"
   ]
  },
  {
   "cell_type": "code",
   "execution_count": 7,
   "id": "a6d43da4-f022-44a5-88d8-10e03a3bf1b5",
   "metadata": {},
   "outputs": [],
   "source": [
    "pakNames = []"
   ]
  },
  {
   "cell_type": "code",
   "execution_count": 8,
   "id": "655b4393-1970-4b49-98c9-38c975eb18e2",
   "metadata": {},
   "outputs": [
    {
     "data": {
      "text/plain": [
       "True"
      ]
     },
     "execution_count": 8,
     "metadata": {},
     "output_type": "execute_result"
    }
   ],
   "source": [
    "'module' in packages[-1]"
   ]
  },
  {
   "cell_type": "code",
   "execution_count": 31,
   "id": "147d2c68-1225-444c-ab08-487e7548f7e5",
   "metadata": {},
   "outputs": [],
   "source": [
    "documentations = []"
   ]
  },
  {
   "cell_type": "code",
   "execution_count": 13,
   "id": "a9644f65-d740-4d1b-98dd-c2b28bd2dab4",
   "metadata": {},
   "outputs": [
    {
     "data": {
      "text/plain": [
       "True"
      ]
     },
     "execution_count": 13,
     "metadata": {},
     "output_type": "execute_result"
    }
   ],
   "source": [
    "import sys\n",
    "\"matplotlib\" in sys.modules"
   ]
  },
  {
   "cell_type": "code",
   "execution_count": 93,
   "metadata": {},
   "outputs": [],
   "source": [
    "from matplotlib.pyplot import *"
   ]
  },
  {
   "cell_type": "code",
   "execution_count": 95,
   "metadata": {},
   "outputs": [],
   "source": [
    "from numpy import array"
   ]
  },
  {
   "cell_type": "code",
   "execution_count": 99,
   "metadata": {},
   "outputs": [],
   "source": [
    "docs = \"from matplotlib.pyplot.show \"\n",
    "module_api = \"array\"\n",
    "module_name = \"numpy\""
   ]
  },
  {
   "cell_type": "code",
   "execution_count": 107,
   "metadata": {},
   "outputs": [],
   "source": [
    "module_api = \"show\"\n",
    "module_name = \"matplotlib.pyplot\""
   ]
  },
  {
   "cell_type": "code",
   "execution_count": 121,
   "metadata": {},
   "outputs": [],
   "source": [
    "module_api = \"pyplot\"\n",
    "module_name = \"matplotlib\""
   ]
  },
  {
   "cell_type": "code",
   "execution_count": 129,
   "metadata": {},
   "outputs": [
    {
     "data": {
      "text/plain": [
       "['import numpy as np',\n",
       " 'from numpy as array',\n",
       " 'from matplotlib import pyplot',\n",
       " 'from matplotlib.pyplot import plot, show']"
      ]
     },
     "execution_count": 129,
     "metadata": {},
     "output_type": "execute_result"
    }
   ],
   "source": [
    "\"\"\"\n",
    "Create a class that has the functions the module dynamically from a string of the code snippet. The code snippet should cover all the test cases.\n",
    "\"\"\"\n",
    "class CodeSnippet:\n",
    "    def __init__(self, code):\n",
    "        self.code = code\n",
    "        self.imports = []\n",
    "        self.modules = []\n",
    "        self.functions = []\n",
    "        self.classes = []\n",
    "        self.variables = []\n",
    "        self.comments = []\n",
    "        self.lines = code.splitlines()\n",
    "        self.parse()\n",
    "\n",
    "    def parse(self):\n",
    "        for line in self.lines:\n",
    "            if line.startswith(\"#\"):\n",
    "                self.comments.append(line)\n",
    "            elif line.startswith(\"import\"):\n",
    "                self.imports.append(line)\n",
    "            elif line.startswith(\"from\"):\n",
    "                self.imports.append(line)\n",
    "            elif line.startswith(\"class\"):\n",
    "                self.classes.append(line)\n",
    "            elif line.startswith(\"def\"):\n",
    "                self.functions.append(line)\n",
    "            else:\n",
    "                self.variables.append(line)\n",
    "\n",
    "    def get_imports(self):\n",
    "        return self.imports\n",
    "\n",
    "    def get_modules(self):\n",
    "        return self.modules\n",
    "\n",
    "    def get_functions(self):\n",
    "        return self.functions\n",
    "\n",
    "    def get_classes(self):\n",
    "        return self.classes\n",
    "\n",
    "    def get_variables(self):\n",
    "        return self.variables\n",
    "\n",
    "    def get_comments(self):\n",
    "        return self.comments\n",
    "\n",
    "    def get_lines(self):\n",
    "        return self.lines\n",
    "\n",
    "    def get_code(self):\n",
    "        return self.code\n",
    "\n",
    "    def __str__(self):\n",
    "        return self.code\n",
    "\n",
    "    def __repr__(self):\n",
    "        return self.code\n",
    "\n",
    "\n",
    "code_snippet = CodeSnippet(res)\n",
    "code_snippet.get_imports()"
   ]
  },
  {
   "cell_type": "code",
   "execution_count": 152,
   "metadata": {},
   "outputs": [],
   "source": [
    "spec = importlib.util.find_spec(\"matplotlib.pyplot\")\n",
    "module = importlib.util.module_from_spec(spec)\n",
    "spec.loader.exec_module(module)"
   ]
  },
  {
   "cell_type": "code",
   "execution_count": 153,
   "metadata": {},
   "outputs": [
    {
     "data": {
      "text/plain": [
       "True"
      ]
     },
     "execution_count": 153,
     "metadata": {},
     "output_type": "execute_result"
    }
   ],
   "source": [
    "\"\"\"check if a module has a attribute or not E.G. matplotlib has pyplot attribute\"\"\"\n",
    "hasattr(module, \"show\")"
   ]
  },
  {
   "cell_type": "code",
   "execution_count": 170,
   "metadata": {},
   "outputs": [],
   "source": [
    "res = \"from matplotlib.pyplot import show\""
   ]
  },
  {
   "cell_type": "code",
   "execution_count": 172,
   "metadata": {},
   "outputs": [],
   "source": [
    "res = \"from matplotlib import pyplot\""
   ]
  },
  {
   "cell_type": "code",
   "execution_count": 181,
   "metadata": {},
   "outputs": [],
   "source": [
    "res = \"from matplotlib.pyplot import show, plot\""
   ]
  },
  {
   "cell_type": "code",
   "execution_count": 188,
   "metadata": {},
   "outputs": [
    {
     "name": "stdout",
     "output_type": "stream",
     "text": [
      "True\n",
      "matplotlib.pyplot show\n",
      "True\n",
      "matplotlib.pyplot plot\n"
     ]
    }
   ],
   "source": [
    "for node in ast.walk(ast.parse(res)):\n",
    "    if \"module\" in node.__dir__():\n",
    "        spec = importlib.util.find_spec(node.module)\n",
    "        module = importlib.util.module_from_spec(spec)\n",
    "        spec.loader.exec_module(module)\n",
    "        \n",
    "        for name in node.names:\n",
    "            if not hasattr(module, name.name):\n",
    "                print(False)\n",
    "            else:\n",
    "                print(True)\n",
    "            print(node.module, name.name)"
   ]
  },
  {
   "cell_type": "code",
   "execution_count": 191,
   "metadata": {},
   "outputs": [],
   "source": [
    "from matplotlib import pyplot as py"
   ]
  },
  {
   "cell_type": "code",
   "execution_count": 192,
   "metadata": {},
   "outputs": [
    {
     "data": {
      "text/plain": [
       "<function matplotlib.pyplot.show(close=None, block=None)>"
      ]
     },
     "execution_count": 192,
     "metadata": {},
     "output_type": "execute_result"
    }
   ],
   "source": [
    "py.show"
   ]
  },
  {
   "cell_type": "code",
   "execution_count": 186,
   "metadata": {},
   "outputs": [],
   "source": [
    "\"\"\"\n",
    "Write a function that takes a code snippet and imports the from statements modules and attribuites\n",
    "Before importing it check if the attrbute is actually present in the module and if not then import\n",
    "the module with the attribute.\n",
    "\"\"\"\n",
    "def import_from_statement(code):\n",
    "    for node in ast.walk(ast.parse(code)):\n",
    "        if \"module\" in node.__dir__():\n",
    "            spec = importlib.util.find_spec(node.module)\n",
    "            module = importlib.util.module_from_spec(spec)\n",
    "            spec.loader.exec_module(module)\n",
    "\n",
    "            for name in node.names:\n",
    "                if not hasattr(module, name.name):\n",
    "                    print(False)\n",
    "                else:\n",
    "                    print(True)\n",
    "                print(node.module, name.name)"
   ]
  },
  {
   "cell_type": "code",
   "execution_count": 123,
   "metadata": {},
   "outputs": [
    {
     "name": "stdout",
     "output_type": "stream",
     "text": [
      "module_api\n",
      "Python Library Documentation: function show in module matplotlib.pyplot\n",
      "\n",
      "show(close=None, block=None)\n",
      "    Display all open figures.\n",
      "    \n",
      "    Parameters\n",
      "    ----------\n",
      "    block : bool, optional\n",
      "        Whether to wait for all figures to be closed before returning.\n",
      "    \n",
      "        If `True` block and run the GUI main loop until all figure windows\n",
      "        are closed.\n",
      "    \n",
      "        If `False` ensure that all figure windows are displayed and return\n",
      "        immediately.  In this case, you are responsible for ensuring\n",
      "        that the event loop is running to have responsive figures.\n",
      "    \n",
      "        Defaults to True in non-interactive mode and to False in interactive\n",
      "        mode (see `.pyplot.isinteractive`).\n",
      "    \n",
      "    See Also\n",
      "    --------\n",
      "    ion : Enable interactive mode, which shows / updates the figure after\n",
      "          every plotting command, so that calling ``show()`` is not necessary.\n",
      "    ioff : Disable interactive mode.\n",
      "    savefig : Save the figure to an image file instead of showing it on screen.\n",
      "    \n",
      "    Notes\n",
      "    -----\n",
      "    **Saving figures to file and showing a window at the same time**\n",
      "    \n",
      "    If you want an image file as well as a user interface window, use\n",
      "    `.pyplot.savefig` before `.pyplot.show`. At the end of (a blocking)\n",
      "    ``show()`` the figure is closed and thus unregistered from pyplot. Calling\n",
      "    `.pyplot.savefig` afterwards would save a new and thus empty figure. This\n",
      "    limitation of command order does not apply if the show is non-blocking or\n",
      "    if you keep a reference to the figure and use `.Figure.savefig`.\n",
      "    \n",
      "    **Auto-show in jupyter notebooks**\n",
      "    \n",
      "    The jupyter backends (activated via ``%matplotlib inline``,\n",
      "    ``%matplotlib notebook``, or ``%matplotlib widget``), call ``show()`` at\n",
      "    the end of every cell by default. Thus, you usually don't have to call it\n",
      "    explicitly there.\n",
      "\n"
     ]
    }
   ],
   "source": [
    "if len(module_name.split(\".\")) > 1:\n",
    "    module = importlib.import_module(module_name)\n",
    "    module_apis = pydoc.render_doc(getattr(module, module_api))\n",
    "else:\n",
    "    module = importlib.import_module(\".\".join([module_name, module_api]))\n",
    "    module_apis = pydoc.render_doc(getattr(module, \"show\"))\n",
    "    print(\"module_api\")\n",
    "print(module_apis)\n",
    "# print(module_api.__doc__)"
   ]
  },
  {
   "cell_type": "code",
   "execution_count": 106,
   "metadata": {},
   "outputs": [],
   "source": [
    "spec = importlib.util.find_spec(\"matplotlib.pyplot\")\n",
    "module = importlib.util.module_from_spec(spec)\n",
    "spec.loader.exec_module(module)\n",
    "\n",
    "# print(pydoc.render_doc())"
   ]
  },
  {
   "cell_type": "code",
   "execution_count": 1,
   "metadata": {},
   "outputs": [],
   "source": [
    "import numpy as np, matplotlib.pyplot as plt"
   ]
  },
  {
   "cell_type": "code",
   "execution_count": 85,
   "metadata": {},
   "outputs": [],
   "source": [
    "documentations = []"
   ]
  },
  {
   "cell_type": "code",
   "execution_count": 86,
   "id": "3fc0b48a-b501-4416-bed7-24cb08c21245",
   "metadata": {},
   "outputs": [
    {
     "name": "stderr",
     "output_type": "stream",
     "text": [
      "/tmp/ipykernel_553962/1994217152.py:38: UserWarning: The NumPy module was reloaded (imported a second time). This can in some cases result in small but subtle issues and is discouraged.\n",
      "  spec.loader.exec_module(module)\n",
      "/tmp/ipykernel_553962/1994217152.py:38: UserWarning: The NumPy module was reloaded (imported a second time). This can in some cases result in small but subtle issues and is discouraged.\n",
      "  spec.loader.exec_module(module)\n",
      "/tmp/ipykernel_553962/1994217152.py:38: UserWarning: The NumPy module was reloaded (imported a second time). This can in some cases result in small but subtle issues and is discouraged.\n",
      "  spec.loader.exec_module(module)\n",
      "/tmp/ipykernel_553962/1994217152.py:38: UserWarning: The NumPy module was reloaded (imported a second time). This can in some cases result in small but subtle issues and is discouraged.\n",
      "  spec.loader.exec_module(module)\n",
      "/tmp/ipykernel_553962/1994217152.py:38: UserWarning: The NumPy module was reloaded (imported a second time). This can in some cases result in small but subtle issues and is discouraged.\n",
      "  spec.loader.exec_module(module)\n",
      "/tmp/ipykernel_553962/1994217152.py:38: UserWarning: The NumPy module was reloaded (imported a second time). This can in some cases result in small but subtle issues and is discouraged.\n",
      "  spec.loader.exec_module(module)\n"
     ]
    },
    {
     "ename": "ValueError",
     "evalue": "too many values to unpack (expected 2)",
     "output_type": "error",
     "traceback": [
      "\u001b[0;31m---------------------------------------------------------------------------\u001b[0m",
      "\u001b[0;31mValueError\u001b[0m                                Traceback (most recent call last)",
      "\u001b[1;32m/home/kushal/Projects/llmcoder/23ws-LLMcoder/experimental/generate-documentations.ipynb Cell 76\u001b[0m line \u001b[0;36m3\n\u001b[1;32m     <a href='vscode-notebook-cell:/home/kushal/Projects/llmcoder/23ws-LLMcoder/experimental/generate-documentations.ipynb#Y116sZmlsZQ%3D%3D?line=31'>32</a>\u001b[0m package_references \u001b[39m=\u001b[39m [re\u001b[39m.\u001b[39msub(module_function, package_module, package_reference) \u001b[39mfor\u001b[39;00m package_reference \u001b[39min\u001b[39;00m package_references]    \n\u001b[1;32m     <a href='vscode-notebook-cell:/home/kushal/Projects/llmcoder/23ws-LLMcoder/experimental/generate-documentations.ipynb#Y116sZmlsZQ%3D%3D?line=32'>33</a>\u001b[0m \u001b[39mfor\u001b[39;00m package_reference \u001b[39min\u001b[39;00m package_references:\n\u001b[0;32m---> <a href='vscode-notebook-cell:/home/kushal/Projects/llmcoder/23ws-LLMcoder/experimental/generate-documentations.ipynb#Y116sZmlsZQ%3D%3D?line=33'>34</a>\u001b[0m     package_module, package_function \u001b[39m=\u001b[39m package_reference\u001b[39m.\u001b[39msplit(\u001b[39m\"\u001b[39m\u001b[39m.\u001b[39m\u001b[39m\"\u001b[39m)\n\u001b[1;32m     <a href='vscode-notebook-cell:/home/kushal/Projects/llmcoder/23ws-LLMcoder/experimental/generate-documentations.ipynb#Y116sZmlsZQ%3D%3D?line=34'>35</a>\u001b[0m     \u001b[39mif\u001b[39;00m last_module \u001b[39m!=\u001b[39m package_module:\n\u001b[1;32m     <a href='vscode-notebook-cell:/home/kushal/Projects/llmcoder/23ws-LLMcoder/experimental/generate-documentations.ipynb#Y116sZmlsZQ%3D%3D?line=35'>36</a>\u001b[0m         spec \u001b[39m=\u001b[39m importlib\u001b[39m.\u001b[39mutil\u001b[39m.\u001b[39mfind_spec(package_module)\n",
      "\u001b[0;31mValueError\u001b[0m: too many values to unpack (expected 2)"
     ]
    }
   ],
   "source": [
    "for package in packages:\n",
    "    if \"module\" in package:\n",
    "        module_name = package[\"module\"]\n",
    "        module_api = package[\"name\"]\n",
    "        \n",
    "        spec = importlib.util.find_spec(module_name)\n",
    "        print(module_name)\n",
    "        module = importlib.util.module_from_spec(spec)\n",
    "        spec.loader.exec_module(module)\n",
    "\n",
    "        function_definition = getattr(module, module_api)\n",
    "        documentation = pydoc.render_doc(function_definition)\n",
    "        documentations.append({\"module\": \".\".join([package_module, module_function]), \"documentation\": documentation})\n",
    "    else:\n",
    "        last_module = None\n",
    "        package_module = package[\"name\"]\n",
    "        module_function = package[\"asname\"]\n",
    "\n",
    "        if module_function is None:\n",
    "            package_references = re.findall(rf\"{package['name']}\\.[a-zA-Z]+\", res)\n",
    "            package_references = [package_reference.rsplit('.', 1) for package_reference in package_references]\n",
    "            \n",
    "            for package_module, module_function in package_references:\n",
    "                spec = importlib.util.find_spec(package_module)\n",
    "                module = importlib.util.module_from_spec(spec)\n",
    "                spec.loader.exec_module(module)\n",
    "                function_definition = getattr(module, module_function)\n",
    "                documentation = pydoc.render_doc(function_definition)\n",
    "                documentations.append({\"module\": \".\".join([package_module, module_function]), \"documentation\": documentation})\n",
    "        else:\n",
    "            package_references = re.findall(rf\"{package['asname']}\\.[a-zA-Z]+\", res)\n",
    "            package_references = [re.sub(module_function, package_module, package_reference) for package_reference in package_references]    \n",
    "            for package_reference in package_references:\n",
    "                package_module, package_function = package_reference.split(\".\")\n",
    "                if last_module != package_module:\n",
    "                    spec = importlib.util.find_spec(package_module)\n",
    "                    module = importlib.util.module_from_spec(spec)\n",
    "                    spec.loader.exec_module(module)\n",
    "                    last_module = module\n",
    "                function_definition = getattr(module, package_function)\n",
    "                documentation = pydoc.render_doc(function_definition)\n",
    "                documentations.append({\"module\": package_reference, \"documentation\": documentation})\n",
    "\n",
    "with open(\"example-documentation.json\", \"w\") as json_file:\n",
    "    json.dump(documentations, json_file, ensure_ascii=False, indent=4)"
   ]
  },
  {
   "cell_type": "code",
   "execution_count": 19,
   "id": "fdf47232-1930-4b7e-9347-be3c1dfc8f0f",
   "metadata": {},
   "outputs": [],
   "source": [
    "import tiktoken\n",
    "import "
   ]
  },
  {
   "cell_type": "code",
   "execution_count": 25,
   "id": "4b0f1a36-0822-494c-a099-4bb87da76664",
   "metadata": {},
   "outputs": [],
   "source": [
    "enc = tiktoken.get_encoding(\"p50k_base\")\n",
    "here = enc.encode(\"\\n\".join([documentation[\"documentation\"] for documentation in documentations]))"
   ]
  },
  {
   "cell_type": "code",
   "execution_count": 26,
   "id": "de8642c1-ab14-46f7-a7dc-bd3af07ea1c1",
   "metadata": {},
   "outputs": [
    {
     "data": {
      "text/plain": [
       "7984"
      ]
     },
     "execution_count": 26,
     "metadata": {},
     "output_type": "execute_result"
    }
   ],
   "source": [
    "len(here)"
   ]
  },
  {
   "cell_type": "code",
   "execution_count": 12,
   "id": "7e5cb287-d584-4ba6-aa76-1715afb1713c",
   "metadata": {},
   "outputs": [
    {
     "data": {
      "text/plain": [
       "[{'module': 'numpy.array',\n",
       "  'documentation': \"Python Library Documentation: built-in function array in module numpy\\n\\na\\x08ar\\x08rr\\x08ra\\x08ay\\x08y(...)\\n    array(object, dtype=None, *, copy=True, order='K', subok=False, ndmin=0,\\n          like=None)\\n    \\n    Create an array.\\n    \\n    Parameters\\n    ----------\\n    object : array_like\\n        An array, any object exposing the array interface, an object whose\\n        ``__array__`` method returns an array, or any (nested) sequence.\\n        If object is a scalar, a 0-dimensional array containing object is\\n        returned.\\n    dtype : data-type, optional\\n        The desired data-type for the array. If not given, NumPy will try to use\\n        a default ``dtype`` that can represent the values (by applying promotion\\n        rules when necessary.)\\n    copy : bool, optional\\n        If true (default), then the object is copied.  Otherwise, a copy will\\n        only be made if ``__array__`` returns a copy, if obj is a nested\\n        sequence, or if a copy is needed to satisfy any of the other\\n        requirements (``dtype``, ``order``, etc.).\\n    order : {'K', 'A', 'C', 'F'}, optional\\n        Specify the memory layout of the array. If object is not an array, the\\n        newly created array will be in C order (row major) unless 'F' is\\n        specified, in which case it will be in Fortran order (column major).\\n        If object is an array the following holds.\\n    \\n        ===== ========= ===================================================\\n        order  no copy                     copy=True\\n        ===== ========= ===================================================\\n        'K'   unchanged F & C order preserved, otherwise most similar order\\n        'A'   unchanged F order if input is F and not C, otherwise C order\\n        'C'   C order   C order\\n        'F'   F order   F order\\n        ===== ========= ===================================================\\n    \\n        When ``copy=False`` and a copy is made for other reasons, the result is\\n        the same as if ``copy=True``, with some exceptions for 'A', see the\\n        Notes section. The default order is 'K'.\\n    subok : bool, optional\\n        If True, then sub-classes will be passed-through, otherwise\\n        the returned array will be forced to be a base-class array (default).\\n    ndmin : int, optional\\n        Specifies the minimum number of dimensions that the resulting\\n        array should have.  Ones will be prepended to the shape as\\n        needed to meet this requirement.\\n    like : array_like, optional\\n        Reference object to allow the creation of arrays which are not\\n        NumPy arrays. If an array-like passed in as ``like`` supports\\n        the ``__array_function__`` protocol, the result will be defined\\n        by it. In this case, it ensures the creation of an array object\\n        compatible with that passed in via this argument.\\n    \\n        .. versionadded:: 1.20.0\\n    \\n    Returns\\n    -------\\n    out : ndarray\\n        An array object satisfying the specified requirements.\\n    \\n    See Also\\n    --------\\n    empty_like : Return an empty array with shape and type of input.\\n    ones_like : Return an array of ones with shape and type of input.\\n    zeros_like : Return an array of zeros with shape and type of input.\\n    full_like : Return a new array with shape of input filled with value.\\n    empty : Return a new uninitialized array.\\n    ones : Return a new array setting values to one.\\n    zeros : Return a new array setting values to zero.\\n    full : Return a new array of given shape filled with value.\\n    \\n    \\n    Notes\\n    -----\\n    When order is 'A' and ``object`` is an array in neither 'C' nor 'F' order,\\n    and a copy is forced by a change in dtype, then the order of the result is\\n    not necessarily 'C' as expected. This is likely a bug.\\n    \\n    Examples\\n    --------\\n    >>> np.array([1, 2, 3])\\n    array([1, 2, 3])\\n    \\n    Upcasting:\\n    \\n    >>> np.array([1, 2, 3.0])\\n    array([ 1.,  2.,  3.])\\n    \\n    More than one dimension:\\n    \\n    >>> np.array([[1, 2], [3, 4]])\\n    array([[1, 2],\\n           [3, 4]])\\n    \\n    Minimum dimensions 2:\\n    \\n    >>> np.array([1, 2, 3], ndmin=2)\\n    array([[1, 2, 3]])\\n    \\n    Type provided:\\n    \\n    >>> np.array([1, 2, 3], dtype=complex)\\n    array([ 1.+0.j,  2.+0.j,  3.+0.j])\\n    \\n    Data-type consisting of more than one element:\\n    \\n    >>> x = np.array([(1,2),(3,4)],dtype=[('a','<i4'),('b','<i4')])\\n    >>> x['a']\\n    array([1, 3])\\n    \\n    Creating an array from sub-classes:\\n    \\n    >>> np.array(np.mat('1 2; 3 4'))\\n    array([[1, 2],\\n           [3, 4]])\\n    \\n    >>> np.array(np.mat('1 2; 3 4'), subok=True)\\n    matrix([[1, 2],\\n            [3, 4]])\\n\"},\n",
       " {'module': 'numpy.ones',\n",
       "  'documentation': \"Python Library Documentation: function ones in module numpy\\n\\no\\x08on\\x08ne\\x08es\\x08s(shape, dtype=None, order='C', *, like=None)\\n    Return a new array of given shape and type, filled with ones.\\n    \\n    Parameters\\n    ----------\\n    shape : int or sequence of ints\\n        Shape of the new array, e.g., ``(2, 3)`` or ``2``.\\n    dtype : data-type, optional\\n        The desired data-type for the array, e.g., `numpy.int8`.  Default is\\n        `numpy.float64`.\\n    order : {'C', 'F'}, optional, default: C\\n        Whether to store multi-dimensional data in row-major\\n        (C-style) or column-major (Fortran-style) order in\\n        memory.\\n    like : array_like, optional\\n        Reference object to allow the creation of arrays which are not\\n        NumPy arrays. If an array-like passed in as ``like`` supports\\n        the ``__array_function__`` protocol, the result will be defined\\n        by it. In this case, it ensures the creation of an array object\\n        compatible with that passed in via this argument.\\n    \\n        .. versionadded:: 1.20.0\\n    \\n    Returns\\n    -------\\n    out : ndarray\\n        Array of ones with the given shape, dtype, and order.\\n    \\n    See Also\\n    --------\\n    ones_like : Return an array of ones with shape and type of input.\\n    empty : Return a new uninitialized array.\\n    zeros : Return a new array setting values to zero.\\n    full : Return a new array of given shape filled with value.\\n    \\n    \\n    Examples\\n    --------\\n    >>> np.ones(5)\\n    array([1., 1., 1., 1., 1.])\\n    \\n    >>> np.ones((5,), dtype=int)\\n    array([1, 1, 1, 1, 1])\\n    \\n    >>> np.ones((2, 1))\\n    array([[1.],\\n           [1.]])\\n    \\n    >>> s = (2,2)\\n    >>> np.ones(s)\\n    array([[1.,  1.],\\n           [1.,  1.]])\\n\"},\n",
       " {'module': 'numpy.sum',\n",
       "  'documentation': 'Python Library Documentation: _ArrayFunctionDispatcher in module numpy\\n\\ns\\x08su\\x08um\\x08m(a, axis=None, dtype=None, out=None, keepdims=<no value>, initial=<no value>, where=<no value>)\\n    Sum of array elements over a given axis.\\n    \\n    Parameters\\n    ----------\\n    a : array_like\\n        Elements to sum.\\n    axis : None or int or tuple of ints, optional\\n        Axis or axes along which a sum is performed.  The default,\\n        axis=None, will sum all of the elements of the input array.  If\\n        axis is negative it counts from the last to the first axis.\\n    \\n        .. versionadded:: 1.7.0\\n    \\n        If axis is a tuple of ints, a sum is performed on all of the axes\\n        specified in the tuple instead of a single axis or all the axes as\\n        before.\\n    dtype : dtype, optional\\n        The type of the returned array and of the accumulator in which the\\n        elements are summed.  The dtype of `a` is used by default unless `a`\\n        has an integer dtype of less precision than the default platform\\n        integer.  In that case, if `a` is signed then the platform integer\\n        is used while if `a` is unsigned then an unsigned integer of the\\n        same precision as the platform integer is used.\\n    out : ndarray, optional\\n        Alternative output array in which to place the result. It must have\\n        the same shape as the expected output, but the type of the output\\n        values will be cast if necessary.\\n    keepdims : bool, optional\\n        If this is set to True, the axes which are reduced are left\\n        in the result as dimensions with size one. With this option,\\n        the result will broadcast correctly against the input array.\\n    \\n        If the default value is passed, then `keepdims` will not be\\n        passed through to the `sum` method of sub-classes of\\n        `ndarray`, however any non-default value will be.  If the\\n        sub-class\\' method does not implement `keepdims` any\\n        exceptions will be raised.\\n    initial : scalar, optional\\n        Starting value for the sum. See `~numpy.ufunc.reduce` for details.\\n    \\n        .. versionadded:: 1.15.0\\n    \\n    where : array_like of bool, optional\\n        Elements to include in the sum. See `~numpy.ufunc.reduce` for details.\\n    \\n        .. versionadded:: 1.17.0\\n    \\n    Returns\\n    -------\\n    sum_along_axis : ndarray\\n        An array with the same shape as `a`, with the specified\\n        axis removed.   If `a` is a 0-d array, or if `axis` is None, a scalar\\n        is returned.  If an output array is specified, a reference to\\n        `out` is returned.\\n    \\n    See Also\\n    --------\\n    ndarray.sum : Equivalent method.\\n    \\n    add.reduce : Equivalent functionality of `add`.\\n    \\n    cumsum : Cumulative sum of array elements.\\n    \\n    trapz : Integration of array values using the composite trapezoidal rule.\\n    \\n    mean, average\\n    \\n    Notes\\n    -----\\n    Arithmetic is modular when using integer types, and no error is\\n    raised on overflow.\\n    \\n    The sum of an empty array is the neutral element 0:\\n    \\n    >>> np.sum([])\\n    0.0\\n    \\n    For floating point numbers the numerical precision of sum (and\\n    ``np.add.reduce``) is in general limited by directly adding each number\\n    individually to the result causing rounding errors in every step.\\n    However, often numpy will use a  numerically better approach (partial\\n    pairwise summation) leading to improved precision in many use-cases.\\n    This improved precision is always provided when no ``axis`` is given.\\n    When ``axis`` is given, it will depend on which axis is summed.\\n    Technically, to provide the best speed possible, the improved precision\\n    is only used when the summation is along the fast axis in memory.\\n    Note that the exact precision may vary depending on other parameters.\\n    In contrast to NumPy, Python\\'s ``math.fsum`` function uses a slower but\\n    more precise approach to summation.\\n    Especially when summing a large number of lower precision floating point\\n    numbers, such as ``float32``, numerical errors can become significant.\\n    In such cases it can be advisable to use `dtype=\"float64\"` to use a higher\\n    precision for the output.\\n    \\n    Examples\\n    --------\\n    >>> np.sum([0.5, 1.5])\\n    2.0\\n    >>> np.sum([0.5, 0.7, 0.2, 1.5], dtype=np.int32)\\n    1\\n    >>> np.sum([[0, 1], [0, 5]])\\n    6\\n    >>> np.sum([[0, 1], [0, 5]], axis=0)\\n    array([0, 6])\\n    >>> np.sum([[0, 1], [0, 5]], axis=1)\\n    array([1, 5])\\n    >>> np.sum([[0, 1], [np.nan, 5]], where=[False, True], axis=1)\\n    array([1., 5.])\\n    \\n    If the accumulator is too small, overflow occurs:\\n    \\n    >>> np.ones(128, dtype=np.int8).sum(dtype=np.int8)\\n    -128\\n    \\n    You can also start the sum with a value other than zero:\\n    \\n    >>> np.sum([10], initial=5)\\n    15\\n'},\n",
       " {'module': 'numpy.linspace',\n",
       "  'documentation': \"Python Library Documentation: _ArrayFunctionDispatcher in module numpy\\n\\nl\\x08li\\x08in\\x08ns\\x08sp\\x08pa\\x08ac\\x08ce\\x08e(start, stop, num=50, endpoint=True, retstep=False, dtype=None, axis=0)\\n    Return evenly spaced numbers over a specified interval.\\n    \\n    Returns `num` evenly spaced samples, calculated over the\\n    interval [`start`, `stop`].\\n    \\n    The endpoint of the interval can optionally be excluded.\\n    \\n    .. versionchanged:: 1.16.0\\n        Non-scalar `start` and `stop` are now supported.\\n    \\n    .. versionchanged:: 1.20.0\\n        Values are rounded towards ``-inf`` instead of ``0`` when an\\n        integer ``dtype`` is specified. The old behavior can\\n        still be obtained with ``np.linspace(start, stop, num).astype(int)``\\n    \\n    Parameters\\n    ----------\\n    start : array_like\\n        The starting value of the sequence.\\n    stop : array_like\\n        The end value of the sequence, unless `endpoint` is set to False.\\n        In that case, the sequence consists of all but the last of ``num + 1``\\n        evenly spaced samples, so that `stop` is excluded.  Note that the step\\n        size changes when `endpoint` is False.\\n    num : int, optional\\n        Number of samples to generate. Default is 50. Must be non-negative.\\n    endpoint : bool, optional\\n        If True, `stop` is the last sample. Otherwise, it is not included.\\n        Default is True.\\n    retstep : bool, optional\\n        If True, return (`samples`, `step`), where `step` is the spacing\\n        between samples.\\n    dtype : dtype, optional\\n        The type of the output array.  If `dtype` is not given, the data type\\n        is inferred from `start` and `stop`. The inferred dtype will never be\\n        an integer; `float` is chosen even if the arguments would produce an\\n        array of integers.\\n    \\n        .. versionadded:: 1.9.0\\n    \\n    axis : int, optional\\n        The axis in the result to store the samples.  Relevant only if start\\n        or stop are array-like.  By default (0), the samples will be along a\\n        new axis inserted at the beginning. Use -1 to get an axis at the end.\\n    \\n        .. versionadded:: 1.16.0\\n    \\n    Returns\\n    -------\\n    samples : ndarray\\n        There are `num` equally spaced samples in the closed interval\\n        ``[start, stop]`` or the half-open interval ``[start, stop)``\\n        (depending on whether `endpoint` is True or False).\\n    step : float, optional\\n        Only returned if `retstep` is True\\n    \\n        Size of spacing between samples.\\n    \\n    \\n    See Also\\n    --------\\n    arange : Similar to `linspace`, but uses a step size (instead of the\\n             number of samples).\\n    geomspace : Similar to `linspace`, but with numbers spaced evenly on a log\\n                scale (a geometric progression).\\n    logspace : Similar to `geomspace`, but with the end points specified as\\n               logarithms.\\n    :ref:`how-to-partition`\\n    \\n    Examples\\n    --------\\n    >>> np.linspace(2.0, 3.0, num=5)\\n    array([2.  , 2.25, 2.5 , 2.75, 3.  ])\\n    >>> np.linspace(2.0, 3.0, num=5, endpoint=False)\\n    array([2. ,  2.2,  2.4,  2.6,  2.8])\\n    >>> np.linspace(2.0, 3.0, num=5, retstep=True)\\n    (array([2.  ,  2.25,  2.5 ,  2.75,  3.  ]), 0.25)\\n    \\n    Graphical illustration:\\n    \\n    >>> import matplotlib.pyplot as plt\\n    >>> N = 8\\n    >>> y = np.zeros(N)\\n    >>> x1 = np.linspace(0, 10, N, endpoint=True)\\n    >>> x2 = np.linspace(0, 10, N, endpoint=False)\\n    >>> plt.plot(x1, y, 'o')\\n    [<matplotlib.lines.Line2D object at 0x...>]\\n    >>> plt.plot(x2, y + 0.5, 'o')\\n    [<matplotlib.lines.Line2D object at 0x...>]\\n    >>> plt.ylim([-0.5, 1])\\n    (-0.5, 1)\\n    >>> plt.show()\\n\"},\n",
       " {'module': 'numpy.sin',\n",
       "  'documentation': \"Python Library Documentation: ufunc\\n\\ns\\x08si\\x08in\\x08n = <ufunc 'sin'>\\n    sin(x, /, out=None, *, where=True, casting='same_kind', order='K', dtype=None, subok=True[, signature, extobj])\\n    \\n    Trigonometric sine, element-wise.\\n    \\n    Parameters\\n    ----------\\n    x : array_like\\n        Angle, in radians (:math:`2 \\\\pi` rad equals 360 degrees).\\n    out : ndarray, None, or tuple of ndarray and None, optional\\n        A location into which the result is stored. If provided, it must have\\n        a shape that the inputs broadcast to. If not provided or None,\\n        a freshly-allocated array is returned. A tuple (possible only as a\\n        keyword argument) must have length equal to the number of outputs.\\n    where : array_like, optional\\n        This condition is broadcast over the input. At locations where the\\n        condition is True, the `out` array will be set to the ufunc result.\\n        Elsewhere, the `out` array will retain its original value.\\n        Note that if an uninitialized `out` array is created via the default\\n        ``out=None``, locations within it where the condition is False will\\n        remain uninitialized.\\n    **kwargs\\n        For other keyword-only arguments, see the\\n        :ref:`ufunc docs <ufuncs.kwargs>`.\\n    \\n    Returns\\n    -------\\n    y : array_like\\n        The sine of each element of x.\\n        This is a scalar if `x` is a scalar.\\n    \\n    See Also\\n    --------\\n    arcsin, sinh, cos\\n    \\n    Notes\\n    -----\\n    The sine is one of the fundamental functions of trigonometry (the\\n    mathematical study of triangles).  Consider a circle of radius 1\\n    centered on the origin.  A ray comes in from the :math:`+x` axis, makes\\n    an angle at the origin (measured counter-clockwise from that axis), and\\n    departs from the origin.  The :math:`y` coordinate of the outgoing\\n    ray's intersection with the unit circle is the sine of that angle.  It\\n    ranges from -1 for :math:`x=3\\\\pi / 2` to +1 for :math:`\\\\pi / 2.`  The\\n    function has zeroes where the angle is a multiple of :math:`\\\\pi`.\\n    Sines of angles between :math:`\\\\pi` and :math:`2\\\\pi` are negative.\\n    The numerous properties of the sine and related functions are included\\n    in any standard trigonometry text.\\n    \\n    Examples\\n    --------\\n    Print sine of one angle:\\n    \\n    >>> np.sin(np.pi/2.)\\n    1.0\\n    \\n    Print sines of an array of angles given in degrees:\\n    \\n    >>> np.sin(np.array((0., 30., 45., 60., 90.)) * np.pi / 180. )\\n    array([ 0.        ,  0.5       ,  0.70710678,  0.8660254 ,  1.        ])\\n    \\n    Plot the sine function:\\n    \\n    >>> import matplotlib.pylab as plt\\n    >>> x = np.linspace(-np.pi, np.pi, 201)\\n    >>> plt.plot(x, np.sin(x))\\n    >>> plt.xlabel('Angle [rad]')\\n    >>> plt.ylabel('sin(x)')\\n    >>> plt.axis('tight')\\n    >>> plt.show()\\n\"},\n",
       " {'module': 'numpy.pi',\n",
       "  'documentation': \"Python Library Documentation: float object\\n\\nclass f\\x08fl\\x08lo\\x08oa\\x08at\\x08t(object)\\n |  float(x=0, /)\\n |  \\n |  Convert a string or number to a floating point number, if possible.\\n |  \\n |  Methods defined here:\\n |  \\n |  _\\x08__\\x08_a\\x08ab\\x08bs\\x08s_\\x08__\\x08_(self, /)\\n |      abs(self)\\n |  \\n |  _\\x08__\\x08_a\\x08ad\\x08dd\\x08d_\\x08__\\x08_(self, value, /)\\n |      Return self+value.\\n |  \\n |  _\\x08__\\x08_b\\x08bo\\x08oo\\x08ol\\x08l_\\x08__\\x08_(self, /)\\n |      True if self else False\\n |  \\n |  _\\x08__\\x08_c\\x08ce\\x08ei\\x08il\\x08l_\\x08__\\x08_(self, /)\\n |      Return the ceiling as an Integral.\\n |  \\n |  _\\x08__\\x08_d\\x08di\\x08iv\\x08vm\\x08mo\\x08od\\x08d_\\x08__\\x08_(self, value, /)\\n |      Return divmod(self, value).\\n |  \\n |  _\\x08__\\x08_e\\x08eq\\x08q_\\x08__\\x08_(self, value, /)\\n |      Return self==value.\\n |  \\n |  _\\x08__\\x08_f\\x08fl\\x08lo\\x08oa\\x08at\\x08t_\\x08__\\x08_(self, /)\\n |      float(self)\\n |  \\n |  _\\x08__\\x08_f\\x08fl\\x08lo\\x08oo\\x08or\\x08r_\\x08__\\x08_(self, /)\\n |      Return the floor as an Integral.\\n |  \\n |  _\\x08__\\x08_f\\x08fl\\x08lo\\x08oo\\x08or\\x08rd\\x08di\\x08iv\\x08v_\\x08__\\x08_(self, value, /)\\n |      Return self//value.\\n |  \\n |  _\\x08__\\x08_f\\x08fo\\x08or\\x08rm\\x08ma\\x08at\\x08t_\\x08__\\x08_(self, format_spec, /)\\n |      Formats the float according to format_spec.\\n |  \\n |  _\\x08__\\x08_g\\x08ge\\x08e_\\x08__\\x08_(self, value, /)\\n |      Return self>=value.\\n |  \\n |  _\\x08__\\x08_g\\x08ge\\x08et\\x08ta\\x08at\\x08tt\\x08tr\\x08ri\\x08ib\\x08bu\\x08ut\\x08te\\x08e_\\x08__\\x08_(self, name, /)\\n |      Return getattr(self, name).\\n |  \\n |  _\\x08__\\x08_g\\x08ge\\x08et\\x08tn\\x08ne\\x08ew\\x08wa\\x08ar\\x08rg\\x08gs\\x08s_\\x08__\\x08_(self, /)\\n |  \\n |  _\\x08__\\x08_g\\x08gt\\x08t_\\x08__\\x08_(self, value, /)\\n |      Return self>value.\\n |  \\n |  _\\x08__\\x08_h\\x08ha\\x08as\\x08sh\\x08h_\\x08__\\x08_(self, /)\\n |      Return hash(self).\\n |  \\n |  _\\x08__\\x08_i\\x08in\\x08nt\\x08t_\\x08__\\x08_(self, /)\\n |      int(self)\\n |  \\n |  _\\x08__\\x08_l\\x08le\\x08e_\\x08__\\x08_(self, value, /)\\n |      Return self<=value.\\n |  \\n |  _\\x08__\\x08_l\\x08lt\\x08t_\\x08__\\x08_(self, value, /)\\n |      Return self<value.\\n |  \\n |  _\\x08__\\x08_m\\x08mo\\x08od\\x08d_\\x08__\\x08_(self, value, /)\\n |      Return self%value.\\n |  \\n |  _\\x08__\\x08_m\\x08mu\\x08ul\\x08l_\\x08__\\x08_(self, value, /)\\n |      Return self*value.\\n |  \\n |  _\\x08__\\x08_n\\x08ne\\x08e_\\x08__\\x08_(self, value, /)\\n |      Return self!=value.\\n |  \\n |  _\\x08__\\x08_n\\x08ne\\x08eg\\x08g_\\x08__\\x08_(self, /)\\n |      -self\\n |  \\n |  _\\x08__\\x08_p\\x08po\\x08os\\x08s_\\x08__\\x08_(self, /)\\n |      +self\\n |  \\n |  _\\x08__\\x08_p\\x08po\\x08ow\\x08w_\\x08__\\x08_(self, value, mod=None, /)\\n |      Return pow(self, value, mod).\\n |  \\n |  _\\x08__\\x08_r\\x08ra\\x08ad\\x08dd\\x08d_\\x08__\\x08_(self, value, /)\\n |      Return value+self.\\n |  \\n |  _\\x08__\\x08_r\\x08rd\\x08di\\x08iv\\x08vm\\x08mo\\x08od\\x08d_\\x08__\\x08_(self, value, /)\\n |      Return divmod(value, self).\\n |  \\n |  _\\x08__\\x08_r\\x08re\\x08ep\\x08pr\\x08r_\\x08__\\x08_(self, /)\\n |      Return repr(self).\\n |  \\n |  _\\x08__\\x08_r\\x08rf\\x08fl\\x08lo\\x08oo\\x08or\\x08rd\\x08di\\x08iv\\x08v_\\x08__\\x08_(self, value, /)\\n |      Return value//self.\\n |  \\n |  _\\x08__\\x08_r\\x08rm\\x08mo\\x08od\\x08d_\\x08__\\x08_(self, value, /)\\n |      Return value%self.\\n |  \\n |  _\\x08__\\x08_r\\x08rm\\x08mu\\x08ul\\x08l_\\x08__\\x08_(self, value, /)\\n |      Return value*self.\\n |  \\n |  _\\x08__\\x08_r\\x08ro\\x08ou\\x08un\\x08nd\\x08d_\\x08__\\x08_(self, ndigits=None, /)\\n |      Return the Integral closest to x, rounding half toward even.\\n |      \\n |      When an argument is passed, work like built-in round(x, ndigits).\\n |  \\n |  _\\x08__\\x08_r\\x08rp\\x08po\\x08ow\\x08w_\\x08__\\x08_(self, value, mod=None, /)\\n |      Return pow(value, self, mod).\\n |  \\n |  _\\x08__\\x08_r\\x08rs\\x08su\\x08ub\\x08b_\\x08__\\x08_(self, value, /)\\n |      Return value-self.\\n |  \\n |  _\\x08__\\x08_r\\x08rt\\x08tr\\x08ru\\x08ue\\x08ed\\x08di\\x08iv\\x08v_\\x08__\\x08_(self, value, /)\\n |      Return value/self.\\n |  \\n |  _\\x08__\\x08_s\\x08su\\x08ub\\x08b_\\x08__\\x08_(self, value, /)\\n |      Return self-value.\\n |  \\n |  _\\x08__\\x08_t\\x08tr\\x08ru\\x08ue\\x08ed\\x08di\\x08iv\\x08v_\\x08__\\x08_(self, value, /)\\n |      Return self/value.\\n |  \\n |  _\\x08__\\x08_t\\x08tr\\x08ru\\x08un\\x08nc\\x08c_\\x08__\\x08_(self, /)\\n |      Return the Integral closest to x between 0 and x.\\n |  \\n |  a\\x08as\\x08s_\\x08_i\\x08in\\x08nt\\x08te\\x08eg\\x08ge\\x08er\\x08r_\\x08_r\\x08ra\\x08at\\x08ti\\x08io\\x08o(self, /)\\n |      Return integer ratio.\\n |      \\n |      Return a pair of integers, whose ratio is exactly equal to the original float\\n |      and with a positive denominator.\\n |      \\n |      Raise OverflowError on infinities and a ValueError on NaNs.\\n |      \\n |      >>> (10.0).as_integer_ratio()\\n |      (10, 1)\\n |      >>> (0.0).as_integer_ratio()\\n |      (0, 1)\\n |      >>> (-.25).as_integer_ratio()\\n |      (-1, 4)\\n |  \\n |  c\\x08co\\x08on\\x08nj\\x08ju\\x08ug\\x08ga\\x08at\\x08te\\x08e(self, /)\\n |      Return self, the complex conjugate of any float.\\n |  \\n |  h\\x08he\\x08ex\\x08x(self, /)\\n |      Return a hexadecimal representation of a floating-point number.\\n |      \\n |      >>> (-0.1).hex()\\n |      '-0x1.999999999999ap-4'\\n |      >>> 3.14159.hex()\\n |      '0x1.921f9f01b866ep+1'\\n |  \\n |  i\\x08is\\x08s_\\x08_i\\x08in\\x08nt\\x08te\\x08eg\\x08ge\\x08er\\x08r(self, /)\\n |      Return True if the float is an integer.\\n |  \\n |  ----------------------------------------------------------------------\\n |  Class methods defined here:\\n |  \\n |  _\\x08__\\x08_g\\x08ge\\x08et\\x08tf\\x08fo\\x08or\\x08rm\\x08ma\\x08at\\x08t_\\x08__\\x08_(typestr, /) from builtins.type\\n |      You probably don't want to use this function.\\n |      \\n |        typestr\\n |          Must be 'double' or 'float'.\\n |      \\n |      It exists mainly to be used in Python's test suite.\\n |      \\n |      This function returns whichever of 'unknown', 'IEEE, big-endian' or 'IEEE,\\n |      little-endian' best describes the format of floating point numbers used by the\\n |      C type named by typestr.\\n |  \\n |  f\\x08fr\\x08ro\\x08om\\x08mh\\x08he\\x08ex\\x08x(string, /) from builtins.type\\n |      Create a floating-point number from a hexadecimal string.\\n |      \\n |      >>> float.fromhex('0x1.ffffp10')\\n |      2047.984375\\n |      >>> float.fromhex('-0x1p-1074')\\n |      -5e-324\\n |  \\n |  ----------------------------------------------------------------------\\n |  Static methods defined here:\\n |  \\n |  _\\x08__\\x08_n\\x08ne\\x08ew\\x08w_\\x08__\\x08_(*args, **kwargs) from builtins.type\\n |      Create and return a new object.  See help(type) for accurate signature.\\n |  \\n |  ----------------------------------------------------------------------\\n |  Data descriptors defined here:\\n |  \\n |  i\\x08im\\x08ma\\x08ag\\x08g\\n |      the imaginary part of a complex number\\n |  \\n |  r\\x08re\\x08ea\\x08al\\x08l\\n |      the real part of a complex number\\n\"},\n",
       " {'module': 'matplotlib.pyplot.show',\n",
       "  'documentation': \"Python Library Documentation: function show\\n\\ns\\x08sh\\x08ho\\x08ow\\x08w(*args, **kwargs) -> 'None'\\n    Display all open figures.\\n    \\n    Parameters\\n    ----------\\n    block : bool, optional\\n        Whether to wait for all figures to be closed before returning.\\n    \\n        If `True` block and run the GUI main loop until all figure windows\\n        are closed.\\n    \\n        If `False` ensure that all figure windows are displayed and return\\n        immediately.  In this case, you are responsible for ensuring\\n        that the event loop is running to have responsive figures.\\n    \\n        Defaults to True in non-interactive mode and to False in interactive\\n        mode (see `.pyplot.isinteractive`).\\n    \\n    See Also\\n    --------\\n    ion : Enable interactive mode, which shows / updates the figure after\\n          every plotting command, so that calling ``show()`` is not necessary.\\n    ioff : Disable interactive mode.\\n    savefig : Save the figure to an image file instead of showing it on screen.\\n    \\n    Notes\\n    -----\\n    **Saving figures to file and showing a window at the same time**\\n    \\n    If you want an image file as well as a user interface window, use\\n    `.pyplot.savefig` before `.pyplot.show`. At the end of (a blocking)\\n    ``show()`` the figure is closed and thus unregistered from pyplot. Calling\\n    `.pyplot.savefig` afterwards would save a new and thus empty figure. This\\n    limitation of command order does not apply if the show is non-blocking or\\n    if you keep a reference to the figure and use `.Figure.savefig`.\\n    \\n    **Auto-show in jupyter notebooks**\\n    \\n    The jupyter backends (activated via ``%matplotlib inline``,\\n    ``%matplotlib notebook``, or ``%matplotlib widget``), call ``show()`` at\\n    the end of every cell by default. Thus, you usually don't have to call it\\n    explicitly there.\\n\"}]"
      ]
     },
     "execution_count": 12,
     "metadata": {},
     "output_type": "execute_result"
    }
   ],
   "source": [
    "documentations"
   ]
  },
  {
   "cell_type": "code",
   "execution_count": 11,
   "id": "9e8f2cb1-8c99-418a-b2fc-de6afc13c84f",
   "metadata": {},
   "outputs": [
    {
     "ename": "SyntaxError",
     "evalue": "invalid syntax (2074393657.py, line 1)",
     "output_type": "error",
     "traceback": [
      "\u001b[0;36m  Cell \u001b[0;32mIn[11], line 1\u001b[0;36m\u001b[0m\n\u001b[0;31m    spec = importlib.util.\u001b[0m\n\u001b[0m                          ^\u001b[0m\n\u001b[0;31mSyntaxError\u001b[0m\u001b[0;31m:\u001b[0m invalid syntax\n"
     ]
    }
   ],
   "source": [
    "spec = importlib.util."
   ]
  },
  {
   "cell_type": "code",
   "execution_count": null,
   "id": "fd16a79e-1c6a-41b3-88e9-eccf506571a6",
   "metadata": {},
   "outputs": [],
   "source": [
    "re.findall(r'np\\.[a-zA-Z]+', res)"
   ]
  },
  {
   "cell_type": "code",
   "execution_count": null,
   "id": "084552ad-ebfc-4256-99b0-530ec49436c7",
   "metadata": {},
   "outputs": [],
   "source": [
    "print(documentations)"
   ]
  },
  {
   "cell_type": "code",
   "execution_count": null,
   "id": "da5b06b8-1cd7-4121-9d1e-f757fa7f4eac",
   "metadata": {},
   "outputs": [],
   "source": [
    "pakDef = [re.sub(packages[0][\"asname\"], packages[0][\"name\"], np) for np in nps]"
   ]
  },
  {
   "cell_type": "code",
   "execution_count": null,
   "id": "2dd29796-5279-40ff-af13-0cd50ee9b5df",
   "metadata": {},
   "outputs": [],
   "source": [
    "pakDef"
   ]
  },
  {
   "cell_type": "code",
   "execution_count": null,
   "id": "d972c99c-2754-425e-b933-74c1e3c40806",
   "metadata": {},
   "outputs": [],
   "source": [
    "module = importlib.import_module(\"matplotlib.pyplot\")"
   ]
  },
  {
   "cell_type": "code",
   "execution_count": null,
   "id": "283f22aa-32ba-48ad-b9ab-bf1b0975641d",
   "metadata": {},
   "outputs": [],
   "source": [
    "module = importlib.import_module(\"matplotlib\")"
   ]
  },
  {
   "cell_type": "code",
   "execution_count": null,
   "id": "d5880c7f-d6fe-422b-8fa1-63afd799a3dc",
   "metadata": {},
   "outputs": [],
   "source": [
    "help(importlib.util.find_spec)"
   ]
  },
  {
   "cell_type": "code",
   "execution_count": null,
   "id": "8cdef8fd-799b-4a0c-984e-4c08fb3b8ec0",
   "metadata": {},
   "outputs": [],
   "source": [
    "help(importlib.util.module_from_spec)"
   ]
  },
  {
   "cell_type": "code",
   "execution_count": null,
   "id": "17ad8956-dc3e-483c-a069-278f5053c754",
   "metadata": {},
   "outputs": [],
   "source": [
    "spec = importlib.util.find_spec(\"numpy\")\n",
    "print(help(spec.loader.exec_module))"
   ]
  },
  {
   "cell_type": "code",
   "execution_count": null,
   "id": "f1d85379-edbf-4bec-81d6-a53a85939276",
   "metadata": {},
   "outputs": [],
   "source": [
    "spec = importlib.util.find_spec(\"matplotlib\")\n",
    "module = importlib.util.module_from_spec(spec)\n",
    "spec.loader.exec_module(module)"
   ]
  },
  {
   "cell_type": "code",
   "execution_count": null,
   "id": "f5c27083-40ac-4a5b-a101-d3a70a338998",
   "metadata": {},
   "outputs": [],
   "source": [
    "import matplotlib"
   ]
  },
  {
   "cell_type": "code",
   "execution_count": null,
   "id": "8696d775-d5a5-41aa-b0f3-4c53445e6cbd",
   "metadata": {},
   "outputs": [],
   "source": [
    "matplotlib.pyplot.show"
   ]
  },
  {
   "cell_type": "code",
   "execution_count": null,
   "id": "781b232a-1bb7-4cdc-b4d5-2d9fe382926f",
   "metadata": {},
   "outputs": [],
   "source": [
    "func = eval(\"matplotlib\"+\".pyplot\")"
   ]
  },
  {
   "cell_type": "code",
   "execution_count": null,
   "id": "b47936a4-70cf-4c8f-bf46-d039ca82696a",
   "metadata": {},
   "outputs": [],
   "source": [
    "getattr(module, \"pyplot.show\")"
   ]
  },
  {
   "cell_type": "code",
   "execution_count": null,
   "id": "d0d0b052-0399-42c9-be2a-399d722c4299",
   "metadata": {},
   "outputs": [],
   "source": [
    "getattr(getattr(module, \"pyplot.show\"), \"\")"
   ]
  },
  {
   "cell_type": "code",
   "execution_count": null,
   "id": "9de68321-43a7-42e1-b720-0058307721a4",
   "metadata": {},
   "outputs": [],
   "source": [
    "for function in [\"pyplot\", \"show\"]:\n",
    "    func = getattr("
   ]
  },
  {
   "cell_type": "code",
   "execution_count": null,
   "id": "b118439c-ed56-486f-86db-11c0dd24b1bc",
   "metadata": {},
   "outputs": [],
   "source": [
    "import matplotlib"
   ]
  },
  {
   "cell_type": "code",
   "execution_count": null,
   "id": "370b64d7-771f-44bd-9ebe-c6a14c5fb87f",
   "metadata": {},
   "outputs": [],
   "source": [
    "matplotlib.pyplot.__doc__"
   ]
  },
  {
   "cell_type": "code",
   "execution_count": null,
   "id": "e55cc995-c9a6-43fe-b3b9-3c8e9e9869df",
   "metadata": {},
   "outputs": [],
   "source": [
    "import importlib.util\n",
    "import inspect\n",
    "\n",
    "def get_function_docs(module_name, function_name):\n",
    "    try:\n",
    "        # Import the module dynamically\n",
    "        spec = importlib.util.find_spec(module_name)\n",
    "        module = importlib.util.module_from_spec(spec)\n",
    "        spec.loader.exec_module(module)\n",
    "\n",
    "        functions = function_name.split(\".\")\n",
    "\n",
    "        getattr(getattr(module, functions[0]), function[1])\n",
    "\n",
    "        func = getattr(module, functions[0])\n",
    "        for function in functions[1:]:\n",
    "            func = getattr(func, function)\n",
    "        print(func)\n",
    "        # Get the function dynamically\n",
    "        function = getattr(module, function_name)\n",
    "\n",
    "        # Use inspect to get documentation\n",
    "        docstring = inspect.getdoc(func)\n",
    "        return docstring\n",
    "    except (ImportError, AttributeError):\n",
    "        return None\n",
    "\n",
    "if __name__ == \"__main__\":\n",
    "    module_name = \"matplotlib\"\n",
    "    function_name = \"pyplot.show\"\n",
    "\n",
    "    docstring = get_function_docs(module_name, function_name)\n",
    "\n",
    "    if docstring:\n",
    "        print(f\"Documentation for {module_name}.{function_name}:\\n{docstring}\\n\")\n",
    "    else:\n",
    "        print(f\"No documentation found for {module_name}.{function_name}\\n\")"
   ]
  },
  {
   "cell_type": "code",
   "execution_count": null,
   "id": "3d6227fe-b0ee-44ef-b6e0-d625c49121b8",
   "metadata": {},
   "outputs": [],
   "source": [
    "import matplotlib"
   ]
  },
  {
   "cell_type": "code",
   "execution_count": null,
   "id": "996b774c-2195-4a5e-8111-438ac128a5d3",
   "metadata": {},
   "outputs": [],
   "source": [
    "matplotlib.pyplot.show.__doc__"
   ]
  },
  {
   "cell_type": "code",
   "execution_count": null,
   "id": "6b4e71a7-7031-4627-8234-fa02700c9b04",
   "metadata": {},
   "outputs": [],
   "source": [
    "help(getattr(getattr(module, \"pyplot\"), \"show\"))"
   ]
  },
  {
   "cell_type": "code",
   "execution_count": null,
   "id": "dbb0b5bf-2b50-4e13-8291-8b301d0dabbf",
   "metadata": {},
   "outputs": [],
   "source": [
    "print(module.__doc__)"
   ]
  },
  {
   "cell_type": "code",
   "execution_count": null,
   "id": "0a233c77-2649-479c-b480-4ce0fd4b512f",
   "metadata": {},
   "outputs": [],
   "source": [
    "module = importlib.import_module(packages[0][\"name\"])"
   ]
  },
  {
   "cell_type": "code",
   "execution_count": null,
   "id": "6a6e0668-751a-4329-a51d-0515418a6b76",
   "metadata": {},
   "outputs": [],
   "source": [
    "del numpy"
   ]
  },
  {
   "cell_type": "code",
   "execution_count": null,
   "id": "bf0d2a05-f914-4e96-9077-87c57e0700ca",
   "metadata": {},
   "outputs": [],
   "source": [
    "print(help(getattr(module, pakDef[0].split(\".\")[-1])))"
   ]
  },
  {
   "cell_type": "code",
   "execution_count": null,
   "id": "7496a113-0314-415b-8722-4925c5571038",
   "metadata": {},
   "outputs": [],
   "source": [
    "re.sub(fr'{packages[0][\"asname\"]}', packages[0][\"name\"], nps)"
   ]
  },
  {
   "cell_type": "code",
   "execution_count": null,
   "id": "7a6aa3d4-2eb6-424a-a759-29eff9e5fae1",
   "metadata": {},
   "outputs": [],
   "source": [
    "print(pydoc.render_doc(re.search))"
   ]
  },
  {
   "cell_type": "code",
   "execution_count": null,
   "id": "a3632d79-b1ce-463e-b5f2-273c0010b160",
   "metadata": {},
   "outputs": [],
   "source": [
    "print(pydoc.render_doc(re.match))"
   ]
  },
  {
   "cell_type": "code",
   "execution_count": null,
   "id": "ec6b4e24-274b-4b00-83fd-b63dea1b7cd4",
   "metadata": {},
   "outputs": [],
   "source": [
    "re.sub(fr'{packages[0][\"asname\"]}\\.[a-zA-Z]+', packages[0]['name'], res)"
   ]
  },
  {
   "cell_type": "code",
   "execution_count": null,
   "id": "3b1cd9d0-98de-471b-9668-59c0a9b87ac6",
   "metadata": {},
   "outputs": [],
   "source": [
    "print(help(re.sub))"
   ]
  },
  {
   "cell_type": "code",
   "execution_count": null,
   "id": "5f98e3cb-39a5-4a5d-aa23-6a1cc698330b",
   "metadata": {},
   "outputs": [],
   "source": [
    "print(re.__doc__)"
   ]
  },
  {
   "cell_type": "code",
   "execution_count": null,
   "id": "66f83cbd-852b-48c0-b79a-78336cdedbc9",
   "metadata": {},
   "outputs": [],
   "source": [
    "print(help(re))"
   ]
  },
  {
   "cell_type": "code",
   "execution_count": null,
   "id": "a74124d2-0509-4cc3-bd05-98ad460dcf37",
   "metadata": {},
   "outputs": [],
   "source": [
    "print(pydoc.render_doc(re.sub))"
   ]
  },
  {
   "cell_type": "code",
   "execution_count": null,
   "id": "11cadd53-81e8-4ebe-98cb-fd3726453a04",
   "metadata": {},
   "outputs": [],
   "source": [
    "print(pydoc.render_doc(re.search))"
   ]
  },
  {
   "cell_type": "markdown",
   "id": "f2d1f8ed-eac2-4f81-a2ef-2f74a4c80713",
   "metadata": {},
   "source": [
    "# The problem is that there might be other definitionas similar to this that can not be detected"
   ]
  },
  {
   "cell_type": "code",
   "execution_count": null,
   "id": "e9534f6c-61a1-47d1-8fd2-d4fbc44674a8",
   "metadata": {},
   "outputs": [],
   "source": [
    "print(re.Pattern.__doc__)\n",
    "# BTW, This has huge doc for other two methods"
   ]
  },
  {
   "cell_type": "code",
   "execution_count": null,
   "id": "b407974e-50ee-4041-98c5-321d802868b2",
   "metadata": {},
   "outputs": [],
   "source": [
    "print(re.sub.__doc__)"
   ]
  },
  {
   "cell_type": "code",
   "execution_count": null,
   "id": "5fe76da9-5360-4c87-a600-b9d6e8a45872",
   "metadata": {},
   "outputs": [],
   "source": [
    "print(help(re.sub))"
   ]
  },
  {
   "cell_type": "code",
   "execution_count": null,
   "id": "e2d00963-e54e-41fb-b67c-83e4e4a18727",
   "metadata": {},
   "outputs": [],
   "source": [
    "print(pydoc.render_doc(re.sub))"
   ]
  }
 ],
 "metadata": {
  "kernelspec": {
   "display_name": "Python 3 (ipykernel)",
   "language": "python",
   "name": "python3"
  },
  "language_info": {
   "codemirror_mode": {
    "name": "ipython",
    "version": 3
   },
   "file_extension": ".py",
   "mimetype": "text/x-python",
   "name": "python",
   "nbconvert_exporter": "python",
   "pygments_lexer": "ipython3",
   "version": "3.11.5"
  }
 },
 "nbformat": 4,
 "nbformat_minor": 5
}
