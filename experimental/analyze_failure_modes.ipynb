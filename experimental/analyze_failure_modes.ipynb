{
 "cells": [
  {
   "cell_type": "code",
   "execution_count": 1,
   "metadata": {},
   "outputs": [],
   "source": [
    "# Read the resulting conversations\n",
    "# Print the input code from the user\n",
    "# Print the ground truth\n",
    "# Print the LLMcoder completions\n",
    "\n",
    "# Comment the results and analyze and list failure modes\n",
    "# -> Summarize later (using GPT?)\n",
    "\n",
    "# Store?\n",
    "# comments.json for our comments and analysis\n",
    "# /data/LLMcoder-Eval/eval_curated/comments....json\n",
    "# {\n",
    "#     \"<results_id>\": \"<comment>\",\n",
    "#     ...\n",
    "# }"
   ]
  },
  {
   "cell_type": "code",
   "execution_count": 2,
   "metadata": {},
   "outputs": [],
   "source": [
    "import json\n",
    "import os\n",
    "\n",
    "from llmcoder.utils import get_data_dir"
   ]
  },
  {
   "cell_type": "code",
   "execution_count": 3,
   "metadata": {},
   "outputs": [
    {
     "name": "stdout",
     "output_type": "stream",
     "text": [
      "/home/psaegert/Projects/23ws-LLMcoder/data/LLMcoder-Eval/eval_curated\n"
     ]
    }
   ],
   "source": [
    "DATA_DIR = get_data_dir('LLMcoder-Eval/eval_curated')\n",
    "print(DATA_DIR)"
   ]
  },
  {
   "cell_type": "code",
   "execution_count": 4,
   "metadata": {},
   "outputs": [],
   "source": [
    "# Three results for now:\n",
    "# 1) plain GPT-3.5-Turbo\n",
    "# 2) GPT-3.5-Turbo + custom system prompt\n",
    "# 3) Fine-Tuned GPT-3.5-Turbo"
   ]
  },
  {
   "cell_type": "code",
   "execution_count": 5,
   "metadata": {},
   "outputs": [],
   "source": [
    "# Define the ground truth\n",
    "GROUND_TRUTH_FILE = \"conversations.jsonl\"\n",
    "RESULTS_FILE = \"results_baseline_eval-curated_2023-12-01_15-16-45.json\""
   ]
  },
  {
   "cell_type": "code",
   "execution_count": 6,
   "metadata": {},
   "outputs": [
    {
     "name": "stdout",
     "output_type": "stream",
     "text": [
      "Inputs: 90\n",
      "Ground truth: 90\n"
     ]
    }
   ],
   "source": [
    "# Load the inputs and ground truth from the ground truth file\n",
    "with open(os.path.join(DATA_DIR, GROUND_TRUTH_FILE), \"r\") as f:\n",
    "    ground_truth_file = [json.loads(line) for line in f.readlines()]\n",
    "\n",
    "# Extract the input code and ground truth from the ground truth file\n",
    "# The ground truth file is a list of conversations\n",
    "# The input is the message with \"role\": \"user\"\n",
    "# The ground truth is the message with \"tole\": \"assistant\"\n",
    "\n",
    "inputs = []\n",
    "ground_truths = []\n",
    "for conversation in ground_truth_file:\n",
    "    for message in conversation['messages']:\n",
    "        if message[\"role\"] == \"user\":\n",
    "            inputs.append(message[\"content\"])\n",
    "        elif message[\"role\"] == \"assistant\":\n",
    "            ground_truths.append(message[\"content\"])\n",
    "\n",
    "print(f'Inputs: {len(inputs)}')\n",
    "print(f'Ground truth: {len(ground_truths)}')"
   ]
  },
  {
   "cell_type": "code",
   "execution_count": 7,
   "metadata": {},
   "outputs": [],
   "source": [
    "# Load the results\n",
    "with open(os.path.join(DATA_DIR, RESULTS_FILE), 'r') as f:\n",
    "    results = json.load(f)"
   ]
  },
  {
   "cell_type": "code",
   "execution_count": 8,
   "metadata": {},
   "outputs": [],
   "source": [
    "# Create a unified dictionary of inputs, ground truth and results\n",
    "# The keys are the results ids\n",
    "# The values are dictionaries with keys:\n",
    "# - input\n",
    "# - ground_truth\n",
    "# - completion\n",
    "\n",
    "results_dict = {}\n",
    "for input, ground_truth, (result_key, result_value) in zip(inputs, ground_truths, results.items()):\n",
    "    results_dict[result_key] = {\n",
    "        'input': input,\n",
    "        'ground_truth': ground_truth,\n",
    "        'completion': result_value['messages'][-1][\"content\"]\n",
    "    }"
   ]
  },
  {
   "cell_type": "code",
   "execution_count": 9,
   "metadata": {},
   "outputs": [],
   "source": [
    "def add_comment(results_dict, result_id, comment, force=False):\n",
    "    if results_dict[result_id]['comment'] != '' and not force:\n",
    "        print(f'Warning: comment already exists for {result_id}:\\n {results_dict[result_id][\"comment\"]}')\n",
    "    else:\n",
    "        results_dict[result_id]['comment'] = comment"
   ]
  },
  {
   "cell_type": "code",
   "execution_count": 10,
   "metadata": {},
   "outputs": [],
   "source": [
    "for key, value in results_dict.items():\n",
    "    # Write the input, ground truth and completion to a file in ./comparison/result_{key}_{input|ground_truth|completion}.txt\n",
    "    os.makedirs(os.path.join(DATA_DIR, \"comparison\"), exist_ok=True)\n",
    "\n",
    "    # Create a new subfolder for the results\n",
    "    os.makedirs(os.path.join(DATA_DIR, \"comparison\", f\"result_{key}\"), exist_ok=True)\n",
    "\n",
    "    with open(os.path.join(DATA_DIR, \"comparison\", f\"result_{key}\", \"input.py\"), \"w\") as f:\n",
    "        f.write(value['input'])\n",
    "    with open(os.path.join(DATA_DIR, \"comparison\", f\"result_{key}\", \"ground_truth.py\"), \"w\") as f:\n",
    "        f.write(value['ground_truth'])\n",
    "    with open(os.path.join(DATA_DIR, \"comparison\", f\"result_{key}\", \"completion.py\"), \"w\") as f:\n",
    "        f.write(value['completion'])\n",
    "\n",
    "    # Add an empty comment file if it doesn't exist\n",
    "    if not os.path.exists(os.path.join(DATA_DIR, \"comparison\", f\"result_{key}\", \"comment.txt\")):\n",
    "        with open(os.path.join(DATA_DIR, \"comparison\", f\"result_{key}\", \"comment.txt\"), \"w\") as f:\n",
    "            f.write(\"\")"
   ]
  },
  {
   "cell_type": "code",
   "execution_count": null,
   "metadata": {},
   "outputs": [],
   "source": []
  }
 ],
 "metadata": {
  "kernelspec": {
   "display_name": "llmcoder",
   "language": "python",
   "name": "python3"
  },
  "language_info": {
   "codemirror_mode": {
    "name": "ipython",
    "version": 3
   },
   "file_extension": ".py",
   "mimetype": "text/x-python",
   "name": "python",
   "nbconvert_exporter": "python",
   "pygments_lexer": "ipython3",
   "version": "3.11.5"
  }
 },
 "nbformat": 4,
 "nbformat_minor": 2
}
